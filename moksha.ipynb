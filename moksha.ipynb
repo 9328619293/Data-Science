{
 "cells": [
  {
   "cell_type": "markdown",
   "id": "42e55b28",
   "metadata": {},
   "source": [
    "#                                        LAB MANUAL - 1\n",
    "1. What is 7 to the power of 4?"
   ]
  },
  {
   "cell_type": "code",
   "execution_count": 1,
   "id": "911c25d8",
   "metadata": {},
   "outputs": [
    {
     "data": {
      "text/plain": [
       "2401"
      ]
     },
     "execution_count": 1,
     "metadata": {},
     "output_type": "execute_result"
    }
   ],
   "source": [
    "7 ** 4"
   ]
  },
  {
   "cell_type": "markdown",
   "id": "f41e2742",
   "metadata": {},
   "source": [
    "2. Split this string:\n",
    "s = \"Hi there Sam!\"\n",
    "into a list"
   ]
  },
  {
   "cell_type": "code",
   "execution_count": 183,
   "id": "1be7020e",
   "metadata": {},
   "outputs": [
    {
     "data": {
      "text/plain": [
       "['Hi', 'there', 'Sam!']"
      ]
     },
     "execution_count": 183,
     "metadata": {},
     "output_type": "execute_result"
    }
   ],
   "source": [
    "a = \"Hi there Sam!\"\n",
    "a.split()"
   ]
  },
  {
   "cell_type": "markdown",
   "id": "f16aeaae",
   "metadata": {},
   "source": [
    "3. Given the variables:\n",
    "planet = \"Earth\"\n",
    "diameter = 12742\n",
    "Use .format() to print the following string:\n",
    " The diameter of Earth is 12742 kilometers."
   ]
  },
  {
   "cell_type": "code",
   "execution_count": 184,
   "id": "411e7788",
   "metadata": {},
   "outputs": [
    {
     "name": "stdout",
     "output_type": "stream",
     "text": [
      "The diameter of Earth is 12742 kilometers.\n"
     ]
    }
   ],
   "source": [
    "Planet = \"Earth\"\n",
    "Diameter = 12742\n",
    "a = \"The diameter of {} is {} kilometers.\".format(Planet,Diameter)\n",
    "print(a)"
   ]
  },
  {
   "cell_type": "markdown",
   "id": "4436a8f5",
   "metadata": {},
   "source": [
    "4. Given this nested list, use indexing to grab the word \"hello”\n",
    "lst = [1,2,[3,4],[5,[100,200,['hello']],23,11],1,7]"
   ]
  },
  {
   "cell_type": "code",
   "execution_count": 193,
   "id": "fbd8d5a1",
   "metadata": {},
   "outputs": [
    {
     "ename": "SyntaxError",
     "evalue": "unmatched ']' (2525151922.py, line 1)",
     "output_type": "error",
     "traceback": [
      "\u001b[1;36m  File \u001b[1;32m\"C:\\Users\\Moksha\\AppData\\Local\\Temp\\ipykernel_33540\\2525151922.py\"\u001b[1;36m, line \u001b[1;32m1\u001b[0m\n\u001b[1;33m    list[1,2[3,4[5[100,200['hello']],23,11]],1,7]]\u001b[0m\n\u001b[1;37m                                                 ^\u001b[0m\n\u001b[1;31mSyntaxError\u001b[0m\u001b[1;31m:\u001b[0m unmatched ']'\n"
     ]
    }
   ],
   "source": [
    "list[1,2[3,4[5[100,200['hello']],23,11]],1,7]]\n",
    "list[3] [1] [2]"
   ]
  },
  {
   "cell_type": "markdown",
   "id": "5af9a03d",
   "metadata": {},
   "source": [
    "5. Given this nested dictionary grab the word \"hello\".\n",
    "d = {'k1':[1,2,3,{'tricky':['oh','man','inception',{'target':[1,2,3,'hello']}]}]}"
   ]
  },
  {
   "cell_type": "code",
   "execution_count": 5,
   "id": "ad7e745a",
   "metadata": {},
   "outputs": [
    {
     "name": "stdout",
     "output_type": "stream",
     "text": [
      "hello\n"
     ]
    }
   ],
   "source": [
    "d = {'k1': [1, 2, 3, {'tricky': ['oh', 'man', 'inception', {'target': [1, 2, 3, 'hello']}]}]}\n",
    "word_hello = d['k1'][3]['tricky'][3]['target'][3]\n",
    "print(word_hello)"
   ]
  },
  {
   "cell_type": "markdown",
   "id": "8ab5f0e6",
   "metadata": {},
   "source": [
    "6. What is the main difference between a tuple and a list?\n"
   ]
  },
  {
   "cell_type": "markdown",
   "id": "501a3646",
   "metadata": {},
   "source": [
    "7. Create a function that grabs the email website domain from a string in the form: **\n",
    "user@domain.com\n",
    "So for example, passing \"user@domain.com\" would return: domain.com"
   ]
  },
  {
   "cell_type": "code",
   "execution_count": 7,
   "id": "0b2e9a14",
   "metadata": {},
   "outputs": [],
   "source": [
    "def extract_domain (email):\n",
    "    user   = email.split('@')\n",
    "    if len(user)== 2:\n",
    "        domain = User [1]\n",
    "        return domain\n",
    "    else:\n",
    "        return \"Invalid email format\"\n",
    "  \n",
    "    emailaddress = mk4@gmail.com\n",
    "    result = extract_domain(email)\n",
    "    print(result)"
   ]
  },
  {
   "cell_type": "markdown",
   "id": "c91170ae",
   "metadata": {},
   "source": [
    "8. Create a basic function that returns True if the word 'dog' is contained in the input string. Don't\n",
    "worry about edge cases like a punctuation being attached to the word dog, but do account for\n",
    "capitalization. :\n",
    "findDog('Is there a dog here?')"
   ]
  },
  {
   "cell_type": "code",
   "execution_count": 8,
   "id": "93aff4af",
   "metadata": {},
   "outputs": [
    {
     "name": "stdout",
     "output_type": "stream",
     "text": [
      "True\n"
     ]
    }
   ],
   "source": [
    "def findDog(input_string):\n",
    "    lowercased_input = input_string.lower()\n",
    "    target_word = 'dog'\n",
    "    \n",
    "    return target_word in lowercased_input\n",
    "\n",
    "input_string = 'Is there a dog here?'\n",
    "result = findDog(input_string)\n",
    "\n",
    "print(result)"
   ]
  },
  {
   "cell_type": "markdown",
   "id": "6ea1d0f5",
   "metadata": {},
   "source": [
    "9. Use lambda expressions and the filter() function to filter out words from a list that don't start\n",
    "with the letter 's'. For example:**\n",
    "seq = ['soup','dog','salad','cat','great']\n",
    "should be filtered down to:\n",
    "['soup','salad']"
   ]
  },
  {
   "cell_type": "code",
   "execution_count": 26,
   "id": "999e6a01",
   "metadata": {},
   "outputs": [
    {
     "name": "stdout",
     "output_type": "stream",
     "text": [
      "['s', 'e', 'q']\n"
     ]
    }
   ],
   "source": [
    "seq= ['soup', 'dog', 'salad', 'cat', 'great']\n",
    "s= list(filter(lambda wordstartswith: ('s'), ('seq')))\n",
    "print (s)"
   ]
  },
  {
   "cell_type": "markdown",
   "id": "fea1ffea",
   "metadata": {},
   "source": [
    "10. You are driving a little too fast, and a police officer stops you. Write a function to return one of\n",
    "3 possible results: \"No ticket\", \"Small ticket\", or \"Big Ticket\". If your speed is 60 or less, the\n",
    "result is \"No Ticket\". If speed is between 61 and 80 inclusive, the result is \"Small Ticket\". If\n",
    "speed is 81 or more, the result is \"Big Ticket\". Unless it is your birthday (encoded as a boolean\n",
    "value in the parameters of the function) -- on your birthday, your speed can be 5 higher in all\n",
    "cases."
   ]
  },
  {
   "cell_type": "code",
   "execution_count": null,
   "id": "76468a6d",
   "metadata": {},
   "outputs": [],
   "source": [
    "def over_speed (speed, is_birthday):\n",
    "    if is_birthday:\n",
    "        speed-= 5\n",
    "        \n",
    "    if speed <= 60:\n",
    "        return \"No Ticket\"\n",
    "    \n",
    "    elif 61<= speed <= 80:\n",
    "        return \"Small Ticket\"\n",
    "    \n",
    "    else: \n",
    "        return \"Big Ticket\"\n",
    "    \n",
    "speed = int(input(\"enter speed: \"))\n",
    "birthday = false\n",
    "result.over_speeding (speed,birthday)\n",
    "print(result)"
   ]
  },
  {
   "cell_type": "markdown",
   "id": "70ed4e2e",
   "metadata": {},
   "source": [
    "11. Write a program to input roll no, student name, marks of physics, chemistry and maths out of\n",
    "100. (0-100). Calculate total, percentage, calculate STATUS (pass, fail) if students scores\n",
    "above 40 in all the 3 subjects the STATUS should be pass otherwise fail. Calculate GRADE if\n",
    "STATUS is pass.\n",
    "Grade must be based on percentage value\n",
    "if percentage is above 70, then grade must be DISTINCTION if\n",
    "percentage is above 60, then grade must be FIRST CLASS\n",
    "if percentage is above 50, then grade must be SECOND CLASS if\n",
    "percentage is above 40, then grade must be PASS CLASS"
   ]
  },
  {
   "cell_type": "code",
   "execution_count": null,
   "id": "5999ba02",
   "metadata": {},
   "outputs": [],
   "source": []
  },
  {
   "cell_type": "markdown",
   "id": "4bec71cc",
   "metadata": {},
   "source": [
    "#                                                    LAB MANUAL - 2\n",
    "1. Write a OOP in python to input empid, name, basic salary, no. of experience in yrs.\n",
    "Calculate hra(35% of basic), da (58% of basic) and pf (9.5% of basic).\n",
    "Also calculate bonus based on experience in years.\n",
    "If experience in years is >= 30, bonus must be 59% of basic,\n",
    "If experience in years is >=23, bonus must be 51% of basic,\n",
    "If experience in years is >=15, bonus must be 45% of basic,\n",
    "If experience in years is >=7, bonus must be 33% of basic,\n",
    "If experience in years is <7, bonus must be 16% of basic\n",
    "Calculate netsalary as basic+da+hra-pf+bonus.\n",
    "Create a class, constructor to create instance variables, getter-setter for each variable,\n",
    "calculative functions for operative variables. A class methods/function should not contain\n",
    "display specific and input specific code. Such code should be added in driver part of\n",
    "python program.\n"
   ]
  },
  {
   "cell_type": "code",
   "execution_count": 1,
   "id": "db3cde08",
   "metadata": {},
   "outputs": [
    {
     "name": "stdout",
     "output_type": "stream",
     "text": [
      "Enter name: MOKSHA\n",
      "Enter basis salary: 520520520\n",
      "Enter no. of experience in years: 10\n",
      "Enter employee id: 254\n",
      "salary:  955155154.1999999\n"
     ]
    }
   ],
   "source": [
    "name=input(\"Enter name: \")\n",
    "basicsalary=int(input(\"Enter basis salary: \"))\n",
    "exp=int(input(\"Enter no. of experience in years: \"))\n",
    "empid=int(input(\"Enter employee id: \"))\n",
    "bonus = 45/100*basicsalary\n",
    "\n",
    "hra=0.35 *basicsalary\n",
    "da=0.58 * basicsalary\n",
    "pf=0.095 * basicsalary\n",
    "\n",
    "if exp >=30:\n",
    "    bonus = 59/100*basicsalary\n",
    "elif exp  >=23:\n",
    "    bonus = 51/100*basicsalary\n",
    "elif exp  >=15:\n",
    "    bonus = 45/100*basicsalary\n",
    "elif exp  >=7:\n",
    "    bonus = 33/100*basicsalary\n",
    "elif exp <7:\n",
    "    bonus = 16/100*basicsalary\n",
    "    print(\"bonus\")\n",
    "\n",
    "netsalary = basicsalary+da+hra-pf\n",
    "print(\"salary: \",netsalary)"
   ]
  },
  {
   "cell_type": "markdown",
   "id": "b4de281d",
   "metadata": {},
   "source": [
    "2. Write an OOP based Python program which inputs n numbers in a list from keyboard. If 8\n",
    "numbers are inputted, calculate sum of 0th and 7th element and save it in another list say\n",
    "newlist[0], sum of 1st and 6th to newlist[1], sum of 2nd and 5th to newlist[2], sum of 3rd and 4th\n",
    "to newlist[3] and so on. Remove duplicates from newlist if any by converting to set. Later\n",
    "convert it to tuple and display."
   ]
  },
  {
   "cell_type": "code",
   "execution_count": 27,
   "id": "0093a0f9",
   "metadata": {},
   "outputs": [
    {
     "name": "stdout",
     "output_type": "stream",
     "text": [
      "Enter number 1: 5\n",
      "Enter number 2: 2\n",
      "Enter number 3: 3\n",
      "Enter number 4: 1\n",
      "Enter number 5: 2\n",
      "Enter number 6: 5\n",
      "Enter number 7: 6\n",
      "Enter number 8: 1\n",
      "Result Tuple: (8.0, 3.0, 6.0)\n"
     ]
    }
   ],
   "source": [
    "# a=int(input(\"Enter number: \"))\n",
    "# lst = []\n",
    "# sumlst = []\n",
    "# print(\"Enter list elements: \")\n",
    "\n",
    "# for i in range(0,a):\n",
    "#     k=int(input())\n",
    "#     lst.append(k)\n",
    "# print(\"Your list is: \",lst)\n",
    "\n",
    "# begelement = 0\n",
    "# endelement = len(lst)/2\n",
    "# for j in range (0,a//2):\n",
    "#     b = lst[begelement] + lst[endelement]\n",
    "#     begelement +1\n",
    "#     endelement -1\n",
    "#     sumlst.append(b)\n",
    "# print(\"Sum list is: \",sumlst)\n",
    "# setsumlst=sem(sumlst)\n",
    "# print(\"Set is: \",setsumlst)\n",
    "# sumlst= tuple (setsumlst)\n",
    "# print(\"tuple is: \" , sumlst)\n",
    "\n",
    "\n",
    "numbers = [float(input(f\"Enter number {i + 1}: \")) for i in range(8)]\n",
    "newlist = [numbers[i] + numbers[7 - i] for i in range(4)]\n",
    "newlist = list(set(newlist))\n",
    "print(\"Result Tuple:\", tuple(newlist))\n",
    "    "
   ]
  },
  {
   "cell_type": "markdown",
   "id": "409a7287",
   "metadata": {},
   "source": [
    "3. Write an OOP program to perform addition, base and power, concatenation, max, min of two\n",
    "numbers stored in two different objects created from same class.\n",
    "n1=MyNumber(2)\n",
    "n2=MyNumber()\n",
    "n2.setNum(5)\n",
    "n3=n1.add(n2)\n",
    "print(\"Addition is \",n3.getNum()) #7\n",
    "n3=n1.raisedTo(n2)\n",
    "print(n1.getNum(),\" raised to \",n2.getNum(),\" is \",n3.getNum()) #32\n",
    "n3=n1.concat(n2)\n",
    "print(\"Concat answer is \",n3.getNum()) #25\n",
    "n3=n1.max(n2)\n",
    "print(\"Max is \",n3.getNum())"
   ]
  },
  {
   "cell_type": "code",
   "execution_count": 20,
   "id": "0506c367",
   "metadata": {},
   "outputs": [
    {
     "name": "stdout",
     "output_type": "stream",
     "text": [
      "Enter Numbers: 5\n",
      "Enter Numbers: 6\n",
      "5\n",
      "6\n",
      "Sum is:  11\n",
      "Power is:  15625\n",
      "Maximum is:  6\n",
      "Minimum is:  5\n",
      "Concatenation is:  56\n"
     ]
    }
   ],
   "source": [
    "class Numbers:\n",
    "    def __int__(self, num=0):\n",
    "        self.num = num \n",
    "        \n",
    "    def setNum(self, num):\n",
    "        self.num = num\n",
    "    \n",
    "    def getNum(self):\n",
    "        return self.num\n",
    "    \n",
    "    def add(self,n2):\n",
    "        return self.num+n2.num\n",
    "    \n",
    "    def power(self,n2):\n",
    "        return self.num**n2.num\n",
    "    \n",
    "    def maximum(self,n2):\n",
    "        return max(self.num,n2.num)\n",
    "    \n",
    "    def minimum(self,n2):\n",
    "        return min(self.num,n2.num)\n",
    "    \n",
    "    def concat(self,n2):\n",
    "        a = str(self.num) + str(n2.num)\n",
    "        return a\n",
    "\n",
    "\n",
    "n1 = Numbers()\n",
    "n2 = Numbers()\n",
    "n1.setNum(int(input(\"Enter Numbers: \")))\n",
    "n2.setNum(int(input(\"Enter Numbers: \")))\n",
    "print (n1.getNum())\n",
    "print (n2.getNum())\n",
    "print (\"Sum is: \", n1.add(n2))\n",
    "print (\"Power is: \", n1.power(n2))\n",
    "print (\"Maximum is: \", n1.maximum(n2))\n",
    "print (\"Minimum is: \", n1.minimum(n2))\n",
    "print (\"Concatenation is: \", n1.concat(n2))"
   ]
  },
  {
   "cell_type": "markdown",
   "id": "97e9a6f2",
   "metadata": {},
   "source": [
    "# LAB MANUAL - 3\n",
    "1. Write a python program to access following data structure \n",
    "data = [(12345,\"Diksha\", \"Dikshar@nuv.ac.in\"), (45667,\"Jiva\",\"Jiva@nuv.ac.in\"), (16789, \"Ronit\", \"Ronitd@nuv.ac.in\"), (69433, \"Heena\", \"Heena@nuv.ac.in\")]"
   ]
  },
  {
   "cell_type": "code",
   "execution_count": 180,
   "id": "85790536",
   "metadata": {},
   "outputs": [
    {
     "name": "stdout",
     "output_type": "stream",
     "text": [
      "data found:  (69433, 'Heena', 'Heena@nuv.ac.in')\n"
     ]
    }
   ],
   "source": [
    "data = [\n",
    "    (12345, \"Diksha\", \"Dikshar@nuv.ac.in\"),\n",
    "    (45667, \"Jiva\", \"Jiva@nuv.ac.in\"),\n",
    "    (16789, \"Ronit\", \"Ronitd@nuv.ac.in\"),\n",
    "    (69433, \"Heena\", \"Heena@nuv.ac.in\")\n",
    "]\n",
    "\n",
    "# def access_data(search_id):\n",
    "#     for item in data:\n",
    "#         if item [0] == search_id:\n",
    "#             return item \n",
    "\n",
    "\n",
    "# def access_data(search_name):\n",
    "#     for item in data:\n",
    "#         if item [1] == search_name:\n",
    "#             return item \n",
    "        \n",
    "def access_data(search_mail):\n",
    "    for item in data:\n",
    "        if item [2] == search_mail:\n",
    "            return item\n",
    "        \n",
    "search_mail = \"Heena@nuv.ac.in\"\n",
    "result = access_data(search_mail)\n",
    "\n",
    "if result:\n",
    "    print(\"data found: \", result)\n",
    "else:\n",
    "    print(\"data not found for Name: \", result)\n",
    "\n",
    "\n",
    "# for d in data:\n",
    "#     print (d)\n",
    "#     if d[0] == sid:\n",
    "#         print (d)"
   ]
  },
  {
   "cell_type": "markdown",
   "id": "061814fe",
   "metadata": {},
   "source": [
    "2. Write a python program to access following dictionary\n",
    "Mydict =\n",
    "{\"Enrollment Id\" : [12345,45667,16789,69433],\n",
    "\"Student Name : [\"Diksha \",\"Jiva\",\"Ronit\",\"Heena\"],\n",
    "\"Email Id \": [\"Diksha r@nuv.ac.in\",\"Jiva@nuv.ac.in\",\"Ronitd@nuv.ac.in\",\n",
    " \"Heena@nuv.ac.in\"] }\n",
    " print(f\"{enrolid:<7}{sname:12}{emailid:25}\")"
   ]
  },
  {
   "cell_type": "code",
   "execution_count": 182,
   "id": "79c59f3d",
   "metadata": {},
   "outputs": [
    {
     "name": "stdout",
     "output_type": "stream",
     "text": [
      "enter the id: 16789\n",
      "16789\n",
      "Ronit\n",
      "Ronitd@nuv.ac.in\n"
     ]
    }
   ],
   "source": [
    "# Mydict = {\n",
    "#     \"EnrollmentId\": [12345, 45667, 16789, 69433],\n",
    "#     \"Student Name\": [\"Diksha\", \"Jiva\", \"Ronit\", \"Heena\"],\n",
    "#     \"EmailId\": [\"Dikshar@nuv.ac.in\", \"Jiva@nuv.ac.in\", \"Ronitd@nuv.ac.in\", \"Heena@nuv.ac.in\"]\n",
    "# }\n",
    "# value = int(input(\"Enter ID: \"))\n",
    "# for i in range(len(Mydict[\"EnrollmentId\"])):\n",
    "#     if Mydict[\"EnrollmentId\"][i] == value:\n",
    "#         e_id = Mydict[\"EnrollmentId\"][i]\n",
    "#     sname = Mydict[\"Student Name\"][i]\n",
    "#     emailid = Mydict[\"EmailId\"][i]\n",
    "#     print(f\"{e_id:<15}{sname:<15}{emailid:25}\")\n",
    "    \n",
    "# value = input(\"Enter Name: \")\n",
    "# for j in range(len(Mydict[\"Student Name\"])):\n",
    "#     if Mydict[\"Student Name\"][j] == value:\n",
    "#         e_id = Mydict[\"EnrollmentId\"][j] \n",
    "#     sname = Mydict[\"Student Name\"][j]\n",
    "#     emailid = Mydict[\"EmailId\"][j]\n",
    "#     print(f\"{e_id:<15}{sname:<15}{emailid:25}\")\n",
    "\n",
    "# value = input(\"Enter Mail: \")\n",
    "# for k in range(len(Mydict[\"EmailId\"])):\n",
    "#     if Mydict[\"EmailId\"][k] == value:\n",
    "#         e_id = Mydict[\"EnrollmentId\"][k] \n",
    "#     sname = Mydict[\"Student Name\"][k]\n",
    "#     emailid = Mydict[\"EmailId\"][k]\n",
    "#     print(f\"{e_id:<15}{sname:<15}{emailid:25}\")\n",
    "\n",
    "    \n",
    "    \n",
    "    \n",
    "# # print(f\"{'EnrollmentId':<15}{'Student Name':<15}{'EmailId'}\")\n",
    "# uid=int(input(\"Enter ID: \"))\n",
    "# for i in range(len(Mydict[\"EnrollmentId\"])):\n",
    "\n",
    "\n",
    "\n",
    "\n",
    "# Mydict = {\n",
    "#     \"EnrollmentId\": [12345, 45667, 16789, 69433],\n",
    "#     \"Student Name\": [\"Diksha\", \"Jiva\", \"Ronit\", \"Heena\"],\n",
    "#     \"EmailId\": [\"Dikshar@nuv.ac.in\", \"Jiva@nuv.ac.in\", \"Ronitd@nuv.ac.in\", \"Heena@nuv.ac.in\"]\n",
    "# }\n",
    "\n",
    "# enrollment_ids = Mydict[\"EnrollmentId\"]\n",
    "# student_names = Mydict[\"Student Name\"]\n",
    "# email_ids = Mydict[\"EmailId\"]\n",
    "\n",
    "# value = int(input(\"Enter ID: \"))\n",
    "# print(f\"{'EnrollmentId':<15}{'Student Name':<15}{'EmailId':25}\")\n",
    "\n",
    "# for i in range(len(Mydict)):\n",
    "#     if Mydict[\"EnrollmentId\"][i] == value:\n",
    "#         print (Mydict[\"EnrollmentId\"][i])\n",
    "#         print (Mydict[\"Student Name\"][i])\n",
    "#         print (Mydict[\"EmailId\"][i])\n",
    "#         print(f\"{EnrollmentId:<15}{Student Name:<15}{EmailId}\")\n",
    "#         break\n",
    "        \n",
    "#     else:\n",
    "#         print(\"Not found.\")\n",
    "#         break\n",
    "\n",
    "\n",
    "\n",
    "# # print(f\"{'EnrollmentId':<15}{'Student Name':<15}{'EmailId':25}\")\n",
    "\n",
    "# # for i in range(len(Mydict[\"EnrollmentId\"])):\n",
    "# #     if Mydict[\"EnrollmentId\"][i]:\n",
    "# #     print = Mydict[\"EnrollmentId\"][i]\n",
    "# #     s_name = Mydict[\"Student Name\"][i]\n",
    "# #     email_id = Mydict[\"EmailId\"][i]\n",
    "    \n",
    "# # value=12345\n",
    "    \n",
    "mydict={\"Enrollment id\" :[12345,45667,16789,69433],\n",
    "        \"Student Name\" :[\"Diksha\",\"Jiva\",\"Ronit\",\"Heena\"],\n",
    "        \"Email Id\" :[\"Diksha r@nuv.ac.in\",\"Jiva@nuv.ac.in\",\n",
    "                     \"Ronitd@nuv.ac.in\",\"Heena@nuv.ac.in\"]\n",
    "    \n",
    "}\n",
    "\n",
    "mydict[\"Enrollment id\"][2]\n",
    "value=int(input(\"enter the id: \"))\n",
    "for i in range(len(mydict[\"Enrollment id\"])):\n",
    "    if mydict[\"Enrollment id\"][i]==value:\n",
    "        print(mydict[\"Enrollment id\"][i])\n",
    "        print(mydict[\"Student Name\"][i])\n",
    "        print(mydict[\"Email Id\"][i])\n",
    "          "
   ]
  },
  {
   "cell_type": "markdown",
   "id": "b11f1d03",
   "metadata": {},
   "source": [
    "3. Write a python program to convert data in nested list structure to dictionary.\n",
    "eg. data=[(12345,\"Diksha \",\"Diksha r@nuv.ac.in\"),(45667,\"Jiva\",\"Jiva@nuv.ac.in\"),\n",
    "(16789,\"Ronit\",\"Ronit@nuv.ac.in\"),(69433,\"Heena\",\"Heena@nuv.ac.in\")]\n",
    "Provide key such as Enrollment Id, Student Name, and Email id.\n",
    "Resultant Data\n",
    "mydict={\"Enrollment Id\" : [12345,45667,16789,69433],\n",
    "\"Student Name : [\"Diksha \",\"Jiva\",\"Ronit\",\"Heena\"], \"Email Id \"\n",
    ":[\"Diksha@nuv.ac.in\",\"Jiva@nuv.ac.in\",\"Ronitd@nuv.ac.in\",\"Heena@nuv.ac.in\"]\n",
    "}\n",
    "Display data in a tabular format."
   ]
  },
  {
   "cell_type": "code",
   "execution_count": 4,
   "id": "88ba002b",
   "metadata": {},
   "outputs": [
    {
     "data": {
      "text/plain": [
       "{'EnrollmentId': [12345, 45667, 16789, 69433],\n",
       " 'Student Name': ['Diksha', 'Jiva', 'Ronit', 'Heena'],\n",
       " 'EmailId': ['Dikshar@nuv.ac.in',\n",
       "  'Jiva@nuv.ac.in',\n",
       "  'Ronitd@nuv.ac.in',\n",
       "  'Heena@nuv.ac.in']}"
      ]
     },
     "execution_count": 4,
     "metadata": {},
     "output_type": "execute_result"
    }
   ],
   "source": [
    "data = [\n",
    "    (12345,\"Diksha\", \"Dikshar@nuv.ac.in\"),\n",
    "    (45667,\"Jiva\",\"Jiva@nuv.ac.in\"), \n",
    "    (16789, \"Ronit\", \"Ronitd@nuv.ac.in\"),\n",
    "    (69433, \"Heena\", \"Heena@nuv.ac.in\")\n",
    "]\n",
    "\n",
    "\n",
    "Mydict = {\"EnrollmentId\": [ ],\"Student Name\": [ ],\"EmailId\": [ ]}\n",
    "\n",
    "# for d in data:\n",
    "#     Mydict[\"EnrollmentId\"].append (d[0])\n",
    "#     Mydict[\"Student Name\"].append (d[1])\n",
    "#     Mydict[\"EmailId\"].append (d[2])\n",
    "# Mydict\n",
    "\n",
    "Mydict[\"EnrollmentId\"]=[d[0] for d in data]\n",
    "Mydict[\"Student Name\"]=[d[1] for d in data]\n",
    "Mydict[\"EmailId\"]=[d[2] for d in data]\n",
    "Mydict\n",
    "    "
   ]
  },
  {
   "cell_type": "markdown",
   "id": "a5a8d7e3",
   "metadata": {},
   "source": [
    "4. Write a menu driven Object Oriented program to store Students details like Enrollment No,\n",
    "Student Name and Contact Number permanently using dictionary data structure.\n",
    "Add functions to add, update, delete and display data. Save data permanently in a JSON file.\n",
    "HINT:\n",
    "To import json library\n",
    "import json\n",
    "To write any object to python\n",
    "fw=open(\"students.json\",\"w\")\n",
    "jsndata = json.dumps(dictionary of students details)#dumps converts dictionary to json\n",
    "fw.write(jsndata)\n",
    "To read any json object from file\n",
    "fr=open(\"students.json\",\"r\")\n",
    "allStudents=json.load(fr) #reads whole file and returns the data.\n"
   ]
  },
  {
   "cell_type": "code",
   "execution_count": 2,
   "id": "24cc212d",
   "metadata": {},
   "outputs": [
    {
     "data": {
      "text/plain": [
       "{'EnrollmentId': [12345, 45667, 16789, 69433],\n",
       " 'Student Name': ['Diksha', 'Jiva', 'Ronit', 'Heena'],\n",
       " 'EmailId': ['Dikshar@nuv.ac.in',\n",
       "  'Jiva@nuv.ac.in',\n",
       "  'Ronitd@nuv.ac.in',\n",
       "  'Heena@nuv.ac.in']}"
      ]
     },
     "execution_count": 2,
     "metadata": {},
     "output_type": "execute_result"
    }
   ],
   "source": [
    "import json\n",
    "                                                                                 #to write any object to python\n",
    "# fw=open(\"sem4.json\", 'w')                                                         #fw is object, can take any name\n",
    "# jsondata=json.dumps(Mydict)                                                      #jsondata is an object, can take any name\n",
    "# fw.write(jsondata)\n",
    "                                                                           #to read any json object from file\n",
    "fr=open(\"sem4.json\", 'r')\n",
    "allsem4=json.load(fr)                                                                #read whole file and returns the data\n",
    "allsem4"
   ]
  },
  {
   "cell_type": "markdown",
   "id": "79febf85",
   "metadata": {},
   "source": [
    "5. A data.csv file has following data(stateid, name, population in crores, No. of Universities)\n",
    "data.csv\n",
    "12001,Gujarat,10,29,12002,Maharashtra,19,36,12003,Rajasthan,13,31,12004,Madhya\n",
    "Pradesh,14,21,12005,Punjab,12,13,12006,Karnataka,23,31,12007,Tamilnadu,25,29,1208,Keral\n",
    "a,21,15\n",
    "Read data.csv file. Transfer data to data structure like following\n",
    "States={\n",
    "12001: {\"name\":\"Gujarat\",\"population\":10,\"no_of_uni\":20},\n",
    "12002: {\"name\":\"Maharashtra\",\"population\":19,\"no_of_uni\":36}\n",
    "}\n",
    "Using this data, construct dictionary in following manner.\n",
    "import json\n",
    "To write any object to python fw=open(\"students.json\",\"w\")\n",
    "jsndata = json.dumps(dictionary of students details)#dumps converts dictionary to json\n",
    "fw.write(jsndata)\n",
    "To read any json object from file fr=open(\"students.json\",\"r\")\n",
    "allStudents=json.load(fr) #reads whole file and returns the data."
   ]
  },
  {
   "cell_type": "code",
   "execution_count": 1,
   "id": "c3094b81",
   "metadata": {},
   "outputs": [
    {
     "name": "stdout",
     "output_type": "stream",
     "text": [
      "stateid,name,population in crores, No. of Universities\n",
      "\n",
      "12001,Gujarat,10,29,\n",
      "\n",
      "12002,Maharashtra,19,36,\n",
      "\n",
      "12003,Rajashthan,13,31,\n",
      "\n",
      "12004,MadhyaPradesh,14,21,\n",
      "\n",
      "12005,Punjab,12,13,12006,\n",
      "\n",
      "Karnataka,23,31,12007,\n",
      "\n",
      "Tamilnadu,25,29,\n",
      "\n",
      "1208,Kerala,21,15\n"
     ]
    }
   ],
   "source": [
    "import csv\n",
    "states={}\n",
    "with open('Q5data.csv') as csvdata:\n",
    "    creader=csv.reader(csvdata)\n",
    "    header=next(creader)\n",
    "    print(header[0])\n",
    "    for n in creader:\n",
    "        states[r[0]]={\n",
    "            \n",
    "        }\n",
    "        "
   ]
  },
  {
   "cell_type": "markdown",
   "id": "4538882a",
   "metadata": {},
   "source": [
    "6. A data.csv file has following data(stateid, name, population in crores, No. of\n",
    "Universities)\n",
    "data.csv\n",
    "12001,Gujarat,10,29,12002,Maharashtra,19,36,12003,Rajasthan,13,31,12004,Madhya\n",
    "Pradesh,14,21,12005,Punjab,12,13,12006,Karnataka,23,31,12007,Tamilnadu,25,29,1208,\n",
    "Keral a,21,15\n",
    "Read data.csv file. Transfer data to data structure like following States={\n",
    "12001: {\"name\":\"Gujarat\",\"population\":10,\"no_of_uni\":20},\n",
    "12002: {\"name\":\"Maharashtra\",\"population\":19,\"no_of_uni\":36}\n",
    "}\n",
    "Using this data, construct dictionary in following manner."
   ]
  },
  {
   "cell_type": "code",
   "execution_count": null,
   "id": "2504b3cd",
   "metadata": {},
   "outputs": [],
   "source": []
  },
  {
   "cell_type": "markdown",
   "id": "f6f422b9",
   "metadata": {},
   "source": [
    "# LAB MANUAL - 4"
   ]
  },
  {
   "cell_type": "markdown",
   "id": "c8c5ebd2",
   "metadata": {},
   "source": [
    "1. Create an array of 10 zeros "
   ]
  },
  {
   "cell_type": "code",
   "execution_count": 2,
   "id": "292736e5",
   "metadata": {},
   "outputs": [
    {
     "data": {
      "text/plain": [
       "array([0., 0., 0., 0., 0., 0., 0., 0., 0., 0.])"
      ]
     },
     "execution_count": 2,
     "metadata": {},
     "output_type": "execute_result"
    }
   ],
   "source": [
    "import numpy as np\n",
    "np.zeros (10)"
   ]
  },
  {
   "cell_type": "code",
   "execution_count": 4,
   "id": "c7ae8b0e",
   "metadata": {},
   "outputs": [
    {
     "data": {
      "text/plain": [
       "array([0., 0., 0., 0., 0., 0., 0., 0., 0., 0.])"
      ]
     },
     "execution_count": 4,
     "metadata": {},
     "output_type": "execute_result"
    }
   ],
   "source": [
    "import numpy as np\n",
    "np.zeros(10)"
   ]
  },
  {
   "cell_type": "markdown",
   "id": "06f17129",
   "metadata": {},
   "source": [
    "2. Create an array of 10 ones"
   ]
  },
  {
   "cell_type": "code",
   "execution_count": 3,
   "id": "376128b5",
   "metadata": {},
   "outputs": [
    {
     "data": {
      "text/plain": [
       "array([1., 1., 1., 1., 1., 1., 1., 1., 1., 1.])"
      ]
     },
     "execution_count": 3,
     "metadata": {},
     "output_type": "execute_result"
    }
   ],
   "source": [
    "np.ones(10)"
   ]
  },
  {
   "cell_type": "code",
   "execution_count": 5,
   "id": "87919c02",
   "metadata": {},
   "outputs": [
    {
     "data": {
      "text/plain": [
       "array([1., 1., 1., 1., 1., 1., 1., 1., 1., 1.])"
      ]
     },
     "execution_count": 5,
     "metadata": {},
     "output_type": "execute_result"
    }
   ],
   "source": [
    "np.ones(10)"
   ]
  },
  {
   "cell_type": "markdown",
   "id": "178c0e8e",
   "metadata": {},
   "source": [
    "3. Create an array of 10 fives."
   ]
  },
  {
   "cell_type": "code",
   "execution_count": 4,
   "id": "03000cd0",
   "metadata": {},
   "outputs": [
    {
     "data": {
      "text/plain": [
       "array([5., 5., 5., 5., 5., 5., 5., 5., 5., 5.])"
      ]
     },
     "execution_count": 4,
     "metadata": {},
     "output_type": "execute_result"
    }
   ],
   "source": [
    "np.ones(10) *5"
   ]
  },
  {
   "cell_type": "code",
   "execution_count": 8,
   "id": "c0e65918",
   "metadata": {},
   "outputs": [
    {
     "data": {
      "text/plain": [
       "array([5., 5., 5., 5., 5., 5., 5., 5., 5., 5.])"
      ]
     },
     "execution_count": 8,
     "metadata": {},
     "output_type": "execute_result"
    }
   ],
   "source": [
    "np.ones(10)*5"
   ]
  },
  {
   "cell_type": "markdown",
   "id": "c9ab5982",
   "metadata": {},
   "source": [
    "4. Create an array of the integers from 10 to 50."
   ]
  },
  {
   "cell_type": "code",
   "execution_count": 5,
   "id": "06df8771",
   "metadata": {},
   "outputs": [
    {
     "data": {
      "text/plain": [
       "array([10, 11, 12, 13, 14, 15, 16, 17, 18, 19, 20, 21, 22, 23, 24, 25, 26,\n",
       "       27, 28, 29, 30, 31, 32, 33, 34, 35, 36, 37, 38, 39, 40, 41, 42, 43,\n",
       "       44, 45, 46, 47, 48, 49, 50])"
      ]
     },
     "execution_count": 5,
     "metadata": {},
     "output_type": "execute_result"
    }
   ],
   "source": [
    "np.arange(10,51)"
   ]
  },
  {
   "cell_type": "code",
   "execution_count": 9,
   "id": "f870f38e",
   "metadata": {},
   "outputs": [
    {
     "data": {
      "text/plain": [
       "array([10, 11, 12, 13, 14, 15, 16, 17, 18, 19, 20, 21, 22, 23, 24, 25, 26,\n",
       "       27, 28, 29, 30, 31, 32, 33, 34, 35, 36, 37, 38, 39, 40, 41, 42, 43,\n",
       "       44, 45, 46, 47, 48, 49, 50])"
      ]
     },
     "execution_count": 9,
     "metadata": {},
     "output_type": "execute_result"
    }
   ],
   "source": [
    "np.arange(10,51)"
   ]
  },
  {
   "cell_type": "markdown",
   "id": "e9cd7bcf",
   "metadata": {},
   "source": [
    "5. Create a 3x3 matrix with values ranging from 0 to 8"
   ]
  },
  {
   "cell_type": "code",
   "execution_count": 6,
   "id": "23cb8ba0",
   "metadata": {},
   "outputs": [
    {
     "data": {
      "text/plain": [
       "array([[0, 1, 2],\n",
       "       [3, 4, 5],\n",
       "       [6, 7, 8]])"
      ]
     },
     "execution_count": 6,
     "metadata": {},
     "output_type": "execute_result"
    }
   ],
   "source": [
    "matrix = np.arange(9).reshape(3, 3)\n",
    "matrix"
   ]
  },
  {
   "cell_type": "code",
   "execution_count": 11,
   "id": "475abd5f",
   "metadata": {},
   "outputs": [
    {
     "data": {
      "text/plain": [
       "array([[0, 1, 2],\n",
       "       [3, 4, 5],\n",
       "       [6, 7, 8]])"
      ]
     },
     "execution_count": 11,
     "metadata": {},
     "output_type": "execute_result"
    }
   ],
   "source": [
    "np.arange(0,9).reshape(3,3)"
   ]
  },
  {
   "cell_type": "markdown",
   "id": "f4f1e8a5",
   "metadata": {},
   "source": [
    "6. Create a 3x3 identity matrix."
   ]
  },
  {
   "cell_type": "code",
   "execution_count": 7,
   "id": "168bca24",
   "metadata": {},
   "outputs": [
    {
     "data": {
      "text/plain": [
       "array([[1., 0., 0.],\n",
       "       [0., 1., 0.],\n",
       "       [0., 0., 1.]])"
      ]
     },
     "execution_count": 7,
     "metadata": {},
     "output_type": "execute_result"
    }
   ],
   "source": [
    "np.eye(3)"
   ]
  },
  {
   "cell_type": "code",
   "execution_count": 14,
   "id": "94dacabb",
   "metadata": {},
   "outputs": [
    {
     "data": {
      "text/plain": [
       "array([[1., 0., 0.],\n",
       "       [0., 1., 0.],\n",
       "       [0., 0., 1.]])"
      ]
     },
     "execution_count": 14,
     "metadata": {},
     "output_type": "execute_result"
    }
   ],
   "source": [
    "np.eye(3)"
   ]
  },
  {
   "cell_type": "markdown",
   "id": "09edeedc",
   "metadata": {},
   "source": [
    "7. Use Numpy to generate a random number between 0 and 1."
   ]
  },
  {
   "cell_type": "code",
   "execution_count": 8,
   "id": "9f8b8a5a",
   "metadata": {},
   "outputs": [
    {
     "data": {
      "text/plain": [
       "array([0.78835786])"
      ]
     },
     "execution_count": 8,
     "metadata": {},
     "output_type": "execute_result"
    }
   ],
   "source": [
    "np.random.rand(1)"
   ]
  },
  {
   "cell_type": "code",
   "execution_count": 24,
   "id": "099b67e2",
   "metadata": {},
   "outputs": [
    {
     "data": {
      "text/plain": [
       "array([0.25193978])"
      ]
     },
     "execution_count": 24,
     "metadata": {},
     "output_type": "execute_result"
    }
   ],
   "source": [
    "np.random.rand(1)"
   ]
  },
  {
   "cell_type": "markdown",
   "id": "211e490d",
   "metadata": {},
   "source": [
    "8. Use Numpy to generate an array of 25 random numbers sampled from a standard normal distibution."
   ]
  },
  {
   "cell_type": "code",
   "execution_count": 9,
   "id": "2951f14f",
   "metadata": {},
   "outputs": [
    {
     "data": {
      "text/plain": [
       "array([0.73987056, 0.68904083, 0.59452642, 0.41551298, 0.25082413,\n",
       "       0.57881569, 0.15095521, 0.23149494, 0.54577974, 0.59422842,\n",
       "       0.82377557, 0.82829798, 0.90137367, 0.61531906, 0.65399046,\n",
       "       0.16733243, 0.3325006 , 0.34982377, 0.29353463, 0.6937718 ,\n",
       "       0.6654512 , 0.63482274, 0.37968839, 0.51433193, 0.68414607])"
      ]
     },
     "execution_count": 9,
     "metadata": {},
     "output_type": "execute_result"
    }
   ],
   "source": [
    "np.random.rand(25)"
   ]
  },
  {
   "cell_type": "code",
   "execution_count": 25,
   "id": "7aee1de3",
   "metadata": {},
   "outputs": [
    {
     "data": {
      "text/plain": [
       "array([0.19109646, 0.01205354, 0.02449471, 0.95137208, 0.61059551,\n",
       "       0.61681484, 0.10442141, 0.56308699, 0.58921196, 0.09455838,\n",
       "       0.73791329, 0.25521572, 0.66335041, 0.60756731, 0.39989981,\n",
       "       0.05306119, 0.93126178, 0.26982917, 0.61550539, 0.9782182 ,\n",
       "       0.21943457, 0.76951536, 0.43080785, 0.14640087, 0.27405212])"
      ]
     },
     "execution_count": 25,
     "metadata": {},
     "output_type": "execute_result"
    }
   ],
   "source": [
    "np.random.rand(25)"
   ]
  },
  {
   "cell_type": "markdown",
   "id": "0ac4d82d",
   "metadata": {},
   "source": [
    "9. Create the following matrix."
   ]
  },
  {
   "cell_type": "code",
   "execution_count": 10,
   "id": "7583ce10",
   "metadata": {},
   "outputs": [
    {
     "data": {
      "text/plain": [
       "array([[0.01, 0.02, 0.03, 0.04, 0.05, 0.06, 0.07, 0.08, 0.09, 0.1 ],\n",
       "       [0.11, 0.12, 0.13, 0.14, 0.15, 0.16, 0.17, 0.18, 0.19, 0.2 ],\n",
       "       [0.21, 0.22, 0.23, 0.24, 0.25, 0.26, 0.27, 0.28, 0.29, 0.3 ],\n",
       "       [0.31, 0.32, 0.33, 0.34, 0.35, 0.36, 0.37, 0.38, 0.39, 0.4 ],\n",
       "       [0.41, 0.42, 0.43, 0.44, 0.45, 0.46, 0.47, 0.48, 0.49, 0.5 ],\n",
       "       [0.51, 0.52, 0.53, 0.54, 0.55, 0.56, 0.57, 0.58, 0.59, 0.6 ],\n",
       "       [0.61, 0.62, 0.63, 0.64, 0.65, 0.66, 0.67, 0.68, 0.69, 0.7 ],\n",
       "       [0.71, 0.72, 0.73, 0.74, 0.75, 0.76, 0.77, 0.78, 0.79, 0.8 ],\n",
       "       [0.81, 0.82, 0.83, 0.84, 0.85, 0.86, 0.87, 0.88, 0.89, 0.9 ],\n",
       "       [0.91, 0.92, 0.93, 0.94, 0.95, 0.96, 0.97, 0.98, 0.99, 1.  ]])"
      ]
     },
     "execution_count": 10,
     "metadata": {},
     "output_type": "execute_result"
    }
   ],
   "source": [
    "np.arange(1,101).reshape(10,10)/100"
   ]
  },
  {
   "cell_type": "code",
   "execution_count": 30,
   "id": "0420051a",
   "metadata": {},
   "outputs": [
    {
     "data": {
      "text/plain": [
       "array([[0.01, 0.02, 0.03, 0.04, 0.05, 0.06, 0.07, 0.08, 0.09, 0.1 ],\n",
       "       [0.11, 0.12, 0.13, 0.14, 0.15, 0.16, 0.17, 0.18, 0.19, 0.2 ],\n",
       "       [0.21, 0.22, 0.23, 0.24, 0.25, 0.26, 0.27, 0.28, 0.29, 0.3 ],\n",
       "       [0.31, 0.32, 0.33, 0.34, 0.35, 0.36, 0.37, 0.38, 0.39, 0.4 ],\n",
       "       [0.41, 0.42, 0.43, 0.44, 0.45, 0.46, 0.47, 0.48, 0.49, 0.5 ],\n",
       "       [0.51, 0.52, 0.53, 0.54, 0.55, 0.56, 0.57, 0.58, 0.59, 0.6 ],\n",
       "       [0.61, 0.62, 0.63, 0.64, 0.65, 0.66, 0.67, 0.68, 0.69, 0.7 ],\n",
       "       [0.71, 0.72, 0.73, 0.74, 0.75, 0.76, 0.77, 0.78, 0.79, 0.8 ],\n",
       "       [0.81, 0.82, 0.83, 0.84, 0.85, 0.86, 0.87, 0.88, 0.89, 0.9 ],\n",
       "       [0.91, 0.92, 0.93, 0.94, 0.95, 0.96, 0.97, 0.98, 0.99, 1.  ]])"
      ]
     },
     "execution_count": 30,
     "metadata": {},
     "output_type": "execute_result"
    }
   ],
   "source": [
    "np.arange(1,101).reshape(10,10)/100"
   ]
  },
  {
   "cell_type": "markdown",
   "id": "d3962045",
   "metadata": {},
   "source": [
    "10. Create an array of 20 linearly spaced points between 0 and 1:"
   ]
  },
  {
   "cell_type": "code",
   "execution_count": 11,
   "id": "4b607475",
   "metadata": {},
   "outputs": [
    {
     "name": "stdout",
     "output_type": "stream",
     "text": [
      "[0.         0.05263158 0.10526316 0.15789474 0.21052632 0.26315789\n",
      " 0.31578947 0.36842105 0.42105263 0.47368421 0.52631579 0.57894737\n",
      " 0.63157895 0.68421053 0.73684211 0.78947368 0.84210526 0.89473684\n",
      " 0.94736842 1.        ]\n"
     ]
    }
   ],
   "source": [
    "points = np.linspace(0, 1, 20)\n",
    "print(points)"
   ]
  },
  {
   "cell_type": "code",
   "execution_count": 32,
   "id": "67c4f4ca",
   "metadata": {},
   "outputs": [
    {
     "data": {
      "text/plain": [
       "array([0.        , 0.05263158, 0.10526316, 0.15789474, 0.21052632,\n",
       "       0.26315789, 0.31578947, 0.36842105, 0.42105263, 0.47368421,\n",
       "       0.52631579, 0.57894737, 0.63157895, 0.68421053, 0.73684211,\n",
       "       0.78947368, 0.84210526, 0.89473684, 0.94736842, 1.        ])"
      ]
     },
     "execution_count": 32,
     "metadata": {},
     "output_type": "execute_result"
    }
   ],
   "source": [
    "np.linspace(0,1,20)"
   ]
  },
  {
   "cell_type": "markdown",
   "id": "cc418db9",
   "metadata": {},
   "source": [
    "11. Create a matrix of 5x5."
   ]
  },
  {
   "cell_type": "code",
   "execution_count": 12,
   "id": "02f82dbd",
   "metadata": {},
   "outputs": [
    {
     "data": {
      "text/plain": [
       "array([[ 1,  2,  3,  4,  5],\n",
       "       [ 6,  7,  8,  9, 10],\n",
       "       [11, 12, 13, 14, 15],\n",
       "       [16, 17, 18, 19, 20],\n",
       "       [21, 22, 23, 24, 25]])"
      ]
     },
     "execution_count": 12,
     "metadata": {},
     "output_type": "execute_result"
    }
   ],
   "source": [
    "matrix = np.arange(1,26).reshape(5,5)\n",
    "matrix"
   ]
  },
  {
   "cell_type": "code",
   "execution_count": 35,
   "id": "4855e941",
   "metadata": {},
   "outputs": [
    {
     "data": {
      "text/plain": [
       "array([[ 1,  2,  3,  4,  5],\n",
       "       [ 6,  7,  8,  9, 10],\n",
       "       [11, 12, 13, 14, 15],\n",
       "       [16, 17, 18, 19, 20],\n",
       "       [21, 22, 23, 24, 25]])"
      ]
     },
     "execution_count": 35,
     "metadata": {},
     "output_type": "execute_result"
    }
   ],
   "source": [
    "m=np.arange(1,26).reshape(5,5)\n",
    "m"
   ]
  },
  {
   "cell_type": "code",
   "execution_count": 13,
   "id": "10231aee",
   "metadata": {},
   "outputs": [
    {
     "data": {
      "text/plain": [
       "20"
      ]
     },
     "execution_count": 13,
     "metadata": {},
     "output_type": "execute_result"
    }
   ],
   "source": [
    "matrix[3,4]"
   ]
  },
  {
   "cell_type": "code",
   "execution_count": 36,
   "id": "5d3b7eed",
   "metadata": {},
   "outputs": [
    {
     "data": {
      "text/plain": [
       "20"
      ]
     },
     "execution_count": 36,
     "metadata": {},
     "output_type": "execute_result"
    }
   ],
   "source": [
    "m[3,4]"
   ]
  },
  {
   "cell_type": "code",
   "execution_count": 14,
   "id": "456fd858",
   "metadata": {},
   "outputs": [
    {
     "data": {
      "text/plain": [
       "array([[ 2],\n",
       "       [ 7],\n",
       "       [12]])"
      ]
     },
     "execution_count": 14,
     "metadata": {},
     "output_type": "execute_result"
    }
   ],
   "source": [
    "matrix[0:3,1:2]"
   ]
  },
  {
   "cell_type": "code",
   "execution_count": 37,
   "id": "394df3eb",
   "metadata": {},
   "outputs": [
    {
     "data": {
      "text/plain": [
       "array([[ 2],\n",
       "       [ 7],\n",
       "       [12]])"
      ]
     },
     "execution_count": 37,
     "metadata": {},
     "output_type": "execute_result"
    }
   ],
   "source": [
    "m[0:3,1:2]"
   ]
  },
  {
   "cell_type": "code",
   "execution_count": 15,
   "id": "db209a56",
   "metadata": {},
   "outputs": [
    {
     "data": {
      "text/plain": [
       "array([[12, 13, 14, 15],\n",
       "       [17, 18, 19, 20],\n",
       "       [22, 23, 24, 25]])"
      ]
     },
     "execution_count": 15,
     "metadata": {},
     "output_type": "execute_result"
    }
   ],
   "source": [
    "matrix[2:5, 1:5]"
   ]
  },
  {
   "cell_type": "code",
   "execution_count": 38,
   "id": "abf1a83f",
   "metadata": {},
   "outputs": [
    {
     "data": {
      "text/plain": [
       "array([[12, 13, 14, 15],\n",
       "       [17, 18, 19, 20],\n",
       "       [22, 23, 24, 25]])"
      ]
     },
     "execution_count": 38,
     "metadata": {},
     "output_type": "execute_result"
    }
   ],
   "source": [
    "m[2:,1:]"
   ]
  },
  {
   "cell_type": "code",
   "execution_count": 16,
   "id": "45a66278",
   "metadata": {},
   "outputs": [
    {
     "data": {
      "text/plain": [
       "array([[21, 22, 23, 24, 25]])"
      ]
     },
     "execution_count": 16,
     "metadata": {},
     "output_type": "execute_result"
    }
   ],
   "source": [
    "matrix[4:5]"
   ]
  },
  {
   "cell_type": "code",
   "execution_count": 40,
   "id": "585a41d2",
   "metadata": {},
   "outputs": [
    {
     "data": {
      "text/plain": [
       "array([[21, 22, 23, 24, 25]])"
      ]
     },
     "execution_count": 40,
     "metadata": {},
     "output_type": "execute_result"
    }
   ],
   "source": [
    "m[4:5]"
   ]
  },
  {
   "cell_type": "markdown",
   "id": "838c6c02",
   "metadata": {},
   "source": [
    "12. Get the sum of all values in matrix."
   ]
  },
  {
   "cell_type": "code",
   "execution_count": 17,
   "id": "7a59b651",
   "metadata": {},
   "outputs": [
    {
     "data": {
      "text/plain": [
       "325"
      ]
     },
     "execution_count": 17,
     "metadata": {},
     "output_type": "execute_result"
    }
   ],
   "source": [
    "np.sum(matrix)"
   ]
  },
  {
   "cell_type": "code",
   "execution_count": 41,
   "id": "f176a346",
   "metadata": {},
   "outputs": [
    {
     "data": {
      "text/plain": [
       "325"
      ]
     },
     "execution_count": 41,
     "metadata": {},
     "output_type": "execute_result"
    }
   ],
   "source": [
    "np.sum(m)"
   ]
  },
  {
   "cell_type": "markdown",
   "id": "c15cf00d",
   "metadata": {},
   "source": [
    "13. Get the sum of all the columns in matrix."
   ]
  },
  {
   "cell_type": "code",
   "execution_count": 18,
   "id": "ebb75b08",
   "metadata": {},
   "outputs": [
    {
     "data": {
      "text/plain": [
       "array([ 15,  40,  65,  90, 115])"
      ]
     },
     "execution_count": 18,
     "metadata": {},
     "output_type": "execute_result"
    }
   ],
   "source": [
    "np.sum(matrix,axis=1)"
   ]
  },
  {
   "cell_type": "code",
   "execution_count": 44,
   "id": "baec5aec",
   "metadata": {},
   "outputs": [
    {
     "data": {
      "text/plain": [
       "array([ 15,  40,  65,  90, 115])"
      ]
     },
     "execution_count": 44,
     "metadata": {},
     "output_type": "execute_result"
    }
   ],
   "source": [
    "np.sum(m,axis=1)"
   ]
  },
  {
   "cell_type": "markdown",
   "id": "4d2d7164",
   "metadata": {},
   "source": [
    "14. Get the sum of all the rows in matrix."
   ]
  },
  {
   "cell_type": "code",
   "execution_count": 19,
   "id": "8a9a6e52",
   "metadata": {},
   "outputs": [
    {
     "data": {
      "text/plain": [
       "array([55, 60, 65, 70, 75])"
      ]
     },
     "execution_count": 19,
     "metadata": {},
     "output_type": "execute_result"
    }
   ],
   "source": [
    "np.sum(matrix,axis=0)"
   ]
  },
  {
   "cell_type": "code",
   "execution_count": 45,
   "id": "2f12c85e",
   "metadata": {},
   "outputs": [
    {
     "data": {
      "text/plain": [
       "array([55, 60, 65, 70, 75])"
      ]
     },
     "execution_count": 45,
     "metadata": {},
     "output_type": "execute_result"
    }
   ],
   "source": [
    "np.sum(m,axis=0)"
   ]
  },
  {
   "cell_type": "markdown",
   "id": "2c9d03bf",
   "metadata": {},
   "source": [
    "15. Standard deviation."
   ]
  },
  {
   "cell_type": "code",
   "execution_count": 20,
   "id": "f9ba5786",
   "metadata": {},
   "outputs": [
    {
     "data": {
      "text/plain": [
       "7.211102550927978"
      ]
     },
     "execution_count": 20,
     "metadata": {},
     "output_type": "execute_result"
    }
   ],
   "source": [
    "np.std(matrix)"
   ]
  },
  {
   "cell_type": "code",
   "execution_count": 46,
   "id": "515544ba",
   "metadata": {},
   "outputs": [
    {
     "data": {
      "text/plain": [
       "7.211102550927978"
      ]
     },
     "execution_count": 46,
     "metadata": {},
     "output_type": "execute_result"
    }
   ],
   "source": [
    "np.std(m)"
   ]
  },
  {
   "cell_type": "markdown",
   "id": "c1eff821",
   "metadata": {},
   "source": [
    "# Test:"
   ]
  },
  {
   "cell_type": "markdown",
   "id": "19972bc5",
   "metadata": {},
   "source": [
    "1. Create 1-D, 2-D and 3-D numpy array"
   ]
  },
  {
   "cell_type": "code",
   "execution_count": 21,
   "id": "12f5f301",
   "metadata": {},
   "outputs": [
    {
     "data": {
      "text/plain": [
       "array([ 0,  1,  2,  3,  4,  5,  6,  7,  8,  9, 10, 11])"
      ]
     },
     "execution_count": 21,
     "metadata": {},
     "output_type": "execute_result"
    }
   ],
   "source": [
    "oneD=np.arange(0,12)\n",
    "oneD"
   ]
  },
  {
   "cell_type": "code",
   "execution_count": 49,
   "id": "fc886c3c",
   "metadata": {},
   "outputs": [
    {
     "data": {
      "text/plain": [
       "array([ 1,  2,  3,  4,  5,  6,  7,  8,  9, 10, 11, 12])"
      ]
     },
     "execution_count": 49,
     "metadata": {},
     "output_type": "execute_result"
    }
   ],
   "source": [
    "a=np.arange(1,13)\n",
    "a"
   ]
  },
  {
   "cell_type": "code",
   "execution_count": 22,
   "id": "29f4357d",
   "metadata": {},
   "outputs": [
    {
     "data": {
      "text/plain": [
       "array([[ 0,  1,  2,  3],\n",
       "       [ 4,  5,  6,  7],\n",
       "       [ 8,  9, 10, 11]])"
      ]
     },
     "execution_count": 22,
     "metadata": {},
     "output_type": "execute_result"
    }
   ],
   "source": [
    "twoD=np.arange(0,12).reshape(3,4)\n",
    "twoD"
   ]
  },
  {
   "cell_type": "code",
   "execution_count": 53,
   "id": "9084d57c",
   "metadata": {},
   "outputs": [
    {
     "data": {
      "text/plain": [
       "array([[ 1,  2,  3],\n",
       "       [ 4,  5,  6],\n",
       "       [ 7,  8,  9],\n",
       "       [10, 11, 12]])"
      ]
     },
     "execution_count": 53,
     "metadata": {},
     "output_type": "execute_result"
    }
   ],
   "source": [
    "b=np.arange(1,13).reshape(4,3)\n",
    "b"
   ]
  },
  {
   "cell_type": "code",
   "execution_count": 54,
   "id": "d8bbfd73",
   "metadata": {},
   "outputs": [
    {
     "data": {
      "text/plain": [
       "array([[[ 1,  2],\n",
       "        [ 3,  4]],\n",
       "\n",
       "       [[ 5,  6],\n",
       "        [ 7,  8]],\n",
       "\n",
       "       [[ 9, 10],\n",
       "        [11, 12]]])"
      ]
     },
     "execution_count": 54,
     "metadata": {},
     "output_type": "execute_result"
    }
   ],
   "source": [
    "threeD=np.arange(1,13).reshape(3,2,2)\n",
    "threeD"
   ]
  },
  {
   "cell_type": "code",
   "execution_count": 56,
   "id": "03b28543",
   "metadata": {},
   "outputs": [
    {
     "data": {
      "text/plain": [
       "array([[[ 1,  2],\n",
       "        [ 3,  4]],\n",
       "\n",
       "       [[ 5,  6],\n",
       "        [ 7,  8]],\n",
       "\n",
       "       [[ 9, 10],\n",
       "        [11, 12]]])"
      ]
     },
     "execution_count": 56,
     "metadata": {},
     "output_type": "execute_result"
    }
   ],
   "source": [
    "c=np.arange(1,13).reshape(3,2,2)\n",
    "c"
   ]
  },
  {
   "cell_type": "markdown",
   "id": "8fab31f5",
   "metadata": {},
   "source": [
    "2. print data type of array."
   ]
  },
  {
   "cell_type": "code",
   "execution_count": 24,
   "id": "fd6b92bd",
   "metadata": {},
   "outputs": [
    {
     "data": {
      "text/plain": [
       "dtype('int32')"
      ]
     },
     "execution_count": 24,
     "metadata": {},
     "output_type": "execute_result"
    }
   ],
   "source": [
    "oneD.dtype\n",
    "twoD.dtype\n",
    "threeD.dtype"
   ]
  },
  {
   "cell_type": "code",
   "execution_count": 58,
   "id": "3adfc21d",
   "metadata": {},
   "outputs": [
    {
     "data": {
      "text/plain": [
       "dtype('int32')"
      ]
     },
     "execution_count": 58,
     "metadata": {},
     "output_type": "execute_result"
    }
   ],
   "source": [
    "a.dtype\n"
   ]
  },
  {
   "cell_type": "code",
   "execution_count": 59,
   "id": "dc1f88dd",
   "metadata": {},
   "outputs": [
    {
     "data": {
      "text/plain": [
       "dtype('int32')"
      ]
     },
     "execution_count": 59,
     "metadata": {},
     "output_type": "execute_result"
    }
   ],
   "source": [
    "b.dtype"
   ]
  },
  {
   "cell_type": "code",
   "execution_count": 61,
   "id": "29c2d972",
   "metadata": {},
   "outputs": [
    {
     "data": {
      "text/plain": [
       "dtype('int32')"
      ]
     },
     "execution_count": 61,
     "metadata": {},
     "output_type": "execute_result"
    }
   ],
   "source": [
    "c.dtype"
   ]
  },
  {
   "cell_type": "markdown",
   "id": "8e4938c0",
   "metadata": {},
   "source": [
    "3. Print shape and dimensions of all the three different array."
   ]
  },
  {
   "cell_type": "code",
   "execution_count": 25,
   "id": "05e9c3bf",
   "metadata": {},
   "outputs": [
    {
     "data": {
      "text/plain": [
       "(12,)"
      ]
     },
     "execution_count": 25,
     "metadata": {},
     "output_type": "execute_result"
    }
   ],
   "source": [
    "oneD.shape"
   ]
  },
  {
   "cell_type": "code",
   "execution_count": 62,
   "id": "23207d38",
   "metadata": {},
   "outputs": [
    {
     "data": {
      "text/plain": [
       "(12,)"
      ]
     },
     "execution_count": 62,
     "metadata": {},
     "output_type": "execute_result"
    }
   ],
   "source": [
    "a.shape"
   ]
  },
  {
   "cell_type": "code",
   "execution_count": 64,
   "id": "9ccec58a",
   "metadata": {},
   "outputs": [
    {
     "data": {
      "text/plain": [
       "(4, 3)"
      ]
     },
     "execution_count": 64,
     "metadata": {},
     "output_type": "execute_result"
    }
   ],
   "source": [
    "b.shape"
   ]
  },
  {
   "cell_type": "code",
   "execution_count": 26,
   "id": "3dd514d3",
   "metadata": {},
   "outputs": [
    {
     "data": {
      "text/plain": [
       "(3, 4)"
      ]
     },
     "execution_count": 26,
     "metadata": {},
     "output_type": "execute_result"
    }
   ],
   "source": [
    "twoD.shape"
   ]
  },
  {
   "cell_type": "code",
   "execution_count": 66,
   "id": "3b8757c1",
   "metadata": {},
   "outputs": [
    {
     "data": {
      "text/plain": [
       "(3, 2, 2)"
      ]
     },
     "execution_count": 66,
     "metadata": {},
     "output_type": "execute_result"
    }
   ],
   "source": [
    "c.shape"
   ]
  },
  {
   "cell_type": "code",
   "execution_count": 27,
   "id": "d03d9282",
   "metadata": {},
   "outputs": [
    {
     "data": {
      "text/plain": [
       "(3, 2, 2)"
      ]
     },
     "execution_count": 27,
     "metadata": {},
     "output_type": "execute_result"
    }
   ],
   "source": [
    "threeD.shape"
   ]
  },
  {
   "cell_type": "code",
   "execution_count": 28,
   "id": "160235a0",
   "metadata": {},
   "outputs": [
    {
     "data": {
      "text/plain": [
       "1"
      ]
     },
     "execution_count": 28,
     "metadata": {},
     "output_type": "execute_result"
    }
   ],
   "source": [
    "oneD.ndim"
   ]
  },
  {
   "cell_type": "code",
   "execution_count": 67,
   "id": "fa2479a0",
   "metadata": {},
   "outputs": [
    {
     "data": {
      "text/plain": [
       "1"
      ]
     },
     "execution_count": 67,
     "metadata": {},
     "output_type": "execute_result"
    }
   ],
   "source": [
    "a.ndim"
   ]
  },
  {
   "cell_type": "code",
   "execution_count": 29,
   "id": "1db29749",
   "metadata": {},
   "outputs": [
    {
     "data": {
      "text/plain": [
       "2"
      ]
     },
     "execution_count": 29,
     "metadata": {},
     "output_type": "execute_result"
    }
   ],
   "source": [
    "twoD.ndim"
   ]
  },
  {
   "cell_type": "code",
   "execution_count": 68,
   "id": "c65e3e8d",
   "metadata": {},
   "outputs": [
    {
     "data": {
      "text/plain": [
       "2"
      ]
     },
     "execution_count": 68,
     "metadata": {},
     "output_type": "execute_result"
    }
   ],
   "source": [
    "b.ndim"
   ]
  },
  {
   "cell_type": "code",
   "execution_count": 30,
   "id": "d5418127",
   "metadata": {},
   "outputs": [
    {
     "data": {
      "text/plain": [
       "3"
      ]
     },
     "execution_count": 30,
     "metadata": {},
     "output_type": "execute_result"
    }
   ],
   "source": [
    "threeD.ndim"
   ]
  },
  {
   "cell_type": "code",
   "execution_count": 69,
   "id": "c835a6a4",
   "metadata": {},
   "outputs": [
    {
     "data": {
      "text/plain": [
       "3"
      ]
     },
     "execution_count": 69,
     "metadata": {},
     "output_type": "execute_result"
    }
   ],
   "source": [
    "c.ndim"
   ]
  },
  {
   "cell_type": "markdown",
   "id": "8346c4ed",
   "metadata": {},
   "source": [
    "4. Create another 1-D array of 12 elements filled with zero."
   ]
  },
  {
   "cell_type": "code",
   "execution_count": 31,
   "id": "c6223843",
   "metadata": {},
   "outputs": [
    {
     "data": {
      "text/plain": [
       "array([0., 0., 0., 0., 0., 0., 0., 0., 0., 0., 0., 0.])"
      ]
     },
     "execution_count": 31,
     "metadata": {},
     "output_type": "execute_result"
    }
   ],
   "source": [
    "np.zeros(12)\n"
   ]
  },
  {
   "cell_type": "code",
   "execution_count": 70,
   "id": "b0093dff",
   "metadata": {},
   "outputs": [
    {
     "data": {
      "text/plain": [
       "array([0., 0., 0., 0., 0., 0., 0., 0., 0., 0., 0., 0.])"
      ]
     },
     "execution_count": 70,
     "metadata": {},
     "output_type": "execute_result"
    }
   ],
   "source": [
    "np.zeros(12)"
   ]
  },
  {
   "cell_type": "markdown",
   "id": "aa6f1add",
   "metadata": {},
   "source": [
    "5.Create anther 2-D array elements filled with ones."
   ]
  },
  {
   "cell_type": "code",
   "execution_count": 72,
   "id": "88b08c07",
   "metadata": {},
   "outputs": [
    {
     "data": {
      "text/plain": [
       "array([[1., 1., 1., 1.],\n",
       "       [1., 1., 1., 1.],\n",
       "       [1., 1., 1., 1.]])"
      ]
     },
     "execution_count": 72,
     "metadata": {},
     "output_type": "execute_result"
    }
   ],
   "source": [
    "np.ones(12).reshape(3,4)"
   ]
  },
  {
   "cell_type": "code",
   "execution_count": 74,
   "id": "b65e21cc",
   "metadata": {},
   "outputs": [
    {
     "data": {
      "text/plain": [
       "array([[1., 1., 1.],\n",
       "       [1., 1., 1.],\n",
       "       [1., 1., 1.],\n",
       "       [1., 1., 1.]])"
      ]
     },
     "execution_count": 74,
     "metadata": {},
     "output_type": "execute_result"
    }
   ],
   "source": [
    "np.ones(12).reshape(4,3)"
   ]
  },
  {
   "cell_type": "markdown",
   "id": "353881b9",
   "metadata": {},
   "source": [
    "6. Create a 1-D array known as Maths Marks out of 100 having 20 elements."
   ]
  },
  {
   "cell_type": "code",
   "execution_count": 78,
   "id": "991a65ee",
   "metadata": {},
   "outputs": [
    {
     "data": {
      "text/plain": [
       "array([77, 93, 25, 25, 84, 11, 31, 45, 59, 77, 76, 80, 75, 69, 55, 93, 73,\n",
       "       27, 62, 28])"
      ]
     },
     "execution_count": 78,
     "metadata": {},
     "output_type": "execute_result"
    }
   ],
   "source": [
    "maths=np.random.randint(1,100,20)\n",
    "maths"
   ]
  },
  {
   "cell_type": "code",
   "execution_count": null,
   "id": "e00be94f",
   "metadata": {},
   "outputs": [],
   "source": [
    "math=np.random.randint(0,100,20)\n",
    "math"
   ]
  },
  {
   "cell_type": "markdown",
   "id": "01fbefaa",
   "metadata": {},
   "source": [
    "7. Sort the above array in ascending and descending order."
   ]
  },
  {
   "cell_type": "code",
   "execution_count": 34,
   "id": "327ea76d",
   "metadata": {},
   "outputs": [
    {
     "data": {
      "text/plain": [
       "array([ 1,  7,  9, 11, 15, 15, 22, 43, 46, 51, 53, 60, 71, 73, 79, 81, 81,\n",
       "       85, 86, 92])"
      ]
     },
     "execution_count": 34,
     "metadata": {},
     "output_type": "execute_result"
    }
   ],
   "source": [
    "sort=np.sort(math)\n",
    "sort"
   ]
  },
  {
   "cell_type": "code",
   "execution_count": 83,
   "id": "81d5b2a1",
   "metadata": {},
   "outputs": [
    {
     "data": {
      "text/plain": [
       "array([11, 25, 25, 27, 28, 31, 45, 55, 59, 62, 69, 73, 75, 76, 77, 77, 80,\n",
       "       84, 93, 93])"
      ]
     },
     "execution_count": 83,
     "metadata": {},
     "output_type": "execute_result"
    }
   ],
   "source": [
    "m=np.sort(maths)\n",
    "m"
   ]
  },
  {
   "cell_type": "code",
   "execution_count": 35,
   "id": "2f976f03",
   "metadata": {},
   "outputs": [
    {
     "data": {
      "text/plain": [
       "array([92, 86, 85, 81, 81, 79, 73, 71, 60, 53, 51, 46, 43, 22, 15, 15, 11,\n",
       "        9,  7,  1])"
      ]
     },
     "execution_count": 35,
     "metadata": {},
     "output_type": "execute_result"
    }
   ],
   "source": [
    "np.flip(sort)"
   ]
  },
  {
   "cell_type": "code",
   "execution_count": 84,
   "id": "70934b0b",
   "metadata": {},
   "outputs": [
    {
     "data": {
      "text/plain": [
       "array([93, 93, 84, 80, 77, 77, 76, 75, 73, 69, 62, 59, 55, 45, 31, 28, 27,\n",
       "       25, 25, 11])"
      ]
     },
     "execution_count": 84,
     "metadata": {},
     "output_type": "execute_result"
    }
   ],
   "source": [
    "np.flip(m)"
   ]
  },
  {
   "cell_type": "markdown",
   "id": "0c993805",
   "metadata": {},
   "source": [
    "8. Create a copy of sorted array to another variable by deep copying."
   ]
  },
  {
   "cell_type": "code",
   "execution_count": 36,
   "id": "c1b4519d",
   "metadata": {},
   "outputs": [
    {
     "data": {
      "text/plain": [
       "array([ 1,  7,  9, 11, 15, 15, 22, 43, 46, 51, 53, 60, 71, 73, 79, 81, 81,\n",
       "       85, 86, 92])"
      ]
     },
     "execution_count": 36,
     "metadata": {},
     "output_type": "execute_result"
    }
   ],
   "source": [
    "copy1=np.copy(sort)\n",
    "copy1"
   ]
  },
  {
   "cell_type": "code",
   "execution_count": 86,
   "id": "c6181c3b",
   "metadata": {},
   "outputs": [
    {
     "data": {
      "text/plain": [
       "array([11, 25, 25, 27, 28, 31, 45, 55, 59, 62, 69, 73, 75, 76, 77, 77, 80,\n",
       "       84, 93, 93])"
      ]
     },
     "execution_count": 86,
     "metadata": {},
     "output_type": "execute_result"
    }
   ],
   "source": [
    "b=np.copy(m)\n",
    "b"
   ]
  },
  {
   "cell_type": "markdown",
   "id": "689975b1",
   "metadata": {},
   "source": [
    "9.Create 2-D array of 5x5 which is an identity matrix and then convert to 1-D array."
   ]
  },
  {
   "cell_type": "code",
   "execution_count": 97,
   "id": "4a8d5b1e",
   "metadata": {},
   "outputs": [
    {
     "data": {
      "text/plain": [
       "array([1., 0., 0., 0., 0., 0., 1., 0., 0., 0., 0., 0., 1., 0., 0., 0., 0.,\n",
       "       0., 1., 0., 0., 0., 0., 0., 1.])"
      ]
     },
     "execution_count": 97,
     "metadata": {},
     "output_type": "execute_result"
    }
   ],
   "source": [
    "np.eye(5).reshape(25)"
   ]
  },
  {
   "cell_type": "markdown",
   "id": "988648ad",
   "metadata": {},
   "source": [
    "10. Create 2-D array of 3x3. Add one more row to it."
   ]
  },
  {
   "cell_type": "code",
   "execution_count": 102,
   "id": "8ce67cef",
   "metadata": {},
   "outputs": [
    {
     "data": {
      "text/plain": [
       "array([[0, 1, 2],\n",
       "       [3, 4, 5],\n",
       "       [6, 7, 8]])"
      ]
     },
     "execution_count": 102,
     "metadata": {},
     "output_type": "execute_result"
    }
   ],
   "source": [
    "p=np.arange(9).reshape(3,3)\n",
    "p"
   ]
  },
  {
   "cell_type": "code",
   "execution_count": 103,
   "id": "b653275a",
   "metadata": {},
   "outputs": [
    {
     "data": {
      "text/plain": [
       "array([[ 0,  1,  2],\n",
       "       [ 3,  4,  5],\n",
       "       [ 6,  7,  8],\n",
       "       [10, 11, 12]])"
      ]
     },
     "execution_count": 103,
     "metadata": {},
     "output_type": "execute_result"
    }
   ],
   "source": [
    "np.vstack((p,[10,11,12]))"
   ]
  },
  {
   "cell_type": "code",
   "execution_count": 106,
   "id": "1d8f8f78",
   "metadata": {},
   "outputs": [
    {
     "data": {
      "text/plain": [
       "array([[ 0,  1,  2, 10],\n",
       "       [ 3,  4,  5, 11],\n",
       "       [ 6,  7,  8, 12]])"
      ]
     },
     "execution_count": 106,
     "metadata": {},
     "output_type": "execute_result"
    }
   ],
   "source": [
    "np.hstack((p,[[10],[11],[12]]))"
   ]
  },
  {
   "cell_type": "code",
   "execution_count": 38,
   "id": "dba4d52a",
   "metadata": {},
   "outputs": [
    {
     "data": {
      "text/plain": [
       "array([[ 1,  2,  3],\n",
       "       [ 4,  5,  6],\n",
       "       [ 7,  8,  9],\n",
       "       [10, 11, 12]])"
      ]
     },
     "execution_count": 38,
     "metadata": {},
     "output_type": "execute_result"
    }
   ],
   "source": [
    "one=np.arange(1,10).reshape(3,3)\n",
    "two=np.arange(10,13)\n",
    "three=np.append(one,two).reshape(4,3)\n",
    "three"
   ]
  },
  {
   "cell_type": "code",
   "execution_count": 40,
   "id": "ee1cf2c5",
   "metadata": {},
   "outputs": [
    {
     "data": {
      "text/plain": [
       "array([[ 0,  1,  2,  3],\n",
       "       [ 4,  5,  6,  7],\n",
       "       [ 8,  9, 10, 11]])"
      ]
     },
     "execution_count": 40,
     "metadata": {},
     "output_type": "execute_result"
    }
   ],
   "source": [
    "mat=np.arange(0,12).reshape(3,4)\n",
    "mat"
   ]
  },
  {
   "cell_type": "code",
   "execution_count": 42,
   "id": "5fe1566f",
   "metadata": {},
   "outputs": [
    {
     "data": {
      "text/plain": [
       "array([[ 0,  1,  2,  3],\n",
       "       [ 4,  5,  6,  7],\n",
       "       [ 8,  9, 10, 11],\n",
       "       [ 2,  5,  5,  6]])"
      ]
     },
     "execution_count": 42,
     "metadata": {},
     "output_type": "execute_result"
    }
   ],
   "source": [
    "np.append(mat,[[2,5,5,6]],axis=0)"
   ]
  },
  {
   "cell_type": "code",
   "execution_count": 43,
   "id": "f067a6eb",
   "metadata": {},
   "outputs": [
    {
     "data": {
      "text/plain": [
       "array([[ 1,  2,  3],\n",
       "       [ 4,  5,  6],\n",
       "       [ 7,  8,  9],\n",
       "       [10, 11, 12]])"
      ]
     },
     "execution_count": 43,
     "metadata": {},
     "output_type": "execute_result"
    }
   ],
   "source": [
    "one=np.arange(1,10).reshape(3,3)\n",
    "np.append(one,[[10,11,12]],axis=0)"
   ]
  },
  {
   "cell_type": "code",
   "execution_count": 44,
   "id": "75f7dd77",
   "metadata": {},
   "outputs": [
    {
     "data": {
      "text/plain": [
       "array([[ 1,  2,  3],\n",
       "       [ 4,  5,  6],\n",
       "       [ 7,  8,  9],\n",
       "       [10, 11, 12]])"
      ]
     },
     "execution_count": 44,
     "metadata": {},
     "output_type": "execute_result"
    }
   ],
   "source": [
    "np.vstack((one,[10,11,12]))"
   ]
  },
  {
   "cell_type": "code",
   "execution_count": 46,
   "id": "4f3d3f2d",
   "metadata": {},
   "outputs": [
    {
     "data": {
      "text/plain": [
       "array([[ 1,  2,  3, 10],\n",
       "       [ 4,  5,  6, 11],\n",
       "       [ 7,  8,  9, 12]])"
      ]
     },
     "execution_count": 46,
     "metadata": {},
     "output_type": "execute_result"
    }
   ],
   "source": [
    "np.hstack((one,[[10],[11],[12]]))"
   ]
  },
  {
   "cell_type": "markdown",
   "id": "ee8bc96b",
   "metadata": {},
   "source": [
    "11. Split above array created vertically and horizontally."
   ]
  },
  {
   "cell_type": "code",
   "execution_count": 48,
   "id": "b25eb3e3",
   "metadata": {},
   "outputs": [
    {
     "data": {
      "text/plain": [
       "[array([[1, 2, 3]]), array([[4, 5, 6]]), array([[7, 8, 9]])]"
      ]
     },
     "execution_count": 48,
     "metadata": {},
     "output_type": "execute_result"
    }
   ],
   "source": [
    "np.vsplit(one,3)"
   ]
  },
  {
   "cell_type": "code",
   "execution_count": 108,
   "id": "ed0f1288",
   "metadata": {},
   "outputs": [
    {
     "data": {
      "text/plain": [
       "[array([[0, 1, 2]]), array([[3, 4, 5]]), array([[6, 7, 8]])]"
      ]
     },
     "execution_count": 108,
     "metadata": {},
     "output_type": "execute_result"
    }
   ],
   "source": [
    "np.vsplit(p,3)"
   ]
  },
  {
   "cell_type": "code",
   "execution_count": 109,
   "id": "fc521956",
   "metadata": {},
   "outputs": [
    {
     "data": {
      "text/plain": [
       "[array([[0],\n",
       "        [3],\n",
       "        [6]]),\n",
       " array([[1],\n",
       "        [4],\n",
       "        [7]]),\n",
       " array([[2],\n",
       "        [5],\n",
       "        [8]])]"
      ]
     },
     "execution_count": 109,
     "metadata": {},
     "output_type": "execute_result"
    }
   ],
   "source": [
    "np.hsplit(p,3)"
   ]
  },
  {
   "cell_type": "code",
   "execution_count": 50,
   "id": "1f9dc561",
   "metadata": {},
   "outputs": [
    {
     "data": {
      "text/plain": [
       "[array([[1],\n",
       "        [4],\n",
       "        [7]]),\n",
       " array([[2],\n",
       "        [5],\n",
       "        [8]]),\n",
       " array([[3],\n",
       "        [6],\n",
       "        [9]])]"
      ]
     },
     "execution_count": 50,
     "metadata": {},
     "output_type": "execute_result"
    }
   ],
   "source": [
    "np.hsplit(one,3)"
   ]
  },
  {
   "cell_type": "markdown",
   "id": "e3b890d4",
   "metadata": {},
   "source": [
    "12. Create 4x4 identity matrix. Add 4 to each element."
   ]
  },
  {
   "cell_type": "code",
   "execution_count": 51,
   "id": "04d26938",
   "metadata": {},
   "outputs": [
    {
     "data": {
      "text/plain": [
       "array([[5., 4., 4., 4.],\n",
       "       [4., 5., 4., 4.],\n",
       "       [4., 4., 5., 4.],\n",
       "       [4., 4., 4., 5.]])"
      ]
     },
     "execution_count": 51,
     "metadata": {},
     "output_type": "execute_result"
    }
   ],
   "source": [
    "np.eye(4)+4"
   ]
  },
  {
   "cell_type": "code",
   "execution_count": 111,
   "id": "4415d5b8",
   "metadata": {},
   "outputs": [
    {
     "data": {
      "text/plain": [
       "array([[5., 4., 4., 4.],\n",
       "       [4., 5., 4., 4.],\n",
       "       [4., 4., 5., 4.],\n",
       "       [4., 4., 4., 5.]])"
      ]
     },
     "execution_count": 111,
     "metadata": {},
     "output_type": "execute_result"
    }
   ],
   "source": [
    "np.eye(4)+4"
   ]
  },
  {
   "cell_type": "markdown",
   "id": "00582c4e",
   "metadata": {},
   "source": [
    "13. Create 1-D array. Initialize with floating point values. Display it's ceil, floor and round(with 2 decimals)."
   ]
  },
  {
   "cell_type": "code",
   "execution_count": 54,
   "id": "a1522bf6",
   "metadata": {},
   "outputs": [
    {
     "data": {
      "text/plain": [
       "array([ 6.25461093, 11.68193888, 17.03943965, 19.43682781,  9.9705611 ,\n",
       "       14.42664832,  5.06648224,  2.26241645, 19.75433008,  9.64859345])"
      ]
     },
     "execution_count": 54,
     "metadata": {},
     "output_type": "execute_result"
    }
   ],
   "source": [
    "f= np.random.uniform(1,20,10)                                  # . uniform = random float values\n",
    "f"
   ]
  },
  {
   "cell_type": "code",
   "execution_count": 114,
   "id": "893a59a9",
   "metadata": {},
   "outputs": [
    {
     "data": {
      "text/plain": [
       "array([60.11136247, 20.69510228, 82.45713083, 54.2095011 , 24.26612193,\n",
       "       67.88322463, 90.9903591 , 65.93414213, 60.31634445, 98.72284557])"
      ]
     },
     "execution_count": 114,
     "metadata": {},
     "output_type": "execute_result"
    }
   ],
   "source": [
    "h=np.random.uniform(1,100,10)\n",
    "h"
   ]
  },
  {
   "cell_type": "code",
   "execution_count": 115,
   "id": "3eb6da17",
   "metadata": {},
   "outputs": [
    {
     "data": {
      "text/plain": [
       "array([61., 21., 83., 55., 25., 68., 91., 66., 61., 99.])"
      ]
     },
     "execution_count": 115,
     "metadata": {},
     "output_type": "execute_result"
    }
   ],
   "source": [
    "np.ceil(h)"
   ]
  },
  {
   "cell_type": "code",
   "execution_count": 116,
   "id": "d322c310",
   "metadata": {},
   "outputs": [
    {
     "data": {
      "text/plain": [
       "array([60., 20., 82., 54., 24., 67., 90., 65., 60., 98.])"
      ]
     },
     "execution_count": 116,
     "metadata": {},
     "output_type": "execute_result"
    }
   ],
   "source": [
    "np.floor(h)"
   ]
  },
  {
   "cell_type": "code",
   "execution_count": 120,
   "id": "ede1f077",
   "metadata": {},
   "outputs": [
    {
     "data": {
      "text/plain": [
       "array([60.11, 20.7 , 82.46, 54.21, 24.27, 67.88, 90.99, 65.93, 60.32,\n",
       "       98.72])"
      ]
     },
     "execution_count": 120,
     "metadata": {},
     "output_type": "execute_result"
    }
   ],
   "source": [
    "np.round(h,decimals=2)"
   ]
  },
  {
   "cell_type": "code",
   "execution_count": 55,
   "id": "e6b070d1",
   "metadata": {},
   "outputs": [
    {
     "data": {
      "text/plain": [
       "array([ 7., 12., 18., 20., 10., 15.,  6.,  3., 20., 10.])"
      ]
     },
     "execution_count": 55,
     "metadata": {},
     "output_type": "execute_result"
    }
   ],
   "source": [
    "np.ceil(f)"
   ]
  },
  {
   "cell_type": "code",
   "execution_count": 56,
   "id": "0b18df0f",
   "metadata": {},
   "outputs": [
    {
     "data": {
      "text/plain": [
       "array([ 6., 11., 17., 19.,  9., 14.,  5.,  2., 19.,  9.])"
      ]
     },
     "execution_count": 56,
     "metadata": {},
     "output_type": "execute_result"
    }
   ],
   "source": [
    "np.floor(f)"
   ]
  },
  {
   "cell_type": "code",
   "execution_count": 58,
   "id": "fc1efdaa",
   "metadata": {},
   "outputs": [
    {
     "data": {
      "text/plain": [
       "array([ 6.25, 11.68, 17.04, 19.44,  9.97, 14.43,  5.07,  2.26, 19.75,\n",
       "        9.65])"
      ]
     },
     "execution_count": 58,
     "metadata": {},
     "output_type": "execute_result"
    }
   ],
   "source": [
    "np.round(f, decimals=2)"
   ]
  },
  {
   "cell_type": "markdown",
   "id": "0209b328",
   "metadata": {},
   "source": [
    "14. Create 5x5 matrix. Display min,max,variance and standard deviation column-wise."
   ]
  },
  {
   "cell_type": "code",
   "execution_count": 6,
   "id": "2d1d4c7a",
   "metadata": {},
   "outputs": [
    {
     "data": {
      "text/plain": [
       "array([[ 0,  1,  2,  3,  4],\n",
       "       [ 5,  6,  7,  8,  9],\n",
       "       [10, 11, 12, 13, 14],\n",
       "       [15, 16, 17, 18, 19],\n",
       "       [20, 21, 22, 23, 24]])"
      ]
     },
     "execution_count": 6,
     "metadata": {},
     "output_type": "execute_result"
    }
   ],
   "source": [
    "m=np.arange(0,25).reshape(5,5)\n",
    "m"
   ]
  },
  {
   "cell_type": "code",
   "execution_count": 123,
   "id": "29a698c1",
   "metadata": {},
   "outputs": [
    {
     "data": {
      "text/plain": [
       "array([[ 1,  2,  3,  4,  5],\n",
       "       [ 6,  7,  8,  9, 10],\n",
       "       [11, 12, 13, 14, 15],\n",
       "       [16, 17, 18, 19, 20],\n",
       "       [21, 22, 23, 24, 25]])"
      ]
     },
     "execution_count": 123,
     "metadata": {},
     "output_type": "execute_result"
    }
   ],
   "source": [
    "j=np.arange(1,26).reshape(5,5)\n",
    "j"
   ]
  },
  {
   "cell_type": "code",
   "execution_count": 124,
   "id": "33a3ce79",
   "metadata": {},
   "outputs": [
    {
     "data": {
      "text/plain": [
       "array([ 1,  6, 11, 16, 21])"
      ]
     },
     "execution_count": 124,
     "metadata": {},
     "output_type": "execute_result"
    }
   ],
   "source": [
    "np.min(j,axis=1)"
   ]
  },
  {
   "cell_type": "code",
   "execution_count": 125,
   "id": "9c8ad02c",
   "metadata": {},
   "outputs": [
    {
     "data": {
      "text/plain": [
       "array([ 5, 10, 15, 20, 25])"
      ]
     },
     "execution_count": 125,
     "metadata": {},
     "output_type": "execute_result"
    }
   ],
   "source": [
    "np.max(j,axis=1)"
   ]
  },
  {
   "cell_type": "code",
   "execution_count": 127,
   "id": "5870b9dc",
   "metadata": {},
   "outputs": [
    {
     "data": {
      "text/plain": [
       "array([2., 2., 2., 2., 2.])"
      ]
     },
     "execution_count": 127,
     "metadata": {},
     "output_type": "execute_result"
    }
   ],
   "source": [
    "np.var(j,axis=1)"
   ]
  },
  {
   "cell_type": "code",
   "execution_count": 129,
   "id": "9cc9e772",
   "metadata": {},
   "outputs": [
    {
     "data": {
      "text/plain": [
       "array([1.41421356, 1.41421356, 1.41421356, 1.41421356, 1.41421356])"
      ]
     },
     "execution_count": 129,
     "metadata": {},
     "output_type": "execute_result"
    }
   ],
   "source": [
    "np.std(j,axis=1)"
   ]
  },
  {
   "cell_type": "code",
   "execution_count": 7,
   "id": "dccf8f8c",
   "metadata": {},
   "outputs": [
    {
     "data": {
      "text/plain": [
       "array([ 0,  5, 10, 15, 20])"
      ]
     },
     "execution_count": 7,
     "metadata": {},
     "output_type": "execute_result"
    }
   ],
   "source": [
    "# np.min(m,axis=0)                              # row-wise\n",
    "np.min(m,axis=1)                              # columns-wise"
   ]
  },
  {
   "cell_type": "code",
   "execution_count": 70,
   "id": "8245766b",
   "metadata": {},
   "outputs": [
    {
     "data": {
      "text/plain": [
       "array([20, 21, 22, 23, 24])"
      ]
     },
     "execution_count": 70,
     "metadata": {},
     "output_type": "execute_result"
    }
   ],
   "source": [
    "np.max(m,axis=0)"
   ]
  },
  {
   "cell_type": "code",
   "execution_count": 72,
   "id": "4d0b7cbb",
   "metadata": {},
   "outputs": [
    {
     "data": {
      "text/plain": [
       "array([50., 50., 50., 50., 50.])"
      ]
     },
     "execution_count": 72,
     "metadata": {},
     "output_type": "execute_result"
    }
   ],
   "source": [
    "np.var(m,axis=0)"
   ]
  },
  {
   "cell_type": "code",
   "execution_count": 73,
   "id": "09be3fa8",
   "metadata": {},
   "outputs": [
    {
     "data": {
      "text/plain": [
       "array([7.07106781, 7.07106781, 7.07106781, 7.07106781, 7.07106781])"
      ]
     },
     "execution_count": 73,
     "metadata": {},
     "output_type": "execute_result"
    }
   ],
   "source": [
    "np.std(m,axis=0)"
   ]
  },
  {
   "cell_type": "markdown",
   "id": "23108dc0",
   "metadata": {},
   "source": [
    "15. Creat a null vector of sixe 10 with 6th value filled with 200."
   ]
  },
  {
   "cell_type": "code",
   "execution_count": 9,
   "id": "efb09408",
   "metadata": {},
   "outputs": [
    {
     "data": {
      "text/plain": [
       "array([  0,   0,   0,   0,   0,   0, 200,   0,   0,   0])"
      ]
     },
     "execution_count": 9,
     "metadata": {},
     "output_type": "execute_result"
    }
   ],
   "source": [
    "n=np.full((10),0)\n",
    "n[6]=200\n",
    "n"
   ]
  },
  {
   "cell_type": "code",
   "execution_count": 135,
   "id": "8dcf631b",
   "metadata": {},
   "outputs": [
    {
     "data": {
      "text/plain": [
       "array([  0,   0,   0,   0,   0, 200,   0,   0,   0,   0])"
      ]
     },
     "execution_count": 135,
     "metadata": {},
     "output_type": "execute_result"
    }
   ],
   "source": [
    "l=np.full(10,0)\n",
    "l[5]=200\n",
    "l"
   ]
  },
  {
   "cell_type": "markdown",
   "id": "b647deca",
   "metadata": {},
   "source": [
    "16. Create a 1-D array/Vector with values ranging from 100 to 150 in sequence. "
   ]
  },
  {
   "cell_type": "code",
   "execution_count": 10,
   "id": "e6e682fe",
   "metadata": {},
   "outputs": [
    {
     "data": {
      "text/plain": [
       "array([100, 101, 102, 103, 104, 105, 106, 107, 108, 109, 110, 111, 112,\n",
       "       113, 114, 115, 116, 117, 118, 119, 120, 121, 122, 123, 124, 125,\n",
       "       126, 127, 128, 129, 130, 131, 132, 133, 134, 135, 136, 137, 138,\n",
       "       139, 140, 141, 142, 143, 144, 145, 146, 147, 148, 149, 150])"
      ]
     },
     "execution_count": 10,
     "metadata": {},
     "output_type": "execute_result"
    }
   ],
   "source": [
    "vec=np.arange(100,151)\n",
    "vec"
   ]
  },
  {
   "cell_type": "code",
   "execution_count": 137,
   "id": "88760638",
   "metadata": {},
   "outputs": [
    {
     "data": {
      "text/plain": [
       "array([100, 101, 102, 103, 104, 105, 106, 107, 108, 109, 110, 111, 112,\n",
       "       113, 114, 115, 116, 117, 118, 119, 120, 121, 122, 123, 124, 125,\n",
       "       126, 127, 128, 129, 130, 131, 132, 133, 134, 135, 136, 137, 138,\n",
       "       139, 140, 141, 142, 143, 144, 145, 146, 147, 148, 149, 150])"
      ]
     },
     "execution_count": 137,
     "metadata": {},
     "output_type": "execute_result"
    }
   ],
   "source": [
    "q=np.arange(100,151)\n",
    "q"
   ]
  },
  {
   "cell_type": "markdown",
   "id": "c647dd92",
   "metadata": {},
   "source": [
    "17. Reverse the above vector. "
   ]
  },
  {
   "cell_type": "code",
   "execution_count": 6,
   "id": "ab8f76d3",
   "metadata": {},
   "outputs": [
    {
     "data": {
      "text/plain": [
       "array([149, 148, 147, 146, 145, 144, 143, 142, 141, 140, 139, 138, 137,\n",
       "       136, 135, 134, 133, 132, 131, 130, 129, 128, 127, 126, 125, 124,\n",
       "       123, 122, 121, 120, 119, 118, 117, 116, 115, 114, 113, 112, 111,\n",
       "       110, 109, 108, 107, 106, 105, 104, 103, 102, 101, 100])"
      ]
     },
     "execution_count": 6,
     "metadata": {},
     "output_type": "execute_result"
    }
   ],
   "source": [
    "np.flip(vec)"
   ]
  },
  {
   "cell_type": "code",
   "execution_count": 138,
   "id": "ad6f4194",
   "metadata": {},
   "outputs": [
    {
     "data": {
      "text/plain": [
       "array([150, 149, 148, 147, 146, 145, 144, 143, 142, 141, 140, 139, 138,\n",
       "       137, 136, 135, 134, 133, 132, 131, 130, 129, 128, 127, 126, 125,\n",
       "       124, 123, 122, 121, 120, 119, 118, 117, 116, 115, 114, 113, 112,\n",
       "       111, 110, 109, 108, 107, 106, 105, 104, 103, 102, 101, 100])"
      ]
     },
     "execution_count": 138,
     "metadata": {},
     "output_type": "execute_result"
    }
   ],
   "source": [
    "np.flip(q)"
   ]
  },
  {
   "cell_type": "markdown",
   "id": "bf66f254",
   "metadata": {},
   "source": [
    "18. Create a 5x5 matrix with values ranging from 0-24 using some function."
   ]
  },
  {
   "cell_type": "code",
   "execution_count": 7,
   "id": "7bb81b5a",
   "metadata": {},
   "outputs": [
    {
     "data": {
      "text/plain": [
       "array([[ 0,  1,  2,  3,  4],\n",
       "       [ 5,  6,  7,  8,  9],\n",
       "       [10, 11, 12, 13, 14],\n",
       "       [15, 16, 17, 18, 19],\n",
       "       [20, 21, 22, 23, 24]])"
      ]
     },
     "execution_count": 7,
     "metadata": {},
     "output_type": "execute_result"
    }
   ],
   "source": [
    "np.arange(0,25).reshape(5,5)"
   ]
  },
  {
   "cell_type": "code",
   "execution_count": 141,
   "id": "bedc8d17",
   "metadata": {},
   "outputs": [
    {
     "data": {
      "text/plain": [
       "array([[ 1,  2,  3,  4,  5],\n",
       "       [ 6,  7,  8,  9, 10],\n",
       "       [11, 12, 13, 14, 15],\n",
       "       [16, 17, 18, 19, 20],\n",
       "       [21, 22, 23, 24, 25]])"
      ]
     },
     "execution_count": 141,
     "metadata": {},
     "output_type": "execute_result"
    }
   ],
   "source": [
    "np.arange(1,26).reshape(5,5)"
   ]
  },
  {
   "cell_type": "markdown",
   "id": "9abc8f46",
   "metadata": {},
   "source": [
    "19. Find indices of nonzero elements from [1,0,2,0,0,4,0,8]"
   ]
  },
  {
   "cell_type": "code",
   "execution_count": 8,
   "id": "e49596c8",
   "metadata": {},
   "outputs": [
    {
     "data": {
      "text/plain": [
       "(array([0, 2, 5, 7], dtype=int64),)"
      ]
     },
     "execution_count": 8,
     "metadata": {},
     "output_type": "execute_result"
    }
   ],
   "source": [
    "# [1,0,2,0,0,4,0,8]\n",
    "# 0,2,5,7\n",
    "\n",
    "np.nonzero([1,0,2,0,0,4,0,8])"
   ]
  },
  {
   "cell_type": "code",
   "execution_count": 142,
   "id": "de2429bb",
   "metadata": {},
   "outputs": [
    {
     "data": {
      "text/plain": [
       "(array([0, 2, 5, 7], dtype=int64),)"
      ]
     },
     "execution_count": 142,
     "metadata": {},
     "output_type": "execute_result"
    }
   ],
   "source": [
    "np.nonzero([1,0,2,0,0,4,0,8])"
   ]
  },
  {
   "cell_type": "markdown",
   "id": "7f18ea50",
   "metadata": {},
   "source": [
    "20. Create a 10x10 matrix with 1 on the borders and 0 inside."
   ]
  },
  {
   "cell_type": "code",
   "execution_count": 22,
   "id": "2d21d0e5",
   "metadata": {},
   "outputs": [
    {
     "data": {
      "text/plain": [
       "array([[1., 1., 1., 1., 1., 1., 1., 1., 1., 1.],\n",
       "       [1., 1., 1., 1., 1., 1., 1., 1., 1., 1.],\n",
       "       [1., 1., 1., 1., 1., 1., 1., 1., 1., 1.],\n",
       "       [1., 1., 1., 1., 1., 1., 1., 1., 1., 1.],\n",
       "       [1., 1., 1., 1., 1., 1., 1., 1., 1., 1.],\n",
       "       [1., 1., 1., 1., 1., 1., 1., 1., 1., 1.],\n",
       "       [1., 1., 1., 1., 1., 1., 1., 1., 1., 1.],\n",
       "       [1., 1., 1., 1., 1., 1., 1., 1., 1., 1.],\n",
       "       [1., 1., 1., 1., 1., 1., 1., 1., 1., 1.],\n",
       "       [1., 1., 1., 1., 1., 1., 1., 1., 1., 1.]])"
      ]
     },
     "execution_count": 22,
     "metadata": {},
     "output_type": "execute_result"
    }
   ],
   "source": [
    "mat=np.ones((10,10))\n",
    "mat"
   ]
  },
  {
   "cell_type": "code",
   "execution_count": 155,
   "id": "0f98e9e6",
   "metadata": {},
   "outputs": [
    {
     "data": {
      "text/plain": [
       "array([[1., 1., 1., 1., 1., 1., 1., 1., 1., 1.],\n",
       "       [1., 1., 1., 1., 1., 1., 1., 1., 1., 1.],\n",
       "       [1., 1., 1., 1., 1., 1., 1., 1., 1., 1.],\n",
       "       [1., 1., 1., 1., 1., 1., 1., 1., 1., 1.],\n",
       "       [1., 1., 1., 1., 1., 1., 1., 1., 1., 1.],\n",
       "       [1., 1., 1., 1., 1., 1., 1., 1., 1., 1.],\n",
       "       [1., 1., 1., 1., 1., 1., 1., 1., 1., 1.],\n",
       "       [1., 1., 1., 1., 1., 1., 1., 1., 1., 1.],\n",
       "       [1., 1., 1., 1., 1., 1., 1., 1., 1., 1.],\n",
       "       [1., 1., 1., 1., 1., 1., 1., 1., 1., 1.]])"
      ]
     },
     "execution_count": 155,
     "metadata": {},
     "output_type": "execute_result"
    }
   ],
   "source": [
    "w=np.ones((10,10))\n",
    "w"
   ]
  },
  {
   "cell_type": "code",
   "execution_count": 156,
   "id": "273f6ac2",
   "metadata": {},
   "outputs": [
    {
     "data": {
      "text/plain": [
       "array([[1., 1., 1., 1., 1., 1., 1., 1., 1., 1.],\n",
       "       [1., 0., 0., 0., 0., 0., 0., 0., 0., 1.],\n",
       "       [1., 0., 0., 0., 0., 0., 0., 0., 0., 1.],\n",
       "       [1., 0., 0., 0., 0., 0., 0., 0., 0., 1.],\n",
       "       [1., 0., 0., 0., 0., 0., 0., 0., 0., 1.],\n",
       "       [1., 0., 0., 0., 0., 0., 0., 0., 0., 1.],\n",
       "       [1., 0., 0., 0., 0., 0., 0., 0., 0., 1.],\n",
       "       [1., 0., 0., 0., 0., 0., 0., 0., 0., 1.],\n",
       "       [1., 0., 0., 0., 0., 0., 0., 0., 0., 1.],\n",
       "       [1., 1., 1., 1., 1., 1., 1., 1., 1., 1.]])"
      ]
     },
     "execution_count": 156,
     "metadata": {},
     "output_type": "execute_result"
    }
   ],
   "source": [
    "w[1:9,1:9]=0\n",
    "w"
   ]
  },
  {
   "cell_type": "code",
   "execution_count": 23,
   "id": "2ceddc28",
   "metadata": {},
   "outputs": [
    {
     "data": {
      "text/plain": [
       "array([[1., 1., 1., 1., 1., 1., 1., 1., 1., 1.],\n",
       "       [1., 0., 0., 0., 0., 0., 0., 0., 0., 1.],\n",
       "       [1., 0., 0., 0., 0., 0., 0., 0., 0., 1.],\n",
       "       [1., 0., 0., 0., 0., 0., 0., 0., 0., 1.],\n",
       "       [1., 0., 0., 0., 0., 0., 0., 0., 0., 1.],\n",
       "       [1., 0., 0., 0., 0., 0., 0., 0., 0., 1.],\n",
       "       [1., 0., 0., 0., 0., 0., 0., 0., 0., 1.],\n",
       "       [1., 0., 0., 0., 0., 0., 0., 0., 0., 1.],\n",
       "       [1., 0., 0., 0., 0., 0., 0., 0., 0., 1.],\n",
       "       [1., 1., 1., 1., 1., 1., 1., 1., 1., 1.]])"
      ]
     },
     "execution_count": 23,
     "metadata": {},
     "output_type": "execute_result"
    }
   ],
   "source": [
    "mat[1:9,1:9]=0\n",
    "mat"
   ]
  },
  {
   "cell_type": "markdown",
   "id": "7cd0ab8d",
   "metadata": {},
   "source": [
    "21. Create 8x8 matrix and fill with 1 and 0 in checkerboard pattern."
   ]
  },
  {
   "cell_type": "code",
   "execution_count": 16,
   "id": "84725e8a",
   "metadata": {},
   "outputs": [
    {
     "data": {
      "text/plain": [
       "array([[0., 1., 0., 1., 0., 1., 0., 1.],\n",
       "       [1., 0., 1., 0., 1., 0., 1., 0.],\n",
       "       [0., 1., 0., 1., 0., 1., 0., 1.],\n",
       "       [1., 0., 1., 0., 1., 0., 1., 0.],\n",
       "       [0., 1., 0., 1., 0., 1., 0., 1.],\n",
       "       [1., 0., 1., 0., 1., 0., 1., 0.],\n",
       "       [0., 1., 0., 1., 0., 1., 0., 1.],\n",
       "       [1., 0., 1., 0., 1., 0., 1., 0.]])"
      ]
     },
     "execution_count": 16,
     "metadata": {},
     "output_type": "execute_result"
    }
   ],
   "source": [
    "chk=np.ones((8,8))\n",
    "chk[::2,::2]=0\n",
    "chk[1::2,1::2]=0\n",
    "chk"
   ]
  },
  {
   "cell_type": "code",
   "execution_count": 158,
   "id": "23c3a4a0",
   "metadata": {},
   "outputs": [
    {
     "data": {
      "text/plain": [
       "array([[1., 1., 1., 1., 1., 1., 1., 1.],\n",
       "       [1., 1., 1., 1., 1., 1., 1., 1.],\n",
       "       [1., 1., 1., 1., 1., 1., 1., 1.],\n",
       "       [1., 1., 1., 1., 1., 1., 1., 1.],\n",
       "       [1., 1., 1., 1., 1., 1., 1., 1.],\n",
       "       [1., 1., 1., 1., 1., 1., 1., 1.],\n",
       "       [1., 1., 1., 1., 1., 1., 1., 1.],\n",
       "       [1., 1., 1., 1., 1., 1., 1., 1.]])"
      ]
     },
     "execution_count": 158,
     "metadata": {},
     "output_type": "execute_result"
    }
   ],
   "source": [
    "r=np.ones((8,8))\n",
    "r"
   ]
  },
  {
   "cell_type": "code",
   "execution_count": 160,
   "id": "ff5f70d8",
   "metadata": {},
   "outputs": [
    {
     "data": {
      "text/plain": [
       "array([[0., 1., 0., 1., 0., 1., 0., 1.],\n",
       "       [1., 1., 1., 1., 1., 1., 1., 1.],\n",
       "       [0., 1., 0., 1., 0., 1., 0., 1.],\n",
       "       [1., 1., 1., 1., 1., 1., 1., 1.],\n",
       "       [0., 1., 0., 1., 0., 1., 0., 1.],\n",
       "       [1., 1., 1., 1., 1., 1., 1., 1.],\n",
       "       [0., 1., 0., 1., 0., 1., 0., 1.],\n",
       "       [1., 1., 1., 1., 1., 1., 1., 1.]])"
      ]
     },
     "execution_count": 160,
     "metadata": {},
     "output_type": "execute_result"
    }
   ],
   "source": [
    "r[::2,::2]=0\n",
    "r"
   ]
  },
  {
   "cell_type": "code",
   "execution_count": 162,
   "id": "6674c29a",
   "metadata": {},
   "outputs": [
    {
     "data": {
      "text/plain": [
       "array([[0., 1., 0., 1., 0., 1., 0., 1.],\n",
       "       [1., 0., 1., 0., 1., 0., 1., 0.],\n",
       "       [0., 1., 0., 1., 0., 1., 0., 1.],\n",
       "       [1., 0., 1., 0., 1., 0., 1., 0.],\n",
       "       [0., 1., 0., 1., 0., 1., 0., 1.],\n",
       "       [1., 0., 1., 0., 1., 0., 1., 0.],\n",
       "       [0., 1., 0., 1., 0., 1., 0., 1.],\n",
       "       [1., 0., 1., 0., 1., 0., 1., 0.]])"
      ]
     },
     "execution_count": 162,
     "metadata": {},
     "output_type": "execute_result"
    }
   ],
   "source": [
    "r[1::2,1::2]=0\n",
    "r"
   ]
  },
  {
   "cell_type": "markdown",
   "id": "912034e1",
   "metadata": {},
   "source": [
    "22.Create two 3x3 matrix with random integer values. Perform matrix addition,multiplication and subtraction."
   ]
  },
  {
   "cell_type": "code",
   "execution_count": 18,
   "id": "d6722ce4",
   "metadata": {},
   "outputs": [
    {
     "data": {
      "text/plain": [
       "array([[18, 12,  5],\n",
       "       [ 9,  5, 10],\n",
       "       [ 3,  7,  8]])"
      ]
     },
     "execution_count": 18,
     "metadata": {},
     "output_type": "execute_result"
    }
   ],
   "source": [
    "mat1=np.random.randint(0,10,9).reshape((3,3))\n",
    "mat2=np.random.randint(0,10,9).reshape((3,3))\n",
    "sum=mat1+mat2\n",
    "sum\n",
    "# mul=mat1@mat2\n",
    "# mul\n",
    "# sub=mat1-mat2\n",
    "# sub"
   ]
  },
  {
   "cell_type": "code",
   "execution_count": 178,
   "id": "84ee63e7",
   "metadata": {},
   "outputs": [
    {
     "data": {
      "text/plain": [
       "array([[ 5, -3, -4],\n",
       "       [-3, -7, -5],\n",
       "       [-2, -6,  1]])"
      ]
     },
     "execution_count": 178,
     "metadata": {},
     "output_type": "execute_result"
    }
   ],
   "source": [
    "x=np.random.randint(0,10,9).reshape(3,3)\n",
    "y=np.random.randint(0,10,9).reshape(3,3)\n",
    "sub=x-y\n",
    "sub"
   ]
  },
  {
   "cell_type": "markdown",
   "id": "479e687b",
   "metadata": {},
   "source": [
    "21. example\n"
   ]
  },
  {
   "cell_type": "code",
   "execution_count": 61,
   "id": "838fc01a",
   "metadata": {},
   "outputs": [
    {
     "data": {
      "text/plain": [
       "array([[ 0,  1,  2,  3,  4],\n",
       "       [ 5,  6,  7,  8,  9],\n",
       "       [10, 11, 12, 13, 14],\n",
       "       [15, 16, 17, 18, 19],\n",
       "       [20, 21, 22, 23, 24]])"
      ]
     },
     "execution_count": 61,
     "metadata": {},
     "output_type": "execute_result"
    }
   ],
   "source": [
    "mat=np.arange(0,25).reshape(5,5)\n",
    "mat"
   ]
  },
  {
   "cell_type": "code",
   "execution_count": 64,
   "id": "ffa1049a",
   "metadata": {},
   "outputs": [
    {
     "data": {
      "text/plain": [
       "array([[ 0,  1,  0,  3,  0],\n",
       "       [ 5,  6,  7,  8,  9],\n",
       "       [ 0, 11,  0, 13,  0],\n",
       "       [15, 16, 17, 18, 19],\n",
       "       [ 0, 21,  0, 23,  0]])"
      ]
     },
     "execution_count": 64,
     "metadata": {},
     "output_type": "execute_result"
    }
   ],
   "source": [
    "mat[::2,::2]=0\n",
    "mat"
   ]
  },
  {
   "cell_type": "code",
   "execution_count": 67,
   "id": "2446a342",
   "metadata": {},
   "outputs": [
    {
     "data": {
      "text/plain": [
       "array([[ 0,  1,  0,  3,  0],\n",
       "       [ 5,  0,  7,  0,  9],\n",
       "       [ 0, 11,  0, 13,  0],\n",
       "       [15,  0, 17,  0, 19],\n",
       "       [ 0, 21,  0, 23,  0]])"
      ]
     },
     "execution_count": 67,
     "metadata": {},
     "output_type": "execute_result"
    }
   ],
   "source": [
    "mat[1::2,1::2]=0\n",
    "mat"
   ]
  },
  {
   "cell_type": "markdown",
   "id": "3b2b34e2",
   "metadata": {},
   "source": [
    "# Pandas Exercise "
   ]
  },
  {
   "cell_type": "code",
   "execution_count": 194,
   "id": "dfca21fb",
   "metadata": {},
   "outputs": [],
   "source": [
    "import numpy as np"
   ]
  },
  {
   "cell_type": "code",
   "execution_count": 195,
   "id": "e9e1be81",
   "metadata": {},
   "outputs": [],
   "source": [
    "import pandas as pd"
   ]
  },
  {
   "cell_type": "code",
   "execution_count": 207,
   "id": "4ea2b9fc",
   "metadata": {},
   "outputs": [
    {
     "data": {
      "text/plain": [
       "Python    60\n",
       "DBMS      70\n",
       "DSA       80\n",
       "dtype: int64"
      ]
     },
     "execution_count": 207,
     "metadata": {},
     "output_type": "execute_result"
    }
   ],
   "source": [
    "# Series=['Python', 'DSA', 'DBMS']\n",
    "# list=['95,85,75']\n",
    "# pd.Series(Data=list)\n",
    "# pd.\n",
    "\n",
    "marks=pd.Series([60,70,80], index=[\"Python\",\"DBMS\", \"DSA\"])\n",
    "marks"
   ]
  },
  {
   "cell_type": "code",
   "execution_count": 208,
   "id": "ad8bb638",
   "metadata": {},
   "outputs": [
    {
     "data": {
      "text/plain": [
       "science     70\n",
       "hindi       80\n",
       "ss         100\n",
       "dtype: int64"
      ]
     },
     "execution_count": 208,
     "metadata": {},
     "output_type": "execute_result"
    }
   ],
   "source": [
    "a=pd.Series([70,80,100],index=[\"science\",\"hindi\",\"ss\"])\n",
    "a"
   ]
  },
  {
   "cell_type": "code",
   "execution_count": 209,
   "id": "a7351767",
   "metadata": {},
   "outputs": [
    {
     "data": {
      "text/plain": [
       "Index(['Python', 'DBMS', 'DSA'], dtype='object')"
      ]
     },
     "execution_count": 209,
     "metadata": {},
     "output_type": "execute_result"
    }
   ],
   "source": [
    "marks.keys()"
   ]
  },
  {
   "cell_type": "code",
   "execution_count": 210,
   "id": "699b815d",
   "metadata": {},
   "outputs": [
    {
     "data": {
      "text/plain": [
       "Index(['science', 'hindi', 'ss'], dtype='object')"
      ]
     },
     "execution_count": 210,
     "metadata": {},
     "output_type": "execute_result"
    }
   ],
   "source": [
    "a.keys()"
   ]
  },
  {
   "cell_type": "code",
   "execution_count": 211,
   "id": "88a87f93",
   "metadata": {},
   "outputs": [
    {
     "data": {
      "text/plain": [
       "array([60, 70, 80], dtype=int64)"
      ]
     },
     "execution_count": 211,
     "metadata": {},
     "output_type": "execute_result"
    }
   ],
   "source": [
    "marks.values"
   ]
  },
  {
   "cell_type": "code",
   "execution_count": 214,
   "id": "1e51b784",
   "metadata": {},
   "outputs": [
    {
     "data": {
      "text/plain": [
       "array([ 70,  80, 100], dtype=int64)"
      ]
     },
     "execution_count": 214,
     "metadata": {},
     "output_type": "execute_result"
    }
   ],
   "source": [
    "a.values"
   ]
  },
  {
   "cell_type": "code",
   "execution_count": 213,
   "id": "816fb275",
   "metadata": {},
   "outputs": [
    {
     "data": {
      "text/plain": [
       "<bound method IndexOpsMixin.item of Python    60\n",
       "DBMS      70\n",
       "DSA       80\n",
       "dtype: int64>"
      ]
     },
     "execution_count": 213,
     "metadata": {},
     "output_type": "execute_result"
    }
   ],
   "source": [
    "marks.item"
   ]
  },
  {
   "cell_type": "code",
   "execution_count": 215,
   "id": "43db9547",
   "metadata": {},
   "outputs": [
    {
     "data": {
      "text/plain": [
       "<bound method IndexOpsMixin.item of science     70\n",
       "hindi       80\n",
       "ss         100\n",
       "dtype: int64>"
      ]
     },
     "execution_count": 215,
     "metadata": {},
     "output_type": "execute_result"
    }
   ],
   "source": [
    "a.item"
   ]
  },
  {
   "cell_type": "code",
   "execution_count": 21,
   "id": "0c2670a9",
   "metadata": {},
   "outputs": [
    {
     "data": {
      "text/plain": [
       "name         Moksha\n",
       "Course          BCA\n",
       "Address    Vadodara\n",
       "dtype: object"
      ]
     },
     "execution_count": 21,
     "metadata": {},
     "output_type": "execute_result"
    }
   ],
   "source": [
    "d={\"name\":'Moksha',\"Course\":'BCA', \"Address\":'Vadodara'}\n",
    "student=pd.Series(d)\n",
    "student"
   ]
  },
  {
   "cell_type": "code",
   "execution_count": 22,
   "id": "634e8d4e",
   "metadata": {},
   "outputs": [
    {
     "data": {
      "text/plain": [
       "Index(['name', 'Course', 'Address'], dtype='object')"
      ]
     },
     "execution_count": 22,
     "metadata": {},
     "output_type": "execute_result"
    }
   ],
   "source": [
    "student.keys()"
   ]
  },
  {
   "cell_type": "code",
   "execution_count": 24,
   "id": "618d3d6c",
   "metadata": {},
   "outputs": [
    {
     "data": {
      "text/plain": [
       "array(['Moksha', 'BCA', 'Vadodara'], dtype=object)"
      ]
     },
     "execution_count": 24,
     "metadata": {},
     "output_type": "execute_result"
    }
   ],
   "source": [
    "student.values "
   ]
  },
  {
   "cell_type": "code",
   "execution_count": 1,
   "id": "07d165d3",
   "metadata": {},
   "outputs": [],
   "source": [
    "import numpy as np\n",
    "import pandas as pd"
   ]
  },
  {
   "cell_type": "code",
   "execution_count": 5,
   "id": "b03fc5df",
   "metadata": {},
   "outputs": [
    {
     "data": {
      "text/html": [
       "<div>\n",
       "<style scoped>\n",
       "    .dataframe tbody tr th:only-of-type {\n",
       "        vertical-align: middle;\n",
       "    }\n",
       "\n",
       "    .dataframe tbody tr th {\n",
       "        vertical-align: top;\n",
       "    }\n",
       "\n",
       "    .dataframe thead th {\n",
       "        text-align: right;\n",
       "    }\n",
       "</style>\n",
       "<table border=\"1\" class=\"dataframe\">\n",
       "  <thead>\n",
       "    <tr style=\"text-align: right;\">\n",
       "      <th></th>\n",
       "      <th>Python</th>\n",
       "      <th>Data Science</th>\n",
       "      <th>DBMS</th>\n",
       "    </tr>\n",
       "  </thead>\n",
       "  <tbody>\n",
       "    <tr>\n",
       "      <th>Naitik</th>\n",
       "      <td>38</td>\n",
       "      <td>13</td>\n",
       "      <td>73</td>\n",
       "    </tr>\n",
       "    <tr>\n",
       "      <th>Fenil</th>\n",
       "      <td>10</td>\n",
       "      <td>76</td>\n",
       "      <td>6</td>\n",
       "    </tr>\n",
       "    <tr>\n",
       "      <th>Aastha</th>\n",
       "      <td>80</td>\n",
       "      <td>65</td>\n",
       "      <td>17</td>\n",
       "    </tr>\n",
       "    <tr>\n",
       "      <th>Teerth</th>\n",
       "      <td>2</td>\n",
       "      <td>77</td>\n",
       "      <td>72</td>\n",
       "    </tr>\n",
       "  </tbody>\n",
       "</table>\n",
       "</div>"
      ],
      "text/plain": [
       "        Python  Data Science  DBMS\n",
       "Naitik      38            13    73\n",
       "Fenil       10            76     6\n",
       "Aastha      80            65    17\n",
       "Teerth       2            77    72"
      ]
     },
     "execution_count": 5,
     "metadata": {},
     "output_type": "execute_result"
    }
   ],
   "source": [
    "np.random.seed(1)\n",
    "df=pd.DataFrame(np.random.randint(1,100,(4,3)), index=['Naitik','Fenil','Aastha','Teerth'], columns=['Python', 'Data Science', 'DBMS'])\n",
    "df"
   ]
  },
  {
   "cell_type": "code",
   "execution_count": null,
   "id": "0b274cc6",
   "metadata": {},
   "outputs": [],
   "source": []
  },
  {
   "cell_type": "code",
   "execution_count": 5,
   "id": "9315746f",
   "metadata": {},
   "outputs": [
    {
     "data": {
      "text/plain": [
       "Naitik    73\n",
       "Fenil      6\n",
       "Aastha    17\n",
       "Teerth    72\n",
       "Name: DBMS, dtype: int32"
      ]
     },
     "execution_count": 5,
     "metadata": {},
     "output_type": "execute_result"
    }
   ],
   "source": [
    "df['DBMS']"
   ]
  },
  {
   "cell_type": "code",
   "execution_count": 6,
   "id": "7549e0fd",
   "metadata": {},
   "outputs": [
    {
     "data": {
      "text/html": [
       "<div>\n",
       "<style scoped>\n",
       "    .dataframe tbody tr th:only-of-type {\n",
       "        vertical-align: middle;\n",
       "    }\n",
       "\n",
       "    .dataframe tbody tr th {\n",
       "        vertical-align: top;\n",
       "    }\n",
       "\n",
       "    .dataframe thead th {\n",
       "        text-align: right;\n",
       "    }\n",
       "</style>\n",
       "<table border=\"1\" class=\"dataframe\">\n",
       "  <thead>\n",
       "    <tr style=\"text-align: right;\">\n",
       "      <th></th>\n",
       "      <th>Data Science</th>\n",
       "      <th>Python</th>\n",
       "    </tr>\n",
       "  </thead>\n",
       "  <tbody>\n",
       "    <tr>\n",
       "      <th>Naitik</th>\n",
       "      <td>13</td>\n",
       "      <td>38</td>\n",
       "    </tr>\n",
       "    <tr>\n",
       "      <th>Fenil</th>\n",
       "      <td>76</td>\n",
       "      <td>10</td>\n",
       "    </tr>\n",
       "    <tr>\n",
       "      <th>Aastha</th>\n",
       "      <td>65</td>\n",
       "      <td>80</td>\n",
       "    </tr>\n",
       "    <tr>\n",
       "      <th>Teerth</th>\n",
       "      <td>77</td>\n",
       "      <td>2</td>\n",
       "    </tr>\n",
       "  </tbody>\n",
       "</table>\n",
       "</div>"
      ],
      "text/plain": [
       "        Data Science  Python\n",
       "Naitik            13      38\n",
       "Fenil             76      10\n",
       "Aastha            65      80\n",
       "Teerth            77       2"
      ]
     },
     "execution_count": 6,
     "metadata": {},
     "output_type": "execute_result"
    }
   ],
   "source": [
    "df[['Data Science','Python']]"
   ]
  },
  {
   "cell_type": "code",
   "execution_count": 7,
   "id": "5bf5780d",
   "metadata": {},
   "outputs": [
    {
     "data": {
      "text/plain": [
       "Python          38\n",
       "Data Science    13\n",
       "DBMS            73\n",
       "Name: Naitik, dtype: int32"
      ]
     },
     "execution_count": 7,
     "metadata": {},
     "output_type": "execute_result"
    }
   ],
   "source": [
    "df.loc['Naitik']"
   ]
  },
  {
   "cell_type": "code",
   "execution_count": 8,
   "id": "8d0e14d2",
   "metadata": {},
   "outputs": [
    {
     "data": {
      "text/html": [
       "<div>\n",
       "<style scoped>\n",
       "    .dataframe tbody tr th:only-of-type {\n",
       "        vertical-align: middle;\n",
       "    }\n",
       "\n",
       "    .dataframe tbody tr th {\n",
       "        vertical-align: top;\n",
       "    }\n",
       "\n",
       "    .dataframe thead th {\n",
       "        text-align: right;\n",
       "    }\n",
       "</style>\n",
       "<table border=\"1\" class=\"dataframe\">\n",
       "  <thead>\n",
       "    <tr style=\"text-align: right;\">\n",
       "      <th></th>\n",
       "      <th>Python</th>\n",
       "      <th>Data Science</th>\n",
       "      <th>DBMS</th>\n",
       "    </tr>\n",
       "  </thead>\n",
       "  <tbody>\n",
       "    <tr>\n",
       "      <th>Naitik</th>\n",
       "      <td>38</td>\n",
       "      <td>13</td>\n",
       "      <td>73</td>\n",
       "    </tr>\n",
       "    <tr>\n",
       "      <th>Fenil</th>\n",
       "      <td>10</td>\n",
       "      <td>76</td>\n",
       "      <td>6</td>\n",
       "    </tr>\n",
       "  </tbody>\n",
       "</table>\n",
       "</div>"
      ],
      "text/plain": [
       "        Python  Data Science  DBMS\n",
       "Naitik      38            13    73\n",
       "Fenil       10            76     6"
      ]
     },
     "execution_count": 8,
     "metadata": {},
     "output_type": "execute_result"
    }
   ],
   "source": [
    "df.loc[['Naitik','Fenil']]"
   ]
  },
  {
   "cell_type": "code",
   "execution_count": 9,
   "id": "cd0ebba1",
   "metadata": {},
   "outputs": [
    {
     "data": {
      "text/plain": [
       "Python          80\n",
       "Data Science    65\n",
       "DBMS            17\n",
       "Name: Aastha, dtype: int32"
      ]
     },
     "execution_count": 9,
     "metadata": {},
     "output_type": "execute_result"
    }
   ],
   "source": [
    "df.iloc[2]"
   ]
  },
  {
   "cell_type": "code",
   "execution_count": 10,
   "id": "d5a9b8f6",
   "metadata": {},
   "outputs": [
    {
     "data": {
      "text/html": [
       "<div>\n",
       "<style scoped>\n",
       "    .dataframe tbody tr th:only-of-type {\n",
       "        vertical-align: middle;\n",
       "    }\n",
       "\n",
       "    .dataframe tbody tr th {\n",
       "        vertical-align: top;\n",
       "    }\n",
       "\n",
       "    .dataframe thead th {\n",
       "        text-align: right;\n",
       "    }\n",
       "</style>\n",
       "<table border=\"1\" class=\"dataframe\">\n",
       "  <thead>\n",
       "    <tr style=\"text-align: right;\">\n",
       "      <th></th>\n",
       "      <th>Python</th>\n",
       "      <th>Data Science</th>\n",
       "      <th>DBMS</th>\n",
       "      <th>Name</th>\n",
       "    </tr>\n",
       "  </thead>\n",
       "  <tbody>\n",
       "    <tr>\n",
       "      <th>Naitik</th>\n",
       "      <td>38</td>\n",
       "      <td>13</td>\n",
       "      <td>73</td>\n",
       "      <td>Naitik</td>\n",
       "    </tr>\n",
       "    <tr>\n",
       "      <th>Fenil</th>\n",
       "      <td>10</td>\n",
       "      <td>76</td>\n",
       "      <td>6</td>\n",
       "      <td>Fenil</td>\n",
       "    </tr>\n",
       "    <tr>\n",
       "      <th>Aastha</th>\n",
       "      <td>80</td>\n",
       "      <td>65</td>\n",
       "      <td>17</td>\n",
       "      <td>Aastha</td>\n",
       "    </tr>\n",
       "    <tr>\n",
       "      <th>Teerth</th>\n",
       "      <td>2</td>\n",
       "      <td>77</td>\n",
       "      <td>72</td>\n",
       "      <td>Teerth</td>\n",
       "    </tr>\n",
       "  </tbody>\n",
       "</table>\n",
       "</div>"
      ],
      "text/plain": [
       "        Python  Data Science  DBMS    Name\n",
       "Naitik      38            13    73  Naitik\n",
       "Fenil       10            76     6   Fenil\n",
       "Aastha      80            65    17  Aastha\n",
       "Teerth       2            77    72  Teerth"
      ]
     },
     "execution_count": 10,
     "metadata": {},
     "output_type": "execute_result"
    }
   ],
   "source": [
    "df[\"Name\"]=[\"Naitik\",\"Fenil\",\"Aastha\",\"Teerth\"]\n",
    "df"
   ]
  },
  {
   "cell_type": "code",
   "execution_count": 11,
   "id": "000515b4",
   "metadata": {},
   "outputs": [
    {
     "data": {
      "text/html": [
       "<div>\n",
       "<style scoped>\n",
       "    .dataframe tbody tr th:only-of-type {\n",
       "        vertical-align: middle;\n",
       "    }\n",
       "\n",
       "    .dataframe tbody tr th {\n",
       "        vertical-align: top;\n",
       "    }\n",
       "\n",
       "    .dataframe thead th {\n",
       "        text-align: right;\n",
       "    }\n",
       "</style>\n",
       "<table border=\"1\" class=\"dataframe\">\n",
       "  <thead>\n",
       "    <tr style=\"text-align: right;\">\n",
       "      <th></th>\n",
       "      <th>Python</th>\n",
       "      <th>Data Science</th>\n",
       "      <th>DBMS</th>\n",
       "    </tr>\n",
       "    <tr>\n",
       "      <th>Name</th>\n",
       "      <th></th>\n",
       "      <th></th>\n",
       "      <th></th>\n",
       "    </tr>\n",
       "  </thead>\n",
       "  <tbody>\n",
       "    <tr>\n",
       "      <th>Naitik</th>\n",
       "      <td>38</td>\n",
       "      <td>13</td>\n",
       "      <td>73</td>\n",
       "    </tr>\n",
       "    <tr>\n",
       "      <th>Fenil</th>\n",
       "      <td>10</td>\n",
       "      <td>76</td>\n",
       "      <td>6</td>\n",
       "    </tr>\n",
       "    <tr>\n",
       "      <th>Aastha</th>\n",
       "      <td>80</td>\n",
       "      <td>65</td>\n",
       "      <td>17</td>\n",
       "    </tr>\n",
       "    <tr>\n",
       "      <th>Teerth</th>\n",
       "      <td>2</td>\n",
       "      <td>77</td>\n",
       "      <td>72</td>\n",
       "    </tr>\n",
       "  </tbody>\n",
       "</table>\n",
       "</div>"
      ],
      "text/plain": [
       "        Python  Data Science  DBMS\n",
       "Name                              \n",
       "Naitik      38            13    73\n",
       "Fenil       10            76     6\n",
       "Aastha      80            65    17\n",
       "Teerth       2            77    72"
      ]
     },
     "execution_count": 11,
     "metadata": {},
     "output_type": "execute_result"
    }
   ],
   "source": [
    "df.set_index('Name')"
   ]
  },
  {
   "cell_type": "code",
   "execution_count": 12,
   "id": "087618da",
   "metadata": {},
   "outputs": [
    {
     "data": {
      "text/html": [
       "<div>\n",
       "<style scoped>\n",
       "    .dataframe tbody tr th:only-of-type {\n",
       "        vertical-align: middle;\n",
       "    }\n",
       "\n",
       "    .dataframe tbody tr th {\n",
       "        vertical-align: top;\n",
       "    }\n",
       "\n",
       "    .dataframe thead th {\n",
       "        text-align: right;\n",
       "    }\n",
       "</style>\n",
       "<table border=\"1\" class=\"dataframe\">\n",
       "  <thead>\n",
       "    <tr style=\"text-align: right;\">\n",
       "      <th></th>\n",
       "      <th>Python</th>\n",
       "      <th>Data Science</th>\n",
       "      <th>DBMS</th>\n",
       "      <th>Name</th>\n",
       "      <th>total</th>\n",
       "    </tr>\n",
       "  </thead>\n",
       "  <tbody>\n",
       "    <tr>\n",
       "      <th>Naitik</th>\n",
       "      <td>38</td>\n",
       "      <td>13</td>\n",
       "      <td>73</td>\n",
       "      <td>Naitik</td>\n",
       "      <td>124</td>\n",
       "    </tr>\n",
       "    <tr>\n",
       "      <th>Fenil</th>\n",
       "      <td>10</td>\n",
       "      <td>76</td>\n",
       "      <td>6</td>\n",
       "      <td>Fenil</td>\n",
       "      <td>92</td>\n",
       "    </tr>\n",
       "    <tr>\n",
       "      <th>Aastha</th>\n",
       "      <td>80</td>\n",
       "      <td>65</td>\n",
       "      <td>17</td>\n",
       "      <td>Aastha</td>\n",
       "      <td>162</td>\n",
       "    </tr>\n",
       "    <tr>\n",
       "      <th>Teerth</th>\n",
       "      <td>2</td>\n",
       "      <td>77</td>\n",
       "      <td>72</td>\n",
       "      <td>Teerth</td>\n",
       "      <td>151</td>\n",
       "    </tr>\n",
       "  </tbody>\n",
       "</table>\n",
       "</div>"
      ],
      "text/plain": [
       "        Python  Data Science  DBMS    Name  total\n",
       "Naitik      38            13    73  Naitik    124\n",
       "Fenil       10            76     6   Fenil     92\n",
       "Aastha      80            65    17  Aastha    162\n",
       "Teerth       2            77    72  Teerth    151"
      ]
     },
     "execution_count": 12,
     "metadata": {},
     "output_type": "execute_result"
    }
   ],
   "source": [
    "df[\"total\"]=df[\"Python\"]+df[\"Data Science\"]+df[\"DBMS\"]\n",
    "df"
   ]
  },
  {
   "cell_type": "code",
   "execution_count": 13,
   "id": "2de6ee83",
   "metadata": {},
   "outputs": [
    {
     "data": {
      "text/html": [
       "<div>\n",
       "<style scoped>\n",
       "    .dataframe tbody tr th:only-of-type {\n",
       "        vertical-align: middle;\n",
       "    }\n",
       "\n",
       "    .dataframe tbody tr th {\n",
       "        vertical-align: top;\n",
       "    }\n",
       "\n",
       "    .dataframe thead th {\n",
       "        text-align: right;\n",
       "    }\n",
       "</style>\n",
       "<table border=\"1\" class=\"dataframe\">\n",
       "  <thead>\n",
       "    <tr style=\"text-align: right;\">\n",
       "      <th></th>\n",
       "      <th>Python</th>\n",
       "      <th>Data Science</th>\n",
       "      <th>DBMS</th>\n",
       "      <th>Name</th>\n",
       "      <th>total</th>\n",
       "      <th>Percentage</th>\n",
       "    </tr>\n",
       "  </thead>\n",
       "  <tbody>\n",
       "    <tr>\n",
       "      <th>Naitik</th>\n",
       "      <td>38</td>\n",
       "      <td>13</td>\n",
       "      <td>73</td>\n",
       "      <td>Naitik</td>\n",
       "      <td>124</td>\n",
       "      <td>41.333333</td>\n",
       "    </tr>\n",
       "    <tr>\n",
       "      <th>Fenil</th>\n",
       "      <td>10</td>\n",
       "      <td>76</td>\n",
       "      <td>6</td>\n",
       "      <td>Fenil</td>\n",
       "      <td>92</td>\n",
       "      <td>30.666667</td>\n",
       "    </tr>\n",
       "    <tr>\n",
       "      <th>Aastha</th>\n",
       "      <td>80</td>\n",
       "      <td>65</td>\n",
       "      <td>17</td>\n",
       "      <td>Aastha</td>\n",
       "      <td>162</td>\n",
       "      <td>54.000000</td>\n",
       "    </tr>\n",
       "    <tr>\n",
       "      <th>Teerth</th>\n",
       "      <td>2</td>\n",
       "      <td>77</td>\n",
       "      <td>72</td>\n",
       "      <td>Teerth</td>\n",
       "      <td>151</td>\n",
       "      <td>50.333333</td>\n",
       "    </tr>\n",
       "  </tbody>\n",
       "</table>\n",
       "</div>"
      ],
      "text/plain": [
       "        Python  Data Science  DBMS    Name  total  Percentage\n",
       "Naitik      38            13    73  Naitik    124   41.333333\n",
       "Fenil       10            76     6   Fenil     92   30.666667\n",
       "Aastha      80            65    17  Aastha    162   54.000000\n",
       "Teerth       2            77    72  Teerth    151   50.333333"
      ]
     },
     "execution_count": 13,
     "metadata": {},
     "output_type": "execute_result"
    }
   ],
   "source": [
    "df[\"Percentage\"]=((df[\"Python\"]+df[\"Data Science\"]+df[\"DBMS\"])/300)*100\n",
    "df"
   ]
  },
  {
   "cell_type": "code",
   "execution_count": 14,
   "id": "61e5df4e",
   "metadata": {},
   "outputs": [
    {
     "data": {
      "text/html": [
       "<div>\n",
       "<style scoped>\n",
       "    .dataframe tbody tr th:only-of-type {\n",
       "        vertical-align: middle;\n",
       "    }\n",
       "\n",
       "    .dataframe tbody tr th {\n",
       "        vertical-align: top;\n",
       "    }\n",
       "\n",
       "    .dataframe thead th {\n",
       "        text-align: right;\n",
       "    }\n",
       "</style>\n",
       "<table border=\"1\" class=\"dataframe\">\n",
       "  <thead>\n",
       "    <tr style=\"text-align: right;\">\n",
       "      <th></th>\n",
       "      <th>Python</th>\n",
       "      <th>Data Science</th>\n",
       "      <th>DBMS</th>\n",
       "      <th>Name</th>\n",
       "      <th>total</th>\n",
       "    </tr>\n",
       "  </thead>\n",
       "  <tbody>\n",
       "    <tr>\n",
       "      <th>Naitik</th>\n",
       "      <td>38</td>\n",
       "      <td>13</td>\n",
       "      <td>73</td>\n",
       "      <td>Naitik</td>\n",
       "      <td>124</td>\n",
       "    </tr>\n",
       "    <tr>\n",
       "      <th>Fenil</th>\n",
       "      <td>10</td>\n",
       "      <td>76</td>\n",
       "      <td>6</td>\n",
       "      <td>Fenil</td>\n",
       "      <td>92</td>\n",
       "    </tr>\n",
       "    <tr>\n",
       "      <th>Aastha</th>\n",
       "      <td>80</td>\n",
       "      <td>65</td>\n",
       "      <td>17</td>\n",
       "      <td>Aastha</td>\n",
       "      <td>162</td>\n",
       "    </tr>\n",
       "    <tr>\n",
       "      <th>Teerth</th>\n",
       "      <td>2</td>\n",
       "      <td>77</td>\n",
       "      <td>72</td>\n",
       "      <td>Teerth</td>\n",
       "      <td>151</td>\n",
       "    </tr>\n",
       "  </tbody>\n",
       "</table>\n",
       "</div>"
      ],
      "text/plain": [
       "        Python  Data Science  DBMS    Name  total\n",
       "Naitik      38            13    73  Naitik    124\n",
       "Fenil       10            76     6   Fenil     92\n",
       "Aastha      80            65    17  Aastha    162\n",
       "Teerth       2            77    72  Teerth    151"
      ]
     },
     "execution_count": 14,
     "metadata": {},
     "output_type": "execute_result"
    }
   ],
   "source": [
    "df.drop('Percentage', axis=1)"
   ]
  },
  {
   "cell_type": "code",
   "execution_count": 15,
   "id": "20be589d",
   "metadata": {},
   "outputs": [],
   "source": [
    "df.drop('Percentage', axis=1,inplace=True)"
   ]
  },
  {
   "cell_type": "code",
   "execution_count": 16,
   "id": "31b8ea39",
   "metadata": {},
   "outputs": [
    {
     "data": {
      "text/html": [
       "<div>\n",
       "<style scoped>\n",
       "    .dataframe tbody tr th:only-of-type {\n",
       "        vertical-align: middle;\n",
       "    }\n",
       "\n",
       "    .dataframe tbody tr th {\n",
       "        vertical-align: top;\n",
       "    }\n",
       "\n",
       "    .dataframe thead th {\n",
       "        text-align: right;\n",
       "    }\n",
       "</style>\n",
       "<table border=\"1\" class=\"dataframe\">\n",
       "  <thead>\n",
       "    <tr style=\"text-align: right;\">\n",
       "      <th></th>\n",
       "      <th>Python</th>\n",
       "      <th>Data Science</th>\n",
       "      <th>DBMS</th>\n",
       "      <th>Name</th>\n",
       "      <th>total</th>\n",
       "    </tr>\n",
       "  </thead>\n",
       "  <tbody>\n",
       "    <tr>\n",
       "      <th>Naitik</th>\n",
       "      <td>38</td>\n",
       "      <td>13</td>\n",
       "      <td>73</td>\n",
       "      <td>Naitik</td>\n",
       "      <td>124</td>\n",
       "    </tr>\n",
       "    <tr>\n",
       "      <th>Fenil</th>\n",
       "      <td>10</td>\n",
       "      <td>76</td>\n",
       "      <td>6</td>\n",
       "      <td>Fenil</td>\n",
       "      <td>92</td>\n",
       "    </tr>\n",
       "    <tr>\n",
       "      <th>Aastha</th>\n",
       "      <td>80</td>\n",
       "      <td>65</td>\n",
       "      <td>17</td>\n",
       "      <td>Aastha</td>\n",
       "      <td>162</td>\n",
       "    </tr>\n",
       "    <tr>\n",
       "      <th>Teerth</th>\n",
       "      <td>2</td>\n",
       "      <td>77</td>\n",
       "      <td>72</td>\n",
       "      <td>Teerth</td>\n",
       "      <td>151</td>\n",
       "    </tr>\n",
       "  </tbody>\n",
       "</table>\n",
       "</div>"
      ],
      "text/plain": [
       "        Python  Data Science  DBMS    Name  total\n",
       "Naitik      38            13    73  Naitik    124\n",
       "Fenil       10            76     6   Fenil     92\n",
       "Aastha      80            65    17  Aastha    162\n",
       "Teerth       2            77    72  Teerth    151"
      ]
     },
     "execution_count": 16,
     "metadata": {},
     "output_type": "execute_result"
    }
   ],
   "source": [
    "df"
   ]
  },
  {
   "cell_type": "code",
   "execution_count": 17,
   "id": "31ae9526",
   "metadata": {},
   "outputs": [
    {
     "ename": "ParserError",
     "evalue": "Error tokenizing data. C error: Expected 5 fields in line 6, saw 6\n",
     "output_type": "error",
     "traceback": [
      "\u001b[1;31m---------------------------------------------------------------------------\u001b[0m",
      "\u001b[1;31mParserError\u001b[0m                               Traceback (most recent call last)",
      "\u001b[1;32m~\\AppData\\Local\\Temp\\ipykernel_22344\\1400704473.py\u001b[0m in \u001b[0;36m<module>\u001b[1;34m\u001b[0m\n\u001b[1;32m----> 1\u001b[1;33m \u001b[0mdf1\u001b[0m\u001b[1;33m=\u001b[0m\u001b[0mpd\u001b[0m\u001b[1;33m.\u001b[0m\u001b[0mread_csv\u001b[0m\u001b[1;33m(\u001b[0m\u001b[1;34m'Q5data.csv'\u001b[0m\u001b[1;33m)\u001b[0m\u001b[1;33m\u001b[0m\u001b[1;33m\u001b[0m\u001b[0m\n\u001b[0m\u001b[0;32m      2\u001b[0m \u001b[0mdf1\u001b[0m\u001b[1;33m\u001b[0m\u001b[1;33m\u001b[0m\u001b[0m\n",
      "\u001b[1;32m~\\anaconda3\\lib\\site-packages\\pandas\\util\\_decorators.py\u001b[0m in \u001b[0;36mwrapper\u001b[1;34m(*args, **kwargs)\u001b[0m\n\u001b[0;32m    309\u001b[0m                     \u001b[0mstacklevel\u001b[0m\u001b[1;33m=\u001b[0m\u001b[0mstacklevel\u001b[0m\u001b[1;33m,\u001b[0m\u001b[1;33m\u001b[0m\u001b[1;33m\u001b[0m\u001b[0m\n\u001b[0;32m    310\u001b[0m                 )\n\u001b[1;32m--> 311\u001b[1;33m             \u001b[1;32mreturn\u001b[0m \u001b[0mfunc\u001b[0m\u001b[1;33m(\u001b[0m\u001b[1;33m*\u001b[0m\u001b[0margs\u001b[0m\u001b[1;33m,\u001b[0m \u001b[1;33m**\u001b[0m\u001b[0mkwargs\u001b[0m\u001b[1;33m)\u001b[0m\u001b[1;33m\u001b[0m\u001b[1;33m\u001b[0m\u001b[0m\n\u001b[0m\u001b[0;32m    312\u001b[0m \u001b[1;33m\u001b[0m\u001b[0m\n\u001b[0;32m    313\u001b[0m         \u001b[1;32mreturn\u001b[0m \u001b[0mwrapper\u001b[0m\u001b[1;33m\u001b[0m\u001b[1;33m\u001b[0m\u001b[0m\n",
      "\u001b[1;32m~\\anaconda3\\lib\\site-packages\\pandas\\io\\parsers\\readers.py\u001b[0m in \u001b[0;36mread_csv\u001b[1;34m(filepath_or_buffer, sep, delimiter, header, names, index_col, usecols, squeeze, prefix, mangle_dupe_cols, dtype, engine, converters, true_values, false_values, skipinitialspace, skiprows, skipfooter, nrows, na_values, keep_default_na, na_filter, verbose, skip_blank_lines, parse_dates, infer_datetime_format, keep_date_col, date_parser, dayfirst, cache_dates, iterator, chunksize, compression, thousands, decimal, lineterminator, quotechar, quoting, doublequote, escapechar, comment, encoding, encoding_errors, dialect, error_bad_lines, warn_bad_lines, on_bad_lines, delim_whitespace, low_memory, memory_map, float_precision, storage_options)\u001b[0m\n\u001b[0;32m    676\u001b[0m     \u001b[0mkwds\u001b[0m\u001b[1;33m.\u001b[0m\u001b[0mupdate\u001b[0m\u001b[1;33m(\u001b[0m\u001b[0mkwds_defaults\u001b[0m\u001b[1;33m)\u001b[0m\u001b[1;33m\u001b[0m\u001b[1;33m\u001b[0m\u001b[0m\n\u001b[0;32m    677\u001b[0m \u001b[1;33m\u001b[0m\u001b[0m\n\u001b[1;32m--> 678\u001b[1;33m     \u001b[1;32mreturn\u001b[0m \u001b[0m_read\u001b[0m\u001b[1;33m(\u001b[0m\u001b[0mfilepath_or_buffer\u001b[0m\u001b[1;33m,\u001b[0m \u001b[0mkwds\u001b[0m\u001b[1;33m)\u001b[0m\u001b[1;33m\u001b[0m\u001b[1;33m\u001b[0m\u001b[0m\n\u001b[0m\u001b[0;32m    679\u001b[0m \u001b[1;33m\u001b[0m\u001b[0m\n\u001b[0;32m    680\u001b[0m \u001b[1;33m\u001b[0m\u001b[0m\n",
      "\u001b[1;32m~\\anaconda3\\lib\\site-packages\\pandas\\io\\parsers\\readers.py\u001b[0m in \u001b[0;36m_read\u001b[1;34m(filepath_or_buffer, kwds)\u001b[0m\n\u001b[0;32m    579\u001b[0m \u001b[1;33m\u001b[0m\u001b[0m\n\u001b[0;32m    580\u001b[0m     \u001b[1;32mwith\u001b[0m \u001b[0mparser\u001b[0m\u001b[1;33m:\u001b[0m\u001b[1;33m\u001b[0m\u001b[1;33m\u001b[0m\u001b[0m\n\u001b[1;32m--> 581\u001b[1;33m         \u001b[1;32mreturn\u001b[0m \u001b[0mparser\u001b[0m\u001b[1;33m.\u001b[0m\u001b[0mread\u001b[0m\u001b[1;33m(\u001b[0m\u001b[0mnrows\u001b[0m\u001b[1;33m)\u001b[0m\u001b[1;33m\u001b[0m\u001b[1;33m\u001b[0m\u001b[0m\n\u001b[0m\u001b[0;32m    582\u001b[0m \u001b[1;33m\u001b[0m\u001b[0m\n\u001b[0;32m    583\u001b[0m \u001b[1;33m\u001b[0m\u001b[0m\n",
      "\u001b[1;32m~\\anaconda3\\lib\\site-packages\\pandas\\io\\parsers\\readers.py\u001b[0m in \u001b[0;36mread\u001b[1;34m(self, nrows)\u001b[0m\n\u001b[0;32m   1251\u001b[0m             \u001b[0mnrows\u001b[0m \u001b[1;33m=\u001b[0m \u001b[0mvalidate_integer\u001b[0m\u001b[1;33m(\u001b[0m\u001b[1;34m\"nrows\"\u001b[0m\u001b[1;33m,\u001b[0m \u001b[0mnrows\u001b[0m\u001b[1;33m)\u001b[0m\u001b[1;33m\u001b[0m\u001b[1;33m\u001b[0m\u001b[0m\n\u001b[0;32m   1252\u001b[0m             \u001b[1;32mtry\u001b[0m\u001b[1;33m:\u001b[0m\u001b[1;33m\u001b[0m\u001b[1;33m\u001b[0m\u001b[0m\n\u001b[1;32m-> 1253\u001b[1;33m                 \u001b[0mindex\u001b[0m\u001b[1;33m,\u001b[0m \u001b[0mcolumns\u001b[0m\u001b[1;33m,\u001b[0m \u001b[0mcol_dict\u001b[0m \u001b[1;33m=\u001b[0m \u001b[0mself\u001b[0m\u001b[1;33m.\u001b[0m\u001b[0m_engine\u001b[0m\u001b[1;33m.\u001b[0m\u001b[0mread\u001b[0m\u001b[1;33m(\u001b[0m\u001b[0mnrows\u001b[0m\u001b[1;33m)\u001b[0m\u001b[1;33m\u001b[0m\u001b[1;33m\u001b[0m\u001b[0m\n\u001b[0m\u001b[0;32m   1254\u001b[0m             \u001b[1;32mexcept\u001b[0m \u001b[0mException\u001b[0m\u001b[1;33m:\u001b[0m\u001b[1;33m\u001b[0m\u001b[1;33m\u001b[0m\u001b[0m\n\u001b[0;32m   1255\u001b[0m                 \u001b[0mself\u001b[0m\u001b[1;33m.\u001b[0m\u001b[0mclose\u001b[0m\u001b[1;33m(\u001b[0m\u001b[1;33m)\u001b[0m\u001b[1;33m\u001b[0m\u001b[1;33m\u001b[0m\u001b[0m\n",
      "\u001b[1;32m~\\anaconda3\\lib\\site-packages\\pandas\\io\\parsers\\c_parser_wrapper.py\u001b[0m in \u001b[0;36mread\u001b[1;34m(self, nrows)\u001b[0m\n\u001b[0;32m    223\u001b[0m         \u001b[1;32mtry\u001b[0m\u001b[1;33m:\u001b[0m\u001b[1;33m\u001b[0m\u001b[1;33m\u001b[0m\u001b[0m\n\u001b[0;32m    224\u001b[0m             \u001b[1;32mif\u001b[0m \u001b[0mself\u001b[0m\u001b[1;33m.\u001b[0m\u001b[0mlow_memory\u001b[0m\u001b[1;33m:\u001b[0m\u001b[1;33m\u001b[0m\u001b[1;33m\u001b[0m\u001b[0m\n\u001b[1;32m--> 225\u001b[1;33m                 \u001b[0mchunks\u001b[0m \u001b[1;33m=\u001b[0m \u001b[0mself\u001b[0m\u001b[1;33m.\u001b[0m\u001b[0m_reader\u001b[0m\u001b[1;33m.\u001b[0m\u001b[0mread_low_memory\u001b[0m\u001b[1;33m(\u001b[0m\u001b[0mnrows\u001b[0m\u001b[1;33m)\u001b[0m\u001b[1;33m\u001b[0m\u001b[1;33m\u001b[0m\u001b[0m\n\u001b[0m\u001b[0;32m    226\u001b[0m                 \u001b[1;31m# destructive to chunks\u001b[0m\u001b[1;33m\u001b[0m\u001b[1;33m\u001b[0m\u001b[0m\n\u001b[0;32m    227\u001b[0m                 \u001b[0mdata\u001b[0m \u001b[1;33m=\u001b[0m \u001b[0m_concatenate_chunks\u001b[0m\u001b[1;33m(\u001b[0m\u001b[0mchunks\u001b[0m\u001b[1;33m)\u001b[0m\u001b[1;33m\u001b[0m\u001b[1;33m\u001b[0m\u001b[0m\n",
      "\u001b[1;32m~\\anaconda3\\lib\\site-packages\\pandas\\_libs\\parsers.pyx\u001b[0m in \u001b[0;36mpandas._libs.parsers.TextReader.read_low_memory\u001b[1;34m()\u001b[0m\n",
      "\u001b[1;32m~\\anaconda3\\lib\\site-packages\\pandas\\_libs\\parsers.pyx\u001b[0m in \u001b[0;36mpandas._libs.parsers.TextReader._read_rows\u001b[1;34m()\u001b[0m\n",
      "\u001b[1;32m~\\anaconda3\\lib\\site-packages\\pandas\\_libs\\parsers.pyx\u001b[0m in \u001b[0;36mpandas._libs.parsers.TextReader._tokenize_rows\u001b[1;34m()\u001b[0m\n",
      "\u001b[1;32m~\\anaconda3\\lib\\site-packages\\pandas\\_libs\\parsers.pyx\u001b[0m in \u001b[0;36mpandas._libs.parsers.raise_parser_error\u001b[1;34m()\u001b[0m\n",
      "\u001b[1;31mParserError\u001b[0m: Error tokenizing data. C error: Expected 5 fields in line 6, saw 6\n"
     ]
    }
   ],
   "source": [
    "df1=pd.read_csv('Q5data.csv')\n",
    "df1"
   ]
  },
  {
   "cell_type": "markdown",
   "id": "986ddf12",
   "metadata": {},
   "source": [
    "# Lab Manual-5"
   ]
  },
  {
   "cell_type": "markdown",
   "id": "790135bc",
   "metadata": {},
   "source": [
    "1. Create a 3 list Viz. ProductID, Product Name, Product Price with 5 elements each. Add this elements to create a DataFrame."
   ]
  },
  {
   "cell_type": "code",
   "execution_count": 18,
   "id": "ff597444",
   "metadata": {},
   "outputs": [
    {
     "data": {
      "text/html": [
       "<div>\n",
       "<style scoped>\n",
       "    .dataframe tbody tr th:only-of-type {\n",
       "        vertical-align: middle;\n",
       "    }\n",
       "\n",
       "    .dataframe tbody tr th {\n",
       "        vertical-align: top;\n",
       "    }\n",
       "\n",
       "    .dataframe thead th {\n",
       "        text-align: right;\n",
       "    }\n",
       "</style>\n",
       "<table border=\"1\" class=\"dataframe\">\n",
       "  <thead>\n",
       "    <tr style=\"text-align: right;\">\n",
       "      <th></th>\n",
       "      <th>Product ID</th>\n",
       "      <th>Product Name</th>\n",
       "      <th>Product Price</th>\n",
       "    </tr>\n",
       "  </thead>\n",
       "  <tbody>\n",
       "    <tr>\n",
       "      <th>Element 1</th>\n",
       "      <td>38</td>\n",
       "      <td>13</td>\n",
       "      <td>73</td>\n",
       "    </tr>\n",
       "    <tr>\n",
       "      <th>Element 2</th>\n",
       "      <td>10</td>\n",
       "      <td>76</td>\n",
       "      <td>6</td>\n",
       "    </tr>\n",
       "    <tr>\n",
       "      <th>Element 3</th>\n",
       "      <td>80</td>\n",
       "      <td>65</td>\n",
       "      <td>17</td>\n",
       "    </tr>\n",
       "    <tr>\n",
       "      <th>Element 4</th>\n",
       "      <td>2</td>\n",
       "      <td>77</td>\n",
       "      <td>72</td>\n",
       "    </tr>\n",
       "    <tr>\n",
       "      <th>Element 5</th>\n",
       "      <td>7</td>\n",
       "      <td>26</td>\n",
       "      <td>51</td>\n",
       "    </tr>\n",
       "  </tbody>\n",
       "</table>\n",
       "</div>"
      ],
      "text/plain": [
       "           Product ID  Product Name  Product Price\n",
       "Element 1          38            13             73\n",
       "Element 2          10            76              6\n",
       "Element 3          80            65             17\n",
       "Element 4           2            77             72\n",
       "Element 5           7            26             51"
      ]
     },
     "execution_count": 18,
     "metadata": {},
     "output_type": "execute_result"
    }
   ],
   "source": [
    "np.random.seed(1)\n",
    "df=pd.DataFrame(np.random.randint(1,100,(5,3)), index=['Element 1', 'Element 2', 'Element 3','Element 4','Element 5'], columns=['Product ID','Product Name','Product Price'])\n",
    "df"
   ]
  },
  {
   "cell_type": "code",
   "execution_count": 11,
   "id": "e3fc5585",
   "metadata": {},
   "outputs": [
    {
     "data": {
      "text/html": [
       "<div>\n",
       "<style scoped>\n",
       "    .dataframe tbody tr th:only-of-type {\n",
       "        vertical-align: middle;\n",
       "    }\n",
       "\n",
       "    .dataframe tbody tr th {\n",
       "        vertical-align: top;\n",
       "    }\n",
       "\n",
       "    .dataframe thead th {\n",
       "        text-align: right;\n",
       "    }\n",
       "</style>\n",
       "<table border=\"1\" class=\"dataframe\">\n",
       "  <thead>\n",
       "    <tr style=\"text-align: right;\">\n",
       "      <th></th>\n",
       "      <th>pprice</th>\n",
       "      <th>pname</th>\n",
       "      <th>pid</th>\n",
       "    </tr>\n",
       "  </thead>\n",
       "  <tbody>\n",
       "    <tr>\n",
       "      <th>e1</th>\n",
       "      <td>38</td>\n",
       "      <td>13</td>\n",
       "      <td>73</td>\n",
       "    </tr>\n",
       "    <tr>\n",
       "      <th>e2</th>\n",
       "      <td>10</td>\n",
       "      <td>76</td>\n",
       "      <td>6</td>\n",
       "    </tr>\n",
       "    <tr>\n",
       "      <th>e3</th>\n",
       "      <td>80</td>\n",
       "      <td>65</td>\n",
       "      <td>17</td>\n",
       "    </tr>\n",
       "    <tr>\n",
       "      <th>e4</th>\n",
       "      <td>2</td>\n",
       "      <td>77</td>\n",
       "      <td>72</td>\n",
       "    </tr>\n",
       "    <tr>\n",
       "      <th>e5</th>\n",
       "      <td>7</td>\n",
       "      <td>26</td>\n",
       "      <td>51</td>\n",
       "    </tr>\n",
       "  </tbody>\n",
       "</table>\n",
       "</div>"
      ],
      "text/plain": [
       "    pprice  pname  pid\n",
       "e1      38     13   73\n",
       "e2      10     76    6\n",
       "e3      80     65   17\n",
       "e4       2     77   72\n",
       "e5       7     26   51"
      ]
     },
     "execution_count": 11,
     "metadata": {},
     "output_type": "execute_result"
    }
   ],
   "source": [
    "np.random.seed(1)\n",
    "df=pd.DataFrame(np.random.randint(1,100,(5,3)), index=['e1','e2','e3','e4','e5'], columns=['pprice','pname','pid'])\n",
    "df"
   ]
  },
  {
   "cell_type": "markdown",
   "id": "e156fd4b",
   "metadata": {},
   "source": [
    "2. Extract one by one column and display separately from above dataframe."
   ]
  },
  {
   "cell_type": "code",
   "execution_count": 14,
   "id": "463caf72",
   "metadata": {},
   "outputs": [
    {
     "data": {
      "text/plain": [
       "e1    13\n",
       "e2    76\n",
       "e3    65\n",
       "e4    77\n",
       "e5    26\n",
       "Name: pname, dtype: int32"
      ]
     },
     "execution_count": 14,
     "metadata": {},
     "output_type": "execute_result"
    }
   ],
   "source": [
    "df['pname']"
   ]
  },
  {
   "cell_type": "code",
   "execution_count": 19,
   "id": "cc66ea90",
   "metadata": {},
   "outputs": [
    {
     "data": {
      "text/plain": [
       "Element 1    38\n",
       "Element 2    10\n",
       "Element 3    80\n",
       "Element 4     2\n",
       "Element 5     7\n",
       "Name: Product ID, dtype: int32"
      ]
     },
     "execution_count": 19,
     "metadata": {},
     "output_type": "execute_result"
    }
   ],
   "source": [
    "df[\"Product ID\"] "
   ]
  },
  {
   "cell_type": "code",
   "execution_count": 20,
   "id": "b10da44b",
   "metadata": {},
   "outputs": [
    {
     "data": {
      "text/plain": [
       "Element 1    13\n",
       "Element 2    76\n",
       "Element 3    65\n",
       "Element 4    77\n",
       "Element 5    26\n",
       "Name: Product Name, dtype: int32"
      ]
     },
     "execution_count": 20,
     "metadata": {},
     "output_type": "execute_result"
    }
   ],
   "source": [
    "df[\"Product Name\"]"
   ]
  },
  {
   "cell_type": "code",
   "execution_count": 21,
   "id": "e4ba3985",
   "metadata": {},
   "outputs": [
    {
     "data": {
      "text/plain": [
       "Element 1    73\n",
       "Element 2     6\n",
       "Element 3    17\n",
       "Element 4    72\n",
       "Element 5    51\n",
       "Name: Product Price, dtype: int32"
      ]
     },
     "execution_count": 21,
     "metadata": {},
     "output_type": "execute_result"
    }
   ],
   "source": [
    "df[\"Product Price\"]"
   ]
  },
  {
   "cell_type": "markdown",
   "id": "020155fc",
   "metadata": {},
   "source": [
    "3. Display separately each and every row from an above dataframe. (Use loc or iloc function)"
   ]
  },
  {
   "cell_type": "code",
   "execution_count": 15,
   "id": "bf26328e",
   "metadata": {},
   "outputs": [
    {
     "data": {
      "text/plain": [
       "pprice    10\n",
       "pname     76\n",
       "pid        6\n",
       "Name: e2, dtype: int32"
      ]
     },
     "execution_count": 15,
     "metadata": {},
     "output_type": "execute_result"
    }
   ],
   "source": [
    "df.loc['e2']"
   ]
  },
  {
   "cell_type": "code",
   "execution_count": 16,
   "id": "ec03acdf",
   "metadata": {},
   "outputs": [
    {
     "data": {
      "text/plain": [
       "pprice     2\n",
       "pname     77\n",
       "pid       72\n",
       "Name: e4, dtype: int32"
      ]
     },
     "execution_count": 16,
     "metadata": {},
     "output_type": "execute_result"
    }
   ],
   "source": [
    "df.iloc[3]"
   ]
  },
  {
   "cell_type": "code",
   "execution_count": 22,
   "id": "7e45d84d",
   "metadata": {},
   "outputs": [
    {
     "data": {
      "text/plain": [
       "Product ID       38\n",
       "Product Name     13\n",
       "Product Price    73\n",
       "Name: Element 1, dtype: int32"
      ]
     },
     "execution_count": 22,
     "metadata": {},
     "output_type": "execute_result"
    }
   ],
   "source": [
    "df.loc[\"Element 1\"]"
   ]
  },
  {
   "cell_type": "code",
   "execution_count": 23,
   "id": "590a657f",
   "metadata": {},
   "outputs": [
    {
     "data": {
      "text/plain": [
       "Product ID       10\n",
       "Product Name     76\n",
       "Product Price     6\n",
       "Name: Element 2, dtype: int32"
      ]
     },
     "execution_count": 23,
     "metadata": {},
     "output_type": "execute_result"
    }
   ],
   "source": [
    "df.loc[\"Element 2\"]"
   ]
  },
  {
   "cell_type": "code",
   "execution_count": 24,
   "id": "d8112afe",
   "metadata": {},
   "outputs": [
    {
     "data": {
      "text/plain": [
       "Product ID       80\n",
       "Product Name     65\n",
       "Product Price    17\n",
       "Name: Element 3, dtype: int32"
      ]
     },
     "execution_count": 24,
     "metadata": {},
     "output_type": "execute_result"
    }
   ],
   "source": [
    "df.loc[\"Element 3\"]"
   ]
  },
  {
   "cell_type": "code",
   "execution_count": 25,
   "id": "8a6a0812",
   "metadata": {},
   "outputs": [
    {
     "data": {
      "text/plain": [
       "Product ID        2\n",
       "Product Name     77\n",
       "Product Price    72\n",
       "Name: Element 4, dtype: int32"
      ]
     },
     "execution_count": 25,
     "metadata": {},
     "output_type": "execute_result"
    }
   ],
   "source": [
    "df.loc[\"Element 4\"]"
   ]
  },
  {
   "cell_type": "code",
   "execution_count": 26,
   "id": "8add83df",
   "metadata": {},
   "outputs": [
    {
     "data": {
      "text/plain": [
       "Product ID        2\n",
       "Product Name     77\n",
       "Product Price    72\n",
       "Name: Element 4, dtype: int32"
      ]
     },
     "execution_count": 26,
     "metadata": {},
     "output_type": "execute_result"
    }
   ],
   "source": [
    "df.loc[\"Element 4\"]"
   ]
  },
  {
   "cell_type": "code",
   "execution_count": 27,
   "id": "c327f310",
   "metadata": {},
   "outputs": [
    {
     "data": {
      "text/plain": [
       "Product ID        7\n",
       "Product Name     26\n",
       "Product Price    51\n",
       "Name: Element 5, dtype: int32"
      ]
     },
     "execution_count": 27,
     "metadata": {},
     "output_type": "execute_result"
    }
   ],
   "source": [
    "df.loc[\"Element 5\"]"
   ]
  },
  {
   "cell_type": "code",
   "execution_count": 28,
   "id": "5dee2d21",
   "metadata": {},
   "outputs": [
    {
     "data": {
      "text/plain": [
       "Product ID       38\n",
       "Product Name     13\n",
       "Product Price    73\n",
       "Name: Element 1, dtype: int32"
      ]
     },
     "execution_count": 28,
     "metadata": {},
     "output_type": "execute_result"
    }
   ],
   "source": [
    "df.iloc[0]"
   ]
  },
  {
   "cell_type": "code",
   "execution_count": 29,
   "id": "07f246cf",
   "metadata": {},
   "outputs": [
    {
     "data": {
      "text/plain": [
       "Product ID       10\n",
       "Product Name     76\n",
       "Product Price     6\n",
       "Name: Element 2, dtype: int32"
      ]
     },
     "execution_count": 29,
     "metadata": {},
     "output_type": "execute_result"
    }
   ],
   "source": [
    "df.iloc[1]"
   ]
  },
  {
   "cell_type": "code",
   "execution_count": 30,
   "id": "5195f860",
   "metadata": {},
   "outputs": [
    {
     "data": {
      "text/plain": [
       "Product ID       80\n",
       "Product Name     65\n",
       "Product Price    17\n",
       "Name: Element 3, dtype: int32"
      ]
     },
     "execution_count": 30,
     "metadata": {},
     "output_type": "execute_result"
    }
   ],
   "source": [
    "df.iloc[2]"
   ]
  },
  {
   "cell_type": "markdown",
   "id": "53157149",
   "metadata": {},
   "source": [
    "4. Display data name from 3 row using loc function."
   ]
  },
  {
   "cell_type": "code",
   "execution_count": 18,
   "id": "5f7a0806",
   "metadata": {},
   "outputs": [
    {
     "data": {
      "text/html": [
       "<div>\n",
       "<style scoped>\n",
       "    .dataframe tbody tr th:only-of-type {\n",
       "        vertical-align: middle;\n",
       "    }\n",
       "\n",
       "    .dataframe tbody tr th {\n",
       "        vertical-align: top;\n",
       "    }\n",
       "\n",
       "    .dataframe thead th {\n",
       "        text-align: right;\n",
       "    }\n",
       "</style>\n",
       "<table border=\"1\" class=\"dataframe\">\n",
       "  <thead>\n",
       "    <tr style=\"text-align: right;\">\n",
       "      <th></th>\n",
       "      <th>pprice</th>\n",
       "      <th>pname</th>\n",
       "      <th>pid</th>\n",
       "    </tr>\n",
       "  </thead>\n",
       "  <tbody>\n",
       "    <tr>\n",
       "      <th>e3</th>\n",
       "      <td>80</td>\n",
       "      <td>65</td>\n",
       "      <td>17</td>\n",
       "    </tr>\n",
       "    <tr>\n",
       "      <th>e4</th>\n",
       "      <td>2</td>\n",
       "      <td>77</td>\n",
       "      <td>72</td>\n",
       "    </tr>\n",
       "    <tr>\n",
       "      <th>e5</th>\n",
       "      <td>7</td>\n",
       "      <td>26</td>\n",
       "      <td>51</td>\n",
       "    </tr>\n",
       "  </tbody>\n",
       "</table>\n",
       "</div>"
      ],
      "text/plain": [
       "    pprice  pname  pid\n",
       "e3      80     65   17\n",
       "e4       2     77   72\n",
       "e5       7     26   51"
      ]
     },
     "execution_count": 18,
     "metadata": {},
     "output_type": "execute_result"
    }
   ],
   "source": [
    "df.loc['e3':]"
   ]
  },
  {
   "cell_type": "code",
   "execution_count": 31,
   "id": "37b1acf2",
   "metadata": {},
   "outputs": [
    {
     "data": {
      "text/html": [
       "<div>\n",
       "<style scoped>\n",
       "    .dataframe tbody tr th:only-of-type {\n",
       "        vertical-align: middle;\n",
       "    }\n",
       "\n",
       "    .dataframe tbody tr th {\n",
       "        vertical-align: top;\n",
       "    }\n",
       "\n",
       "    .dataframe thead th {\n",
       "        text-align: right;\n",
       "    }\n",
       "</style>\n",
       "<table border=\"1\" class=\"dataframe\">\n",
       "  <thead>\n",
       "    <tr style=\"text-align: right;\">\n",
       "      <th></th>\n",
       "      <th>Product ID</th>\n",
       "      <th>Product Name</th>\n",
       "      <th>Product Price</th>\n",
       "    </tr>\n",
       "  </thead>\n",
       "  <tbody>\n",
       "    <tr>\n",
       "      <th>Element 3</th>\n",
       "      <td>80</td>\n",
       "      <td>65</td>\n",
       "      <td>17</td>\n",
       "    </tr>\n",
       "    <tr>\n",
       "      <th>Element 4</th>\n",
       "      <td>2</td>\n",
       "      <td>77</td>\n",
       "      <td>72</td>\n",
       "    </tr>\n",
       "    <tr>\n",
       "      <th>Element 5</th>\n",
       "      <td>7</td>\n",
       "      <td>26</td>\n",
       "      <td>51</td>\n",
       "    </tr>\n",
       "  </tbody>\n",
       "</table>\n",
       "</div>"
      ],
      "text/plain": [
       "           Product ID  Product Name  Product Price\n",
       "Element 3          80            65             17\n",
       "Element 4           2            77             72\n",
       "Element 5           7            26             51"
      ]
     },
     "execution_count": 31,
     "metadata": {},
     "output_type": "execute_result"
    }
   ],
   "source": [
    "df.loc[\"Element 3\":]"
   ]
  },
  {
   "cell_type": "markdown",
   "id": "0f7dca26",
   "metadata": {},
   "source": [
    "5. Display price located in 2 row using iloc function."
   ]
  },
  {
   "cell_type": "code",
   "execution_count": 20,
   "id": "48101d8c",
   "metadata": {},
   "outputs": [
    {
     "data": {
      "text/plain": [
       "17"
      ]
     },
     "execution_count": 20,
     "metadata": {},
     "output_type": "execute_result"
    }
   ],
   "source": [
    "df.iloc[2,2]\n",
    "# df.loc['Element 2':,['Product Price']]"
   ]
  },
  {
   "cell_type": "markdown",
   "id": "45f7a261",
   "metadata": {},
   "source": [
    "6. Display 2nd to 4th row data excluding price."
   ]
  },
  {
   "cell_type": "code",
   "execution_count": 45,
   "id": "0197648b",
   "metadata": {},
   "outputs": [
    {
     "data": {
      "text/html": [
       "<div>\n",
       "<style scoped>\n",
       "    .dataframe tbody tr th:only-of-type {\n",
       "        vertical-align: middle;\n",
       "    }\n",
       "\n",
       "    .dataframe tbody tr th {\n",
       "        vertical-align: top;\n",
       "    }\n",
       "\n",
       "    .dataframe thead th {\n",
       "        text-align: right;\n",
       "    }\n",
       "</style>\n",
       "<table border=\"1\" class=\"dataframe\">\n",
       "  <thead>\n",
       "    <tr style=\"text-align: right;\">\n",
       "      <th></th>\n",
       "      <th>Product ID</th>\n",
       "      <th>Product Name</th>\n",
       "    </tr>\n",
       "  </thead>\n",
       "  <tbody>\n",
       "    <tr>\n",
       "      <th>Element 2</th>\n",
       "      <td>10</td>\n",
       "      <td>76</td>\n",
       "    </tr>\n",
       "    <tr>\n",
       "      <th>Element 3</th>\n",
       "      <td>80</td>\n",
       "      <td>65</td>\n",
       "    </tr>\n",
       "    <tr>\n",
       "      <th>Element 4</th>\n",
       "      <td>2</td>\n",
       "      <td>77</td>\n",
       "    </tr>\n",
       "  </tbody>\n",
       "</table>\n",
       "</div>"
      ],
      "text/plain": [
       "           Product ID  Product Name\n",
       "Element 2          10            76\n",
       "Element 3          80            65\n",
       "Element 4           2            77"
      ]
     },
     "execution_count": 45,
     "metadata": {},
     "output_type": "execute_result"
    }
   ],
   "source": [
    "df.loc['Element 2':'Element 4',df.columns!='Product Price']"
   ]
  },
  {
   "cell_type": "markdown",
   "id": "ff79077d",
   "metadata": {},
   "source": [
    "7. Display 1 to 3rd row price data only."
   ]
  },
  {
   "cell_type": "code",
   "execution_count": 48,
   "id": "aacc0a36",
   "metadata": {},
   "outputs": [
    {
     "data": {
      "text/html": [
       "<div>\n",
       "<style scoped>\n",
       "    .dataframe tbody tr th:only-of-type {\n",
       "        vertical-align: middle;\n",
       "    }\n",
       "\n",
       "    .dataframe tbody tr th {\n",
       "        vertical-align: top;\n",
       "    }\n",
       "\n",
       "    .dataframe thead th {\n",
       "        text-align: right;\n",
       "    }\n",
       "</style>\n",
       "<table border=\"1\" class=\"dataframe\">\n",
       "  <thead>\n",
       "    <tr style=\"text-align: right;\">\n",
       "      <th></th>\n",
       "      <th>Product Price</th>\n",
       "    </tr>\n",
       "  </thead>\n",
       "  <tbody>\n",
       "    <tr>\n",
       "      <th>Element 1</th>\n",
       "      <td>73</td>\n",
       "    </tr>\n",
       "    <tr>\n",
       "      <th>Element 2</th>\n",
       "      <td>6</td>\n",
       "    </tr>\n",
       "    <tr>\n",
       "      <th>Element 3</th>\n",
       "      <td>17</td>\n",
       "    </tr>\n",
       "  </tbody>\n",
       "</table>\n",
       "</div>"
      ],
      "text/plain": [
       "           Product Price\n",
       "Element 1             73\n",
       "Element 2              6\n",
       "Element 3             17"
      ]
     },
     "execution_count": 48,
     "metadata": {},
     "output_type": "execute_result"
    }
   ],
   "source": [
    "df.iloc[0:3,[2]]"
   ]
  },
  {
   "cell_type": "markdown",
   "id": "4fe1bf89",
   "metadata": {},
   "source": [
    "8. Change marks in python column to 41 for students who have scored less than 40."
   ]
  },
  {
   "cell_type": "code",
   "execution_count": 21,
   "id": "64ee8f44",
   "metadata": {},
   "outputs": [
    {
     "data": {
      "text/html": [
       "<div>\n",
       "<style scoped>\n",
       "    .dataframe tbody tr th:only-of-type {\n",
       "        vertical-align: middle;\n",
       "    }\n",
       "\n",
       "    .dataframe tbody tr th {\n",
       "        vertical-align: top;\n",
       "    }\n",
       "\n",
       "    .dataframe thead th {\n",
       "        text-align: right;\n",
       "    }\n",
       "</style>\n",
       "<table border=\"1\" class=\"dataframe\">\n",
       "  <thead>\n",
       "    <tr style=\"text-align: right;\">\n",
       "      <th></th>\n",
       "      <th>Python</th>\n",
       "      <th>Data Science</th>\n",
       "      <th>DBMS</th>\n",
       "    </tr>\n",
       "  </thead>\n",
       "  <tbody>\n",
       "    <tr>\n",
       "      <th>Naitik</th>\n",
       "      <td>21</td>\n",
       "      <td>19</td>\n",
       "      <td>85</td>\n",
       "    </tr>\n",
       "    <tr>\n",
       "      <th>Fenil</th>\n",
       "      <td>12</td>\n",
       "      <td>29</td>\n",
       "      <td>30</td>\n",
       "    </tr>\n",
       "    <tr>\n",
       "      <th>Aastha</th>\n",
       "      <td>15</td>\n",
       "      <td>51</td>\n",
       "      <td>69</td>\n",
       "    </tr>\n",
       "    <tr>\n",
       "      <th>Teerth</th>\n",
       "      <td>88</td>\n",
       "      <td>88</td>\n",
       "      <td>95</td>\n",
       "    </tr>\n",
       "  </tbody>\n",
       "</table>\n",
       "</div>"
      ],
      "text/plain": [
       "        Python  Data Science  DBMS\n",
       "Naitik      21            19    85\n",
       "Fenil       12            29    30\n",
       "Aastha      15            51    69\n",
       "Teerth      88            88    95"
      ]
     },
     "execution_count": 21,
     "metadata": {},
     "output_type": "execute_result"
    }
   ],
   "source": [
    "df=pd.DataFrame(np.random.randint(1,100,(4,3)), index=['Naitik','Fenil','Aastha','Teerth'], columns=['Python', 'Data Science', 'DBMS'])\n",
    "df"
   ]
  },
  {
   "cell_type": "code",
   "execution_count": 22,
   "id": "307a2356",
   "metadata": {},
   "outputs": [
    {
     "data": {
      "text/plain": [
       "Naitik     True\n",
       "Fenil      True\n",
       "Aastha     True\n",
       "Teerth    False\n",
       "Name: Python, dtype: bool"
      ]
     },
     "execution_count": 22,
     "metadata": {},
     "output_type": "execute_result"
    }
   ],
   "source": [
    "df['Python']<40"
   ]
  },
  {
   "cell_type": "code",
   "execution_count": 23,
   "id": "c2118d18",
   "metadata": {},
   "outputs": [
    {
     "data": {
      "text/html": [
       "<div>\n",
       "<style scoped>\n",
       "    .dataframe tbody tr th:only-of-type {\n",
       "        vertical-align: middle;\n",
       "    }\n",
       "\n",
       "    .dataframe tbody tr th {\n",
       "        vertical-align: top;\n",
       "    }\n",
       "\n",
       "    .dataframe thead th {\n",
       "        text-align: right;\n",
       "    }\n",
       "</style>\n",
       "<table border=\"1\" class=\"dataframe\">\n",
       "  <thead>\n",
       "    <tr style=\"text-align: right;\">\n",
       "      <th></th>\n",
       "      <th>Python</th>\n",
       "      <th>Data Science</th>\n",
       "      <th>DBMS</th>\n",
       "    </tr>\n",
       "  </thead>\n",
       "  <tbody>\n",
       "    <tr>\n",
       "      <th>Naitik</th>\n",
       "      <td>21</td>\n",
       "      <td>19</td>\n",
       "      <td>85</td>\n",
       "    </tr>\n",
       "    <tr>\n",
       "      <th>Fenil</th>\n",
       "      <td>12</td>\n",
       "      <td>29</td>\n",
       "      <td>30</td>\n",
       "    </tr>\n",
       "    <tr>\n",
       "      <th>Aastha</th>\n",
       "      <td>15</td>\n",
       "      <td>51</td>\n",
       "      <td>69</td>\n",
       "    </tr>\n",
       "  </tbody>\n",
       "</table>\n",
       "</div>"
      ],
      "text/plain": [
       "        Python  Data Science  DBMS\n",
       "Naitik      21            19    85\n",
       "Fenil       12            29    30\n",
       "Aastha      15            51    69"
      ]
     },
     "execution_count": 23,
     "metadata": {},
     "output_type": "execute_result"
    }
   ],
   "source": [
    "df[df['Python']<40]"
   ]
  },
  {
   "cell_type": "code",
   "execution_count": 24,
   "id": "08bb57a1",
   "metadata": {},
   "outputs": [
    {
     "data": {
      "text/html": [
       "<div>\n",
       "<style scoped>\n",
       "    .dataframe tbody tr th:only-of-type {\n",
       "        vertical-align: middle;\n",
       "    }\n",
       "\n",
       "    .dataframe tbody tr th {\n",
       "        vertical-align: top;\n",
       "    }\n",
       "\n",
       "    .dataframe thead th {\n",
       "        text-align: right;\n",
       "    }\n",
       "</style>\n",
       "<table border=\"1\" class=\"dataframe\">\n",
       "  <thead>\n",
       "    <tr style=\"text-align: right;\">\n",
       "      <th></th>\n",
       "      <th>Python</th>\n",
       "      <th>Data Science</th>\n",
       "      <th>DBMS</th>\n",
       "    </tr>\n",
       "  </thead>\n",
       "  <tbody>\n",
       "    <tr>\n",
       "      <th>Naitik</th>\n",
       "      <td>41</td>\n",
       "      <td>19</td>\n",
       "      <td>85</td>\n",
       "    </tr>\n",
       "    <tr>\n",
       "      <th>Fenil</th>\n",
       "      <td>41</td>\n",
       "      <td>29</td>\n",
       "      <td>30</td>\n",
       "    </tr>\n",
       "    <tr>\n",
       "      <th>Aastha</th>\n",
       "      <td>41</td>\n",
       "      <td>51</td>\n",
       "      <td>69</td>\n",
       "    </tr>\n",
       "    <tr>\n",
       "      <th>Teerth</th>\n",
       "      <td>88</td>\n",
       "      <td>88</td>\n",
       "      <td>95</td>\n",
       "    </tr>\n",
       "  </tbody>\n",
       "</table>\n",
       "</div>"
      ],
      "text/plain": [
       "        Python  Data Science  DBMS\n",
       "Naitik      41            19    85\n",
       "Fenil       41            29    30\n",
       "Aastha      41            51    69\n",
       "Teerth      88            88    95"
      ]
     },
     "execution_count": 24,
     "metadata": {},
     "output_type": "execute_result"
    }
   ],
   "source": [
    "df.loc[df['Python']<40,'Python']=41\n",
    "df"
   ]
  },
  {
   "cell_type": "markdown",
   "id": "aa881824",
   "metadata": {},
   "source": [
    "9. Add 2 marks to all the subjects marks. If any of the marks exceeds 100 change it to 100."
   ]
  },
  {
   "cell_type": "code",
   "execution_count": 25,
   "id": "fc6464ef",
   "metadata": {},
   "outputs": [],
   "source": [
    "df1=df+20"
   ]
  },
  {
   "cell_type": "code",
   "execution_count": 26,
   "id": "7a65c247",
   "metadata": {},
   "outputs": [
    {
     "data": {
      "text/html": [
       "<div>\n",
       "<style scoped>\n",
       "    .dataframe tbody tr th:only-of-type {\n",
       "        vertical-align: middle;\n",
       "    }\n",
       "\n",
       "    .dataframe tbody tr th {\n",
       "        vertical-align: top;\n",
       "    }\n",
       "\n",
       "    .dataframe thead th {\n",
       "        text-align: right;\n",
       "    }\n",
       "</style>\n",
       "<table border=\"1\" class=\"dataframe\">\n",
       "  <thead>\n",
       "    <tr style=\"text-align: right;\">\n",
       "      <th></th>\n",
       "      <th>Python</th>\n",
       "      <th>Data Science</th>\n",
       "      <th>DBMS</th>\n",
       "    </tr>\n",
       "  </thead>\n",
       "  <tbody>\n",
       "    <tr>\n",
       "      <th>Naitik</th>\n",
       "      <td>61</td>\n",
       "      <td>39</td>\n",
       "      <td>105</td>\n",
       "    </tr>\n",
       "    <tr>\n",
       "      <th>Fenil</th>\n",
       "      <td>61</td>\n",
       "      <td>49</td>\n",
       "      <td>50</td>\n",
       "    </tr>\n",
       "    <tr>\n",
       "      <th>Aastha</th>\n",
       "      <td>61</td>\n",
       "      <td>71</td>\n",
       "      <td>89</td>\n",
       "    </tr>\n",
       "    <tr>\n",
       "      <th>Teerth</th>\n",
       "      <td>108</td>\n",
       "      <td>108</td>\n",
       "      <td>115</td>\n",
       "    </tr>\n",
       "  </tbody>\n",
       "</table>\n",
       "</div>"
      ],
      "text/plain": [
       "        Python  Data Science  DBMS\n",
       "Naitik      61            39   105\n",
       "Fenil       61            49    50\n",
       "Aastha      61            71    89\n",
       "Teerth     108           108   115"
      ]
     },
     "execution_count": 26,
     "metadata": {},
     "output_type": "execute_result"
    }
   ],
   "source": [
    "df1"
   ]
  },
  {
   "cell_type": "code",
   "execution_count": 27,
   "id": "9d44c113",
   "metadata": {},
   "outputs": [
    {
     "data": {
      "text/html": [
       "<div>\n",
       "<style scoped>\n",
       "    .dataframe tbody tr th:only-of-type {\n",
       "        vertical-align: middle;\n",
       "    }\n",
       "\n",
       "    .dataframe tbody tr th {\n",
       "        vertical-align: top;\n",
       "    }\n",
       "\n",
       "    .dataframe thead th {\n",
       "        text-align: right;\n",
       "    }\n",
       "</style>\n",
       "<table border=\"1\" class=\"dataframe\">\n",
       "  <thead>\n",
       "    <tr style=\"text-align: right;\">\n",
       "      <th></th>\n",
       "      <th>Python</th>\n",
       "      <th>Data Science</th>\n",
       "      <th>DBMS</th>\n",
       "    </tr>\n",
       "  </thead>\n",
       "  <tbody>\n",
       "    <tr>\n",
       "      <th>Naitik</th>\n",
       "      <td>NaN</td>\n",
       "      <td>NaN</td>\n",
       "      <td>105.0</td>\n",
       "    </tr>\n",
       "    <tr>\n",
       "      <th>Fenil</th>\n",
       "      <td>NaN</td>\n",
       "      <td>NaN</td>\n",
       "      <td>NaN</td>\n",
       "    </tr>\n",
       "    <tr>\n",
       "      <th>Aastha</th>\n",
       "      <td>NaN</td>\n",
       "      <td>NaN</td>\n",
       "      <td>NaN</td>\n",
       "    </tr>\n",
       "    <tr>\n",
       "      <th>Teerth</th>\n",
       "      <td>108.0</td>\n",
       "      <td>108.0</td>\n",
       "      <td>115.0</td>\n",
       "    </tr>\n",
       "  </tbody>\n",
       "</table>\n",
       "</div>"
      ],
      "text/plain": [
       "        Python  Data Science   DBMS\n",
       "Naitik     NaN           NaN  105.0\n",
       "Fenil      NaN           NaN    NaN\n",
       "Aastha     NaN           NaN    NaN\n",
       "Teerth   108.0         108.0  115.0"
      ]
     },
     "execution_count": 27,
     "metadata": {},
     "output_type": "execute_result"
    }
   ],
   "source": [
    "df1[df1>100]"
   ]
  },
  {
   "cell_type": "code",
   "execution_count": 29,
   "id": "5041ec55",
   "metadata": {},
   "outputs": [
    {
     "data": {
      "text/html": [
       "<div>\n",
       "<style scoped>\n",
       "    .dataframe tbody tr th:only-of-type {\n",
       "        vertical-align: middle;\n",
       "    }\n",
       "\n",
       "    .dataframe tbody tr th {\n",
       "        vertical-align: top;\n",
       "    }\n",
       "\n",
       "    .dataframe thead th {\n",
       "        text-align: right;\n",
       "    }\n",
       "</style>\n",
       "<table border=\"1\" class=\"dataframe\">\n",
       "  <thead>\n",
       "    <tr style=\"text-align: right;\">\n",
       "      <th></th>\n",
       "      <th>Python</th>\n",
       "      <th>Data Science</th>\n",
       "      <th>DBMS</th>\n",
       "    </tr>\n",
       "  </thead>\n",
       "  <tbody>\n",
       "    <tr>\n",
       "      <th>Naitik</th>\n",
       "      <td>61</td>\n",
       "      <td>39</td>\n",
       "      <td>100</td>\n",
       "    </tr>\n",
       "    <tr>\n",
       "      <th>Fenil</th>\n",
       "      <td>61</td>\n",
       "      <td>49</td>\n",
       "      <td>50</td>\n",
       "    </tr>\n",
       "    <tr>\n",
       "      <th>Aastha</th>\n",
       "      <td>61</td>\n",
       "      <td>71</td>\n",
       "      <td>89</td>\n",
       "    </tr>\n",
       "    <tr>\n",
       "      <th>Teerth</th>\n",
       "      <td>100</td>\n",
       "      <td>100</td>\n",
       "      <td>100</td>\n",
       "    </tr>\n",
       "  </tbody>\n",
       "</table>\n",
       "</div>"
      ],
      "text/plain": [
       "        Python  Data Science  DBMS\n",
       "Naitik      61            39   100\n",
       "Fenil       61            49    50\n",
       "Aastha      61            71    89\n",
       "Teerth     100           100   100"
      ]
     },
     "execution_count": 29,
     "metadata": {},
     "output_type": "execute_result"
    }
   ],
   "source": [
    "df1[df1>100]=100\n",
    "df1"
   ]
  },
  {
   "cell_type": "markdown",
   "id": "1b6b231e",
   "metadata": {},
   "source": [
    "10. Display students who have scored more than 50 marks in Python and more than 60 marks in data science."
   ]
  },
  {
   "cell_type": "code",
   "execution_count": 30,
   "id": "f8798c83",
   "metadata": {},
   "outputs": [
    {
     "data": {
      "text/html": [
       "<div>\n",
       "<style scoped>\n",
       "    .dataframe tbody tr th:only-of-type {\n",
       "        vertical-align: middle;\n",
       "    }\n",
       "\n",
       "    .dataframe tbody tr th {\n",
       "        vertical-align: top;\n",
       "    }\n",
       "\n",
       "    .dataframe thead th {\n",
       "        text-align: right;\n",
       "    }\n",
       "</style>\n",
       "<table border=\"1\" class=\"dataframe\">\n",
       "  <thead>\n",
       "    <tr style=\"text-align: right;\">\n",
       "      <th></th>\n",
       "      <th>Python</th>\n",
       "      <th>Data Science</th>\n",
       "      <th>DBMS</th>\n",
       "    </tr>\n",
       "  </thead>\n",
       "  <tbody>\n",
       "    <tr>\n",
       "      <th>Aastha</th>\n",
       "      <td>61</td>\n",
       "      <td>71</td>\n",
       "      <td>89</td>\n",
       "    </tr>\n",
       "    <tr>\n",
       "      <th>Teerth</th>\n",
       "      <td>100</td>\n",
       "      <td>100</td>\n",
       "      <td>100</td>\n",
       "    </tr>\n",
       "  </tbody>\n",
       "</table>\n",
       "</div>"
      ],
      "text/plain": [
       "        Python  Data Science  DBMS\n",
       "Aastha      61            71    89\n",
       "Teerth     100           100   100"
      ]
     },
     "execution_count": 30,
     "metadata": {},
     "output_type": "execute_result"
    }
   ],
   "source": [
    "df1[(df1['Python']>50) & (df1['Data Science']>60)]"
   ]
  },
  {
   "cell_type": "markdown",
   "id": "9b96dc77",
   "metadata": {},
   "source": [
    "11. Display students records whose name starts with letter S."
   ]
  },
  {
   "cell_type": "code",
   "execution_count": 91,
   "id": "1a4da3fd",
   "metadata": {},
   "outputs": [
    {
     "data": {
      "text/html": [
       "<div>\n",
       "<style scoped>\n",
       "    .dataframe tbody tr th:only-of-type {\n",
       "        vertical-align: middle;\n",
       "    }\n",
       "\n",
       "    .dataframe tbody tr th {\n",
       "        vertical-align: top;\n",
       "    }\n",
       "\n",
       "    .dataframe thead th {\n",
       "        text-align: right;\n",
       "    }\n",
       "</style>\n",
       "<table border=\"1\" class=\"dataframe\">\n",
       "  <thead>\n",
       "    <tr style=\"text-align: right;\">\n",
       "      <th></th>\n",
       "      <th>Python</th>\n",
       "      <th>Data Science</th>\n",
       "      <th>DBMS</th>\n",
       "    </tr>\n",
       "  </thead>\n",
       "  <tbody>\n",
       "    <tr>\n",
       "      <th>Naitik</th>\n",
       "      <td>73</td>\n",
       "      <td>78</td>\n",
       "      <td>83</td>\n",
       "    </tr>\n",
       "  </tbody>\n",
       "</table>\n",
       "</div>"
      ],
      "text/plain": [
       "        Python  Data Science  DBMS\n",
       "Naitik      73            78    83"
      ]
     },
     "execution_count": 91,
     "metadata": {},
     "output_type": "execute_result"
    }
   ],
   "source": [
    "df[df.index.str.startswith('N')]"
   ]
  },
  {
   "cell_type": "code",
   "execution_count": 32,
   "id": "58a7f235",
   "metadata": {},
   "outputs": [
    {
     "data": {
      "text/html": [
       "<div>\n",
       "<style scoped>\n",
       "    .dataframe tbody tr th:only-of-type {\n",
       "        vertical-align: middle;\n",
       "    }\n",
       "\n",
       "    .dataframe tbody tr th {\n",
       "        vertical-align: top;\n",
       "    }\n",
       "\n",
       "    .dataframe thead th {\n",
       "        text-align: right;\n",
       "    }\n",
       "</style>\n",
       "<table border=\"1\" class=\"dataframe\">\n",
       "  <thead>\n",
       "    <tr style=\"text-align: right;\">\n",
       "      <th></th>\n",
       "      <th>Python</th>\n",
       "      <th>Data Science</th>\n",
       "      <th>DBMS</th>\n",
       "    </tr>\n",
       "  </thead>\n",
       "  <tbody>\n",
       "    <tr>\n",
       "      <th>Teerth</th>\n",
       "      <td>88</td>\n",
       "      <td>88</td>\n",
       "      <td>95</td>\n",
       "    </tr>\n",
       "  </tbody>\n",
       "</table>\n",
       "</div>"
      ],
      "text/plain": [
       "        Python  Data Science  DBMS\n",
       "Teerth      88            88    95"
      ]
     },
     "execution_count": 32,
     "metadata": {},
     "output_type": "execute_result"
    }
   ],
   "source": [
    "df[df.index.str.startswith('T')]"
   ]
  },
  {
   "cell_type": "markdown",
   "id": "69e69a8a",
   "metadata": {},
   "source": [
    "12. Display students records whose name ends with letter a.\n"
   ]
  },
  {
   "cell_type": "code",
   "execution_count": 33,
   "id": "6ba50191",
   "metadata": {},
   "outputs": [
    {
     "data": {
      "text/html": [
       "<div>\n",
       "<style scoped>\n",
       "    .dataframe tbody tr th:only-of-type {\n",
       "        vertical-align: middle;\n",
       "    }\n",
       "\n",
       "    .dataframe tbody tr th {\n",
       "        vertical-align: top;\n",
       "    }\n",
       "\n",
       "    .dataframe thead th {\n",
       "        text-align: right;\n",
       "    }\n",
       "</style>\n",
       "<table border=\"1\" class=\"dataframe\">\n",
       "  <thead>\n",
       "    <tr style=\"text-align: right;\">\n",
       "      <th></th>\n",
       "      <th>Python</th>\n",
       "      <th>Data Science</th>\n",
       "      <th>DBMS</th>\n",
       "    </tr>\n",
       "  </thead>\n",
       "  <tbody>\n",
       "    <tr>\n",
       "      <th>Teerth</th>\n",
       "      <td>88</td>\n",
       "      <td>88</td>\n",
       "      <td>95</td>\n",
       "    </tr>\n",
       "  </tbody>\n",
       "</table>\n",
       "</div>"
      ],
      "text/plain": [
       "        Python  Data Science  DBMS\n",
       "Teerth      88            88    95"
      ]
     },
     "execution_count": 33,
     "metadata": {},
     "output_type": "execute_result"
    }
   ],
   "source": [
    "df[df.index.str.endswith('h')]"
   ]
  },
  {
   "cell_type": "markdown",
   "id": "14d9d726",
   "metadata": {},
   "source": [
    "13. Calculate total and percentage for all the students."
   ]
  },
  {
   "cell_type": "code",
   "execution_count": 34,
   "id": "e528b004",
   "metadata": {},
   "outputs": [
    {
     "data": {
      "text/html": [
       "<div>\n",
       "<style scoped>\n",
       "    .dataframe tbody tr th:only-of-type {\n",
       "        vertical-align: middle;\n",
       "    }\n",
       "\n",
       "    .dataframe tbody tr th {\n",
       "        vertical-align: top;\n",
       "    }\n",
       "\n",
       "    .dataframe thead th {\n",
       "        text-align: right;\n",
       "    }\n",
       "</style>\n",
       "<table border=\"1\" class=\"dataframe\">\n",
       "  <thead>\n",
       "    <tr style=\"text-align: right;\">\n",
       "      <th></th>\n",
       "      <th>Python</th>\n",
       "      <th>Data Science</th>\n",
       "      <th>DBMS</th>\n",
       "      <th>Total</th>\n",
       "    </tr>\n",
       "  </thead>\n",
       "  <tbody>\n",
       "    <tr>\n",
       "      <th>Naitik</th>\n",
       "      <td>61</td>\n",
       "      <td>39</td>\n",
       "      <td>100</td>\n",
       "      <td>200</td>\n",
       "    </tr>\n",
       "    <tr>\n",
       "      <th>Fenil</th>\n",
       "      <td>61</td>\n",
       "      <td>49</td>\n",
       "      <td>50</td>\n",
       "      <td>160</td>\n",
       "    </tr>\n",
       "    <tr>\n",
       "      <th>Aastha</th>\n",
       "      <td>61</td>\n",
       "      <td>71</td>\n",
       "      <td>89</td>\n",
       "      <td>221</td>\n",
       "    </tr>\n",
       "    <tr>\n",
       "      <th>Teerth</th>\n",
       "      <td>100</td>\n",
       "      <td>100</td>\n",
       "      <td>100</td>\n",
       "      <td>300</td>\n",
       "    </tr>\n",
       "  </tbody>\n",
       "</table>\n",
       "</div>"
      ],
      "text/plain": [
       "        Python  Data Science  DBMS  Total\n",
       "Naitik      61            39   100    200\n",
       "Fenil       61            49    50    160\n",
       "Aastha      61            71    89    221\n",
       "Teerth     100           100   100    300"
      ]
     },
     "execution_count": 34,
     "metadata": {},
     "output_type": "execute_result"
    }
   ],
   "source": [
    "df1[\"Total\"]=((df1[\"Python\"]+df1[\"Data Science\"]+df1[\"DBMS\"]))\n",
    "df1"
   ]
  },
  {
   "cell_type": "code",
   "execution_count": 43,
   "id": "6cb17df5",
   "metadata": {},
   "outputs": [
    {
     "data": {
      "text/html": [
       "<div>\n",
       "<style scoped>\n",
       "    .dataframe tbody tr th:only-of-type {\n",
       "        vertical-align: middle;\n",
       "    }\n",
       "\n",
       "    .dataframe tbody tr th {\n",
       "        vertical-align: top;\n",
       "    }\n",
       "\n",
       "    .dataframe thead th {\n",
       "        text-align: right;\n",
       "    }\n",
       "</style>\n",
       "<table border=\"1\" class=\"dataframe\">\n",
       "  <thead>\n",
       "    <tr style=\"text-align: right;\">\n",
       "      <th></th>\n",
       "      <th>Python</th>\n",
       "      <th>Data Science</th>\n",
       "      <th>DBMS</th>\n",
       "      <th>Total</th>\n",
       "      <th>Percentage</th>\n",
       "      <th>Result</th>\n",
       "      <th>result</th>\n",
       "      <th>Grade</th>\n",
       "    </tr>\n",
       "  </thead>\n",
       "  <tbody>\n",
       "    <tr>\n",
       "      <th>Naitik</th>\n",
       "      <td>61</td>\n",
       "      <td>39</td>\n",
       "      <td>100</td>\n",
       "      <td>200</td>\n",
       "      <td>66.666667</td>\n",
       "      <td>Fail</td>\n",
       "      <td>fail</td>\n",
       "      <td>D</td>\n",
       "    </tr>\n",
       "    <tr>\n",
       "      <th>Fenil</th>\n",
       "      <td>61</td>\n",
       "      <td>49</td>\n",
       "      <td>50</td>\n",
       "      <td>160</td>\n",
       "      <td>53.333333</td>\n",
       "      <td>Fail</td>\n",
       "      <td>fail</td>\n",
       "      <td>E</td>\n",
       "    </tr>\n",
       "    <tr>\n",
       "      <th>Aastha</th>\n",
       "      <td>61</td>\n",
       "      <td>71</td>\n",
       "      <td>89</td>\n",
       "      <td>221</td>\n",
       "      <td>73.666667</td>\n",
       "      <td>pass</td>\n",
       "      <td>pass</td>\n",
       "      <td>C</td>\n",
       "    </tr>\n",
       "    <tr>\n",
       "      <th>Teerth</th>\n",
       "      <td>100</td>\n",
       "      <td>100</td>\n",
       "      <td>100</td>\n",
       "      <td>300</td>\n",
       "      <td>100.000000</td>\n",
       "      <td>pass</td>\n",
       "      <td>pass</td>\n",
       "      <td>A</td>\n",
       "    </tr>\n",
       "  </tbody>\n",
       "</table>\n",
       "</div>"
      ],
      "text/plain": [
       "        Python  Data Science  DBMS  Total  Percentage Result result Grade\n",
       "Naitik      61            39   100    200   66.666667   Fail   fail     D\n",
       "Fenil       61            49    50    160   53.333333   Fail   fail     E\n",
       "Aastha      61            71    89    221   73.666667   pass   pass     C\n",
       "Teerth     100           100   100    300  100.000000   pass   pass     A"
      ]
     },
     "execution_count": 43,
     "metadata": {},
     "output_type": "execute_result"
    }
   ],
   "source": [
    "df1[\"Percentage\"]=((df1[\"Python\"]+df1[\"Data Science\"]+df1[\"DBMS\"]))/300*100\n",
    "df1"
   ]
  },
  {
   "cell_type": "markdown",
   "id": "ef0aafcd",
   "metadata": {},
   "source": [
    "14. Calculate Status (pass/fail) for the Students."
   ]
  },
  {
   "cell_type": "code",
   "execution_count": 44,
   "id": "e5e7e0d2",
   "metadata": {},
   "outputs": [
    {
     "data": {
      "text/html": [
       "<div>\n",
       "<style scoped>\n",
       "    .dataframe tbody tr th:only-of-type {\n",
       "        vertical-align: middle;\n",
       "    }\n",
       "\n",
       "    .dataframe tbody tr th {\n",
       "        vertical-align: top;\n",
       "    }\n",
       "\n",
       "    .dataframe thead th {\n",
       "        text-align: right;\n",
       "    }\n",
       "</style>\n",
       "<table border=\"1\" class=\"dataframe\">\n",
       "  <thead>\n",
       "    <tr style=\"text-align: right;\">\n",
       "      <th></th>\n",
       "      <th>Python</th>\n",
       "      <th>Data Science</th>\n",
       "      <th>DBMS</th>\n",
       "      <th>Total</th>\n",
       "      <th>Percentage</th>\n",
       "      <th>Result</th>\n",
       "      <th>result</th>\n",
       "      <th>Grade</th>\n",
       "    </tr>\n",
       "  </thead>\n",
       "  <tbody>\n",
       "    <tr>\n",
       "      <th>Naitik</th>\n",
       "      <td>61</td>\n",
       "      <td>39</td>\n",
       "      <td>100</td>\n",
       "      <td>200</td>\n",
       "      <td>66.666667</td>\n",
       "      <td>Fail</td>\n",
       "      <td>fail</td>\n",
       "      <td>D</td>\n",
       "    </tr>\n",
       "    <tr>\n",
       "      <th>Fenil</th>\n",
       "      <td>61</td>\n",
       "      <td>49</td>\n",
       "      <td>50</td>\n",
       "      <td>160</td>\n",
       "      <td>53.333333</td>\n",
       "      <td>Fail</td>\n",
       "      <td>fail</td>\n",
       "      <td>E</td>\n",
       "    </tr>\n",
       "    <tr>\n",
       "      <th>Aastha</th>\n",
       "      <td>61</td>\n",
       "      <td>71</td>\n",
       "      <td>89</td>\n",
       "      <td>221</td>\n",
       "      <td>73.666667</td>\n",
       "      <td>pass</td>\n",
       "      <td>pass</td>\n",
       "      <td>C</td>\n",
       "    </tr>\n",
       "    <tr>\n",
       "      <th>Teerth</th>\n",
       "      <td>100</td>\n",
       "      <td>100</td>\n",
       "      <td>100</td>\n",
       "      <td>300</td>\n",
       "      <td>100.000000</td>\n",
       "      <td>pass</td>\n",
       "      <td>pass</td>\n",
       "      <td>A</td>\n",
       "    </tr>\n",
       "  </tbody>\n",
       "</table>\n",
       "</div>"
      ],
      "text/plain": [
       "        Python  Data Science  DBMS  Total  Percentage Result result Grade\n",
       "Naitik      61            39   100    200   66.666667   Fail   fail     D\n",
       "Fenil       61            49    50    160   53.333333   Fail   fail     E\n",
       "Aastha      61            71    89    221   73.666667   pass   pass     C\n",
       "Teerth     100           100   100    300  100.000000   pass   pass     A"
      ]
     },
     "execution_count": 44,
     "metadata": {},
     "output_type": "execute_result"
    }
   ],
   "source": [
    "df1['Result']=np.where(df1['Percentage']<70,\"Fail\",\"pass\")\n",
    "df1"
   ]
  },
  {
   "cell_type": "markdown",
   "id": "729c56a9",
   "metadata": {},
   "source": [
    "15. Calculate percentage based grade value (per>=90 then A-grade, per>=80 then B-grade, \n",
    "per>=70 then C-grade, per>=60 then D-grade, per>=50 then E-grade, per<50 then F grade"
   ]
  },
  {
   "cell_type": "code",
   "execution_count": 45,
   "id": "c590fe15",
   "metadata": {},
   "outputs": [],
   "source": [
    "df1.loc[df1['Percentage']>=90,'Grade']='A'\n",
    "df1.loc[df1['Percentage']<=90,'Grade']='B'\n",
    "df1.loc[df1['Percentage']<=80,'Grade']='C'\n",
    "df1.loc[df1['Percentage']<=70,'Grade']='D'\n",
    "df1.loc[df1['Percentage']<=60,'Grade']='E'\n",
    "df1.loc[df1['Percentage']<50,'Grade']='F'"
   ]
  },
  {
   "cell_type": "code",
   "execution_count": 46,
   "id": "bc165bf7",
   "metadata": {},
   "outputs": [
    {
     "data": {
      "text/html": [
       "<div>\n",
       "<style scoped>\n",
       "    .dataframe tbody tr th:only-of-type {\n",
       "        vertical-align: middle;\n",
       "    }\n",
       "\n",
       "    .dataframe tbody tr th {\n",
       "        vertical-align: top;\n",
       "    }\n",
       "\n",
       "    .dataframe thead th {\n",
       "        text-align: right;\n",
       "    }\n",
       "</style>\n",
       "<table border=\"1\" class=\"dataframe\">\n",
       "  <thead>\n",
       "    <tr style=\"text-align: right;\">\n",
       "      <th></th>\n",
       "      <th>Python</th>\n",
       "      <th>Data Science</th>\n",
       "      <th>DBMS</th>\n",
       "      <th>Total</th>\n",
       "      <th>Percentage</th>\n",
       "      <th>Result</th>\n",
       "      <th>result</th>\n",
       "      <th>Grade</th>\n",
       "    </tr>\n",
       "  </thead>\n",
       "  <tbody>\n",
       "    <tr>\n",
       "      <th>Naitik</th>\n",
       "      <td>61</td>\n",
       "      <td>39</td>\n",
       "      <td>100</td>\n",
       "      <td>200</td>\n",
       "      <td>66.666667</td>\n",
       "      <td>Fail</td>\n",
       "      <td>fail</td>\n",
       "      <td>D</td>\n",
       "    </tr>\n",
       "    <tr>\n",
       "      <th>Fenil</th>\n",
       "      <td>61</td>\n",
       "      <td>49</td>\n",
       "      <td>50</td>\n",
       "      <td>160</td>\n",
       "      <td>53.333333</td>\n",
       "      <td>Fail</td>\n",
       "      <td>fail</td>\n",
       "      <td>E</td>\n",
       "    </tr>\n",
       "    <tr>\n",
       "      <th>Aastha</th>\n",
       "      <td>61</td>\n",
       "      <td>71</td>\n",
       "      <td>89</td>\n",
       "      <td>221</td>\n",
       "      <td>73.666667</td>\n",
       "      <td>pass</td>\n",
       "      <td>pass</td>\n",
       "      <td>C</td>\n",
       "    </tr>\n",
       "    <tr>\n",
       "      <th>Teerth</th>\n",
       "      <td>100</td>\n",
       "      <td>100</td>\n",
       "      <td>100</td>\n",
       "      <td>300</td>\n",
       "      <td>100.000000</td>\n",
       "      <td>pass</td>\n",
       "      <td>pass</td>\n",
       "      <td>A</td>\n",
       "    </tr>\n",
       "  </tbody>\n",
       "</table>\n",
       "</div>"
      ],
      "text/plain": [
       "        Python  Data Science  DBMS  Total  Percentage Result result Grade\n",
       "Naitik      61            39   100    200   66.666667   Fail   fail     D\n",
       "Fenil       61            49    50    160   53.333333   Fail   fail     E\n",
       "Aastha      61            71    89    221   73.666667   pass   pass     C\n",
       "Teerth     100           100   100    300  100.000000   pass   pass     A"
      ]
     },
     "execution_count": 46,
     "metadata": {},
     "output_type": "execute_result"
    }
   ],
   "source": [
    "df1"
   ]
  },
  {
   "cell_type": "markdown",
   "id": "5343880c",
   "metadata": {},
   "source": [
    "16. Also calculate overall columns total, maximum, minimum and standard deviation for each \n",
    "numeric columns Convert the above dataframe to excel, json and html."
   ]
  },
  {
   "cell_type": "code",
   "execution_count": 108,
   "id": "a7838cdf",
   "metadata": {},
   "outputs": [
    {
     "data": {
      "text/html": [
       "<div>\n",
       "<style scoped>\n",
       "    .dataframe tbody tr th:only-of-type {\n",
       "        vertical-align: middle;\n",
       "    }\n",
       "\n",
       "    .dataframe tbody tr th {\n",
       "        vertical-align: top;\n",
       "    }\n",
       "\n",
       "    .dataframe thead th {\n",
       "        text-align: right;\n",
       "    }\n",
       "</style>\n",
       "<table border=\"1\" class=\"dataframe\">\n",
       "  <thead>\n",
       "    <tr style=\"text-align: right;\">\n",
       "      <th></th>\n",
       "      <th>Python</th>\n",
       "      <th>Data Science</th>\n",
       "      <th>DBMS</th>\n",
       "      <th>Total</th>\n",
       "      <th>Percentage</th>\n",
       "    </tr>\n",
       "  </thead>\n",
       "  <tbody>\n",
       "    <tr>\n",
       "      <th>count</th>\n",
       "      <td>4.000000</td>\n",
       "      <td>4.000000</td>\n",
       "      <td>4.00</td>\n",
       "      <td>4.000000</td>\n",
       "      <td>4.000000</td>\n",
       "    </tr>\n",
       "    <tr>\n",
       "      <th>mean</th>\n",
       "      <td>89.750000</td>\n",
       "      <td>62.000000</td>\n",
       "      <td>81.25</td>\n",
       "      <td>233.000000</td>\n",
       "      <td>77.666667</td>\n",
       "    </tr>\n",
       "    <tr>\n",
       "      <th>std</th>\n",
       "      <td>16.173538</td>\n",
       "      <td>26.495283</td>\n",
       "      <td>25.50</td>\n",
       "      <td>39.740827</td>\n",
       "      <td>13.246942</td>\n",
       "    </tr>\n",
       "    <tr>\n",
       "      <th>min</th>\n",
       "      <td>66.000000</td>\n",
       "      <td>38.000000</td>\n",
       "      <td>46.00</td>\n",
       "      <td>204.000000</td>\n",
       "      <td>68.000000</td>\n",
       "    </tr>\n",
       "    <tr>\n",
       "      <th>25%</th>\n",
       "      <td>86.250000</td>\n",
       "      <td>44.750000</td>\n",
       "      <td>70.75</td>\n",
       "      <td>209.250000</td>\n",
       "      <td>69.750000</td>\n",
       "    </tr>\n",
       "    <tr>\n",
       "      <th>50%</th>\n",
       "      <td>96.500000</td>\n",
       "      <td>56.000000</td>\n",
       "      <td>89.50</td>\n",
       "      <td>218.500000</td>\n",
       "      <td>72.833333</td>\n",
       "    </tr>\n",
       "    <tr>\n",
       "      <th>75%</th>\n",
       "      <td>100.000000</td>\n",
       "      <td>73.250000</td>\n",
       "      <td>100.00</td>\n",
       "      <td>242.250000</td>\n",
       "      <td>80.750000</td>\n",
       "    </tr>\n",
       "    <tr>\n",
       "      <th>max</th>\n",
       "      <td>100.000000</td>\n",
       "      <td>98.000000</td>\n",
       "      <td>100.00</td>\n",
       "      <td>291.000000</td>\n",
       "      <td>97.000000</td>\n",
       "    </tr>\n",
       "  </tbody>\n",
       "</table>\n",
       "</div>"
      ],
      "text/plain": [
       "           Python  Data Science    DBMS       Total  Percentage\n",
       "count    4.000000      4.000000    4.00    4.000000    4.000000\n",
       "mean    89.750000     62.000000   81.25  233.000000   77.666667\n",
       "std     16.173538     26.495283   25.50   39.740827   13.246942\n",
       "min     66.000000     38.000000   46.00  204.000000   68.000000\n",
       "25%     86.250000     44.750000   70.75  209.250000   69.750000\n",
       "50%     96.500000     56.000000   89.50  218.500000   72.833333\n",
       "75%    100.000000     73.250000  100.00  242.250000   80.750000\n",
       "max    100.000000     98.000000  100.00  291.000000   97.000000"
      ]
     },
     "execution_count": 108,
     "metadata": {},
     "output_type": "execute_result"
    }
   ],
   "source": [
    "df1.describe()"
   ]
  },
  {
   "cell_type": "code",
   "execution_count": null,
   "id": "5a72a8b0",
   "metadata": {},
   "outputs": [],
   "source": [
    "df.to_excel('output.xlsx', index=False)"
   ]
  },
  {
   "cell_type": "code",
   "execution_count": null,
   "id": "2d6303e2",
   "metadata": {},
   "outputs": [],
   "source": [
    "df.to_json('output.json', orient='records')"
   ]
  },
  {
   "cell_type": "code",
   "execution_count": null,
   "id": "449e2784",
   "metadata": {},
   "outputs": [],
   "source": [
    "df.to_html('output.html', index=False)"
   ]
  },
  {
   "cell_type": "markdown",
   "id": "7aabc400",
   "metadata": {},
   "source": [
    "17. Display meta-data for each column for the above dataframe"
   ]
  },
  {
   "cell_type": "code",
   "execution_count": 6,
   "id": "ba62ab17",
   "metadata": {},
   "outputs": [
    {
     "data": {
      "text/plain": [
       "Python          int32\n",
       "Data Science    int32\n",
       "DBMS            int32\n",
       "dtype: object"
      ]
     },
     "execution_count": 6,
     "metadata": {},
     "output_type": "execute_result"
    }
   ],
   "source": [
    "df.dtypes"
   ]
  },
  {
   "cell_type": "markdown",
   "id": "f93c253c",
   "metadata": {},
   "source": [
    "18. Convert the above DataFrame to list within a dictionary"
   ]
  },
  {
   "cell_type": "code",
   "execution_count": 1,
   "id": "2d9a0ab5",
   "metadata": {},
   "outputs": [
    {
     "ename": "NameError",
     "evalue": "name 'df' is not defined",
     "output_type": "error",
     "traceback": [
      "\u001b[1;31m---------------------------------------------------------------------------\u001b[0m",
      "\u001b[1;31mNameError\u001b[0m                                 Traceback (most recent call last)",
      "\u001b[1;32m~\\AppData\\Local\\Temp\\ipykernel_6356\\3312194737.py\u001b[0m in \u001b[0;36m<module>\u001b[1;34m\u001b[0m\n\u001b[1;32m----> 1\u001b[1;33m \u001b[0mdf_dict\u001b[0m \u001b[1;33m=\u001b[0m \u001b[0mdf\u001b[0m\u001b[1;33m.\u001b[0m\u001b[0mto_dict\u001b[0m\u001b[1;33m(\u001b[0m\u001b[0morient\u001b[0m\u001b[1;33m=\u001b[0m\u001b[1;34m'list'\u001b[0m\u001b[1;33m)\u001b[0m\u001b[1;33m\u001b[0m\u001b[1;33m\u001b[0m\u001b[0m\n\u001b[0m\u001b[0;32m      2\u001b[0m df_dict['Product Price'] = [price + 500 for price in\n\u001b[0;32m      3\u001b[0m df_dict['Product Price']]\n",
      "\u001b[1;31mNameError\u001b[0m: name 'df' is not defined"
     ]
    }
   ],
   "source": [
    "df_dict = df.to_dict(orient='list')\n",
    "df_dict['Product Price'] = [price + 500 for price in\n",
    "df_dict['Product Price']]"
   ]
  },
  {
   "cell_type": "markdown",
   "id": "fabbea51",
   "metadata": {},
   "source": [
    "19. Convert this dictionary again to a separate dataframe by adding 500 to each element in product \n",
    "price column."
   ]
  },
  {
   "cell_type": "code",
   "execution_count": 2,
   "id": "e08a03db",
   "metadata": {},
   "outputs": [
    {
     "ename": "NameError",
     "evalue": "name 'pd' is not defined",
     "output_type": "error",
     "traceback": [
      "\u001b[1;31m---------------------------------------------------------------------------\u001b[0m",
      "\u001b[1;31mNameError\u001b[0m                                 Traceback (most recent call last)",
      "\u001b[1;32m~\\AppData\\Local\\Temp\\ipykernel_6356\\1071995391.py\u001b[0m in \u001b[0;36m<module>\u001b[1;34m\u001b[0m\n\u001b[1;32m----> 1\u001b[1;33m \u001b[0mdf1_updated\u001b[0m \u001b[1;33m=\u001b[0m \u001b[0mpd\u001b[0m\u001b[1;33m.\u001b[0m\u001b[0mDataFrame\u001b[0m\u001b[1;33m(\u001b[0m\u001b[0mdf1_dict\u001b[0m\u001b[1;33m)\u001b[0m\u001b[1;33m\u001b[0m\u001b[1;33m\u001b[0m\u001b[0m\n\u001b[0m\u001b[0;32m      2\u001b[0m \u001b[0mdf1_updated\u001b[0m\u001b[1;33m\u001b[0m\u001b[1;33m\u001b[0m\u001b[0m\n",
      "\u001b[1;31mNameError\u001b[0m: name 'pd' is not defined"
     ]
    }
   ],
   "source": [
    "df1_updated = pd.DataFrame(df1_dict)\n",
    "df1_updated"
   ]
  },
  {
   "cell_type": "code",
   "execution_count": null,
   "id": "c2178eba",
   "metadata": {},
   "outputs": [],
   "source": []
  },
  {
   "cell_type": "markdown",
   "id": "1ce96779",
   "metadata": {},
   "source": [
    "# Lab-5 Assignment -2"
   ]
  },
  {
   "cell_type": "code",
   "execution_count": null,
   "id": "c6b90543",
   "metadata": {},
   "outputs": [],
   "source": []
  },
  {
   "cell_type": "code",
   "execution_count": null,
   "id": "651e4b6f",
   "metadata": {},
   "outputs": [],
   "source": []
  },
  {
   "cell_type": "code",
   "execution_count": 3,
   "id": "049f8d87",
   "metadata": {},
   "outputs": [],
   "source": [
    "import pandas as pd"
   ]
  },
  {
   "cell_type": "code",
   "execution_count": 8,
   "id": "7379e503",
   "metadata": {},
   "outputs": [],
   "source": [
    "df=pd.DataFrame({'Key': ['A','B','C','A','B','C'],\n",
    "                'data':range(6)},columns=['Key','data'])"
   ]
  },
  {
   "cell_type": "code",
   "execution_count": 9,
   "id": "850cb762",
   "metadata": {},
   "outputs": [
    {
     "data": {
      "text/html": [
       "<div>\n",
       "<style scoped>\n",
       "    .dataframe tbody tr th:only-of-type {\n",
       "        vertical-align: middle;\n",
       "    }\n",
       "\n",
       "    .dataframe tbody tr th {\n",
       "        vertical-align: top;\n",
       "    }\n",
       "\n",
       "    .dataframe thead th {\n",
       "        text-align: right;\n",
       "    }\n",
       "</style>\n",
       "<table border=\"1\" class=\"dataframe\">\n",
       "  <thead>\n",
       "    <tr style=\"text-align: right;\">\n",
       "      <th></th>\n",
       "      <th>Key</th>\n",
       "      <th>data</th>\n",
       "    </tr>\n",
       "  </thead>\n",
       "  <tbody>\n",
       "    <tr>\n",
       "      <th>0</th>\n",
       "      <td>A</td>\n",
       "      <td>0</td>\n",
       "    </tr>\n",
       "    <tr>\n",
       "      <th>1</th>\n",
       "      <td>B</td>\n",
       "      <td>1</td>\n",
       "    </tr>\n",
       "    <tr>\n",
       "      <th>2</th>\n",
       "      <td>C</td>\n",
       "      <td>2</td>\n",
       "    </tr>\n",
       "    <tr>\n",
       "      <th>3</th>\n",
       "      <td>A</td>\n",
       "      <td>3</td>\n",
       "    </tr>\n",
       "    <tr>\n",
       "      <th>4</th>\n",
       "      <td>B</td>\n",
       "      <td>4</td>\n",
       "    </tr>\n",
       "    <tr>\n",
       "      <th>5</th>\n",
       "      <td>C</td>\n",
       "      <td>5</td>\n",
       "    </tr>\n",
       "  </tbody>\n",
       "</table>\n",
       "</div>"
      ],
      "text/plain": [
       "  Key  data\n",
       "0   A     0\n",
       "1   B     1\n",
       "2   C     2\n",
       "3   A     3\n",
       "4   B     4\n",
       "5   C     5"
      ]
     },
     "execution_count": 9,
     "metadata": {},
     "output_type": "execute_result"
    }
   ],
   "source": [
    "df"
   ]
  },
  {
   "cell_type": "code",
   "execution_count": 23,
   "id": "7ebe022c",
   "metadata": {},
   "outputs": [],
   "source": [
    "#create dataframe\n",
    "data={'company': ['GOOG','GOOG','MSFT','MSFT','FB','FB','FB'],\n",
    "     'person':['Sam','Charlie','Amy','Vaneesa','Carl','Sarah','Liza'],\n",
    "     'Sales': [200,120,340,124,243,350,456]}"
   ]
  },
  {
   "cell_type": "code",
   "execution_count": 24,
   "id": "d1d4259d",
   "metadata": {},
   "outputs": [],
   "source": [
    "df=pd.DataFrame(data)"
   ]
  },
  {
   "cell_type": "code",
   "execution_count": 25,
   "id": "fd8717ab",
   "metadata": {},
   "outputs": [
    {
     "data": {
      "text/html": [
       "<div>\n",
       "<style scoped>\n",
       "    .dataframe tbody tr th:only-of-type {\n",
       "        vertical-align: middle;\n",
       "    }\n",
       "\n",
       "    .dataframe tbody tr th {\n",
       "        vertical-align: top;\n",
       "    }\n",
       "\n",
       "    .dataframe thead th {\n",
       "        text-align: right;\n",
       "    }\n",
       "</style>\n",
       "<table border=\"1\" class=\"dataframe\">\n",
       "  <thead>\n",
       "    <tr style=\"text-align: right;\">\n",
       "      <th></th>\n",
       "      <th>company</th>\n",
       "      <th>person</th>\n",
       "      <th>Sales</th>\n",
       "    </tr>\n",
       "  </thead>\n",
       "  <tbody>\n",
       "    <tr>\n",
       "      <th>0</th>\n",
       "      <td>GOOG</td>\n",
       "      <td>Sam</td>\n",
       "      <td>200</td>\n",
       "    </tr>\n",
       "    <tr>\n",
       "      <th>1</th>\n",
       "      <td>GOOG</td>\n",
       "      <td>Charlie</td>\n",
       "      <td>120</td>\n",
       "    </tr>\n",
       "    <tr>\n",
       "      <th>2</th>\n",
       "      <td>MSFT</td>\n",
       "      <td>Amy</td>\n",
       "      <td>340</td>\n",
       "    </tr>\n",
       "    <tr>\n",
       "      <th>3</th>\n",
       "      <td>MSFT</td>\n",
       "      <td>Vaneesa</td>\n",
       "      <td>124</td>\n",
       "    </tr>\n",
       "    <tr>\n",
       "      <th>4</th>\n",
       "      <td>FB</td>\n",
       "      <td>Carl</td>\n",
       "      <td>243</td>\n",
       "    </tr>\n",
       "    <tr>\n",
       "      <th>5</th>\n",
       "      <td>FB</td>\n",
       "      <td>Sarah</td>\n",
       "      <td>350</td>\n",
       "    </tr>\n",
       "    <tr>\n",
       "      <th>6</th>\n",
       "      <td>FB</td>\n",
       "      <td>Liza</td>\n",
       "      <td>456</td>\n",
       "    </tr>\n",
       "  </tbody>\n",
       "</table>\n",
       "</div>"
      ],
      "text/plain": [
       "  company   person  Sales\n",
       "0    GOOG      Sam    200\n",
       "1    GOOG  Charlie    120\n",
       "2    MSFT      Amy    340\n",
       "3    MSFT  Vaneesa    124\n",
       "4      FB     Carl    243\n",
       "5      FB    Sarah    350\n",
       "6      FB     Liza    456"
      ]
     },
     "execution_count": 25,
     "metadata": {},
     "output_type": "execute_result"
    }
   ],
   "source": [
    "df"
   ]
  },
  {
   "cell_type": "code",
   "execution_count": 26,
   "id": "6385e243",
   "metadata": {},
   "outputs": [],
   "source": [
    "df.groupby?"
   ]
  },
  {
   "cell_type": "code",
   "execution_count": 27,
   "id": "5af6a6a3",
   "metadata": {},
   "outputs": [],
   "source": [
    "by_comp=df.groupby('company')\n"
   ]
  },
  {
   "cell_type": "code",
   "execution_count": 28,
   "id": "fdaf3623",
   "metadata": {},
   "outputs": [
    {
     "data": {
      "text/html": [
       "<div>\n",
       "<style scoped>\n",
       "    .dataframe tbody tr th:only-of-type {\n",
       "        vertical-align: middle;\n",
       "    }\n",
       "\n",
       "    .dataframe tbody tr th {\n",
       "        vertical-align: top;\n",
       "    }\n",
       "\n",
       "    .dataframe thead th {\n",
       "        text-align: right;\n",
       "    }\n",
       "</style>\n",
       "<table border=\"1\" class=\"dataframe\">\n",
       "  <thead>\n",
       "    <tr style=\"text-align: right;\">\n",
       "      <th></th>\n",
       "      <th>Sales</th>\n",
       "    </tr>\n",
       "    <tr>\n",
       "      <th>company</th>\n",
       "      <th></th>\n",
       "    </tr>\n",
       "  </thead>\n",
       "  <tbody>\n",
       "    <tr>\n",
       "      <th>FB</th>\n",
       "      <td>349.666667</td>\n",
       "    </tr>\n",
       "    <tr>\n",
       "      <th>GOOG</th>\n",
       "      <td>160.000000</td>\n",
       "    </tr>\n",
       "    <tr>\n",
       "      <th>MSFT</th>\n",
       "      <td>232.000000</td>\n",
       "    </tr>\n",
       "  </tbody>\n",
       "</table>\n",
       "</div>"
      ],
      "text/plain": [
       "              Sales\n",
       "company            \n",
       "FB       349.666667\n",
       "GOOG     160.000000\n",
       "MSFT     232.000000"
      ]
     },
     "execution_count": 28,
     "metadata": {},
     "output_type": "execute_result"
    }
   ],
   "source": [
    "by_comp.mean('Sales')"
   ]
  },
  {
   "cell_type": "code",
   "execution_count": 29,
   "id": "0dc8dbc3",
   "metadata": {},
   "outputs": [
    {
     "data": {
      "text/html": [
       "<div>\n",
       "<style scoped>\n",
       "    .dataframe tbody tr th:only-of-type {\n",
       "        vertical-align: middle;\n",
       "    }\n",
       "\n",
       "    .dataframe tbody tr th {\n",
       "        vertical-align: top;\n",
       "    }\n",
       "\n",
       "    .dataframe thead tr th {\n",
       "        text-align: left;\n",
       "    }\n",
       "\n",
       "    .dataframe thead tr:last-of-type th {\n",
       "        text-align: right;\n",
       "    }\n",
       "</style>\n",
       "<table border=\"1\" class=\"dataframe\">\n",
       "  <thead>\n",
       "    <tr>\n",
       "      <th></th>\n",
       "      <th colspan=\"8\" halign=\"left\">Sales</th>\n",
       "    </tr>\n",
       "    <tr>\n",
       "      <th></th>\n",
       "      <th>count</th>\n",
       "      <th>mean</th>\n",
       "      <th>std</th>\n",
       "      <th>min</th>\n",
       "      <th>25%</th>\n",
       "      <th>50%</th>\n",
       "      <th>75%</th>\n",
       "      <th>max</th>\n",
       "    </tr>\n",
       "    <tr>\n",
       "      <th>company</th>\n",
       "      <th></th>\n",
       "      <th></th>\n",
       "      <th></th>\n",
       "      <th></th>\n",
       "      <th></th>\n",
       "      <th></th>\n",
       "      <th></th>\n",
       "      <th></th>\n",
       "    </tr>\n",
       "  </thead>\n",
       "  <tbody>\n",
       "    <tr>\n",
       "      <th>FB</th>\n",
       "      <td>3.0</td>\n",
       "      <td>349.666667</td>\n",
       "      <td>106.500391</td>\n",
       "      <td>243.0</td>\n",
       "      <td>296.5</td>\n",
       "      <td>350.0</td>\n",
       "      <td>403.0</td>\n",
       "      <td>456.0</td>\n",
       "    </tr>\n",
       "    <tr>\n",
       "      <th>GOOG</th>\n",
       "      <td>2.0</td>\n",
       "      <td>160.000000</td>\n",
       "      <td>56.568542</td>\n",
       "      <td>120.0</td>\n",
       "      <td>140.0</td>\n",
       "      <td>160.0</td>\n",
       "      <td>180.0</td>\n",
       "      <td>200.0</td>\n",
       "    </tr>\n",
       "    <tr>\n",
       "      <th>MSFT</th>\n",
       "      <td>2.0</td>\n",
       "      <td>232.000000</td>\n",
       "      <td>152.735065</td>\n",
       "      <td>124.0</td>\n",
       "      <td>178.0</td>\n",
       "      <td>232.0</td>\n",
       "      <td>286.0</td>\n",
       "      <td>340.0</td>\n",
       "    </tr>\n",
       "  </tbody>\n",
       "</table>\n",
       "</div>"
      ],
      "text/plain": [
       "        Sales                                                           \n",
       "        count        mean         std    min    25%    50%    75%    max\n",
       "company                                                                 \n",
       "FB        3.0  349.666667  106.500391  243.0  296.5  350.0  403.0  456.0\n",
       "GOOG      2.0  160.000000   56.568542  120.0  140.0  160.0  180.0  200.0\n",
       "MSFT      2.0  232.000000  152.735065  124.0  178.0  232.0  286.0  340.0"
      ]
     },
     "execution_count": 29,
     "metadata": {},
     "output_type": "execute_result"
    }
   ],
   "source": [
    "by_comp.describe()"
   ]
  },
  {
   "cell_type": "code",
   "execution_count": 32,
   "id": "dbbc911c",
   "metadata": {},
   "outputs": [
    {
     "data": {
      "text/html": [
       "<div>\n",
       "<style scoped>\n",
       "    .dataframe tbody tr th:only-of-type {\n",
       "        vertical-align: middle;\n",
       "    }\n",
       "\n",
       "    .dataframe tbody tr th {\n",
       "        vertical-align: top;\n",
       "    }\n",
       "\n",
       "    .dataframe thead th {\n",
       "        text-align: right;\n",
       "    }\n",
       "</style>\n",
       "<table border=\"1\" class=\"dataframe\">\n",
       "  <thead>\n",
       "    <tr style=\"text-align: right;\">\n",
       "      <th></th>\n",
       "      <th>company</th>\n",
       "      <th>FB</th>\n",
       "      <th>GOOG</th>\n",
       "      <th>MSFT</th>\n",
       "    </tr>\n",
       "  </thead>\n",
       "  <tbody>\n",
       "    <tr>\n",
       "      <th rowspan=\"8\" valign=\"top\">Sales</th>\n",
       "      <th>count</th>\n",
       "      <td>3.000000</td>\n",
       "      <td>2.000000</td>\n",
       "      <td>2.000000</td>\n",
       "    </tr>\n",
       "    <tr>\n",
       "      <th>mean</th>\n",
       "      <td>349.666667</td>\n",
       "      <td>160.000000</td>\n",
       "      <td>232.000000</td>\n",
       "    </tr>\n",
       "    <tr>\n",
       "      <th>std</th>\n",
       "      <td>106.500391</td>\n",
       "      <td>56.568542</td>\n",
       "      <td>152.735065</td>\n",
       "    </tr>\n",
       "    <tr>\n",
       "      <th>min</th>\n",
       "      <td>243.000000</td>\n",
       "      <td>120.000000</td>\n",
       "      <td>124.000000</td>\n",
       "    </tr>\n",
       "    <tr>\n",
       "      <th>25%</th>\n",
       "      <td>296.500000</td>\n",
       "      <td>140.000000</td>\n",
       "      <td>178.000000</td>\n",
       "    </tr>\n",
       "    <tr>\n",
       "      <th>50%</th>\n",
       "      <td>350.000000</td>\n",
       "      <td>160.000000</td>\n",
       "      <td>232.000000</td>\n",
       "    </tr>\n",
       "    <tr>\n",
       "      <th>75%</th>\n",
       "      <td>403.000000</td>\n",
       "      <td>180.000000</td>\n",
       "      <td>286.000000</td>\n",
       "    </tr>\n",
       "    <tr>\n",
       "      <th>max</th>\n",
       "      <td>456.000000</td>\n",
       "      <td>200.000000</td>\n",
       "      <td>340.000000</td>\n",
       "    </tr>\n",
       "  </tbody>\n",
       "</table>\n",
       "</div>"
      ],
      "text/plain": [
       "company              FB        GOOG        MSFT\n",
       "Sales count    3.000000    2.000000    2.000000\n",
       "      mean   349.666667  160.000000  232.000000\n",
       "      std    106.500391   56.568542  152.735065\n",
       "      min    243.000000  120.000000  124.000000\n",
       "      25%    296.500000  140.000000  178.000000\n",
       "      50%    350.000000  160.000000  232.000000\n",
       "      75%    403.000000  180.000000  286.000000\n",
       "      max    456.000000  200.000000  340.000000"
      ]
     },
     "execution_count": 32,
     "metadata": {},
     "output_type": "execute_result"
    }
   ],
   "source": [
    "by_comp.describe().transpose()"
   ]
  },
  {
   "cell_type": "code",
   "execution_count": 33,
   "id": "a5da06c4",
   "metadata": {},
   "outputs": [],
   "source": [
    "df1=pd.DataFrame({'A': ['A0','A1','A2','A3'],\n",
    "                 'B': ['B0','B1','B2','B3'],\n",
    "                  'C': ['C0','C1','C2','C3'],\n",
    "                  'D': ['D0','D1','D2','D3']},\n",
    "                index=[0,1,2,3])"
   ]
  },
  {
   "cell_type": "code",
   "execution_count": 35,
   "id": "2c547ac4",
   "metadata": {},
   "outputs": [],
   "source": [
    "df2=pd.DataFrame({'A': ['A4','A5','A6','A7'],\n",
    "                 'B': ['B4','B5','B6','B7'],\n",
    "                  'C': ['C4','C5','C6','C7'],\n",
    "                  'D': ['D4','D5','D6','D7']},\n",
    "                index=[4,5,6,7])"
   ]
  },
  {
   "cell_type": "code",
   "execution_count": 36,
   "id": "d0575e0a",
   "metadata": {},
   "outputs": [],
   "source": [
    "df3=pd.DataFrame({'A': ['A8','A9','A10','A11'],\n",
    "                 'B': ['B8','B9','B10','B11'],\n",
    "                  'C': ['C8','C9','C10','C11'],\n",
    "                  'D': ['D8','D9','D10','D11']},\n",
    "                index=[8,9,10,11])"
   ]
  },
  {
   "cell_type": "code",
   "execution_count": null,
   "id": "8df18fb4",
   "metadata": {},
   "outputs": [],
   "source": []
  },
  {
   "cell_type": "code",
   "execution_count": 40,
   "id": "678dc849",
   "metadata": {},
   "outputs": [
    {
     "data": {
      "text/html": [
       "<div>\n",
       "<style scoped>\n",
       "    .dataframe tbody tr th:only-of-type {\n",
       "        vertical-align: middle;\n",
       "    }\n",
       "\n",
       "    .dataframe tbody tr th {\n",
       "        vertical-align: top;\n",
       "    }\n",
       "\n",
       "    .dataframe thead th {\n",
       "        text-align: right;\n",
       "    }\n",
       "</style>\n",
       "<table border=\"1\" class=\"dataframe\">\n",
       "  <thead>\n",
       "    <tr style=\"text-align: right;\">\n",
       "      <th></th>\n",
       "      <th>A</th>\n",
       "      <th>B</th>\n",
       "      <th>C</th>\n",
       "      <th>D</th>\n",
       "    </tr>\n",
       "  </thead>\n",
       "  <tbody>\n",
       "    <tr>\n",
       "      <th>0</th>\n",
       "      <td>A0</td>\n",
       "      <td>B0</td>\n",
       "      <td>C0</td>\n",
       "      <td>D0</td>\n",
       "    </tr>\n",
       "    <tr>\n",
       "      <th>1</th>\n",
       "      <td>A1</td>\n",
       "      <td>B1</td>\n",
       "      <td>C1</td>\n",
       "      <td>D1</td>\n",
       "    </tr>\n",
       "    <tr>\n",
       "      <th>2</th>\n",
       "      <td>A2</td>\n",
       "      <td>B2</td>\n",
       "      <td>C2</td>\n",
       "      <td>D2</td>\n",
       "    </tr>\n",
       "    <tr>\n",
       "      <th>3</th>\n",
       "      <td>A3</td>\n",
       "      <td>B3</td>\n",
       "      <td>C3</td>\n",
       "      <td>D3</td>\n",
       "    </tr>\n",
       "  </tbody>\n",
       "</table>\n",
       "</div>"
      ],
      "text/plain": [
       "    A   B   C   D\n",
       "0  A0  B0  C0  D0\n",
       "1  A1  B1  C1  D1\n",
       "2  A2  B2  C2  D2\n",
       "3  A3  B3  C3  D3"
      ]
     },
     "execution_count": 40,
     "metadata": {},
     "output_type": "execute_result"
    }
   ],
   "source": [
    "df1"
   ]
  },
  {
   "cell_type": "code",
   "execution_count": 41,
   "id": "42fb4cee",
   "metadata": {},
   "outputs": [
    {
     "data": {
      "text/html": [
       "<div>\n",
       "<style scoped>\n",
       "    .dataframe tbody tr th:only-of-type {\n",
       "        vertical-align: middle;\n",
       "    }\n",
       "\n",
       "    .dataframe tbody tr th {\n",
       "        vertical-align: top;\n",
       "    }\n",
       "\n",
       "    .dataframe thead th {\n",
       "        text-align: right;\n",
       "    }\n",
       "</style>\n",
       "<table border=\"1\" class=\"dataframe\">\n",
       "  <thead>\n",
       "    <tr style=\"text-align: right;\">\n",
       "      <th></th>\n",
       "      <th>A</th>\n",
       "      <th>B</th>\n",
       "      <th>C</th>\n",
       "      <th>D</th>\n",
       "    </tr>\n",
       "  </thead>\n",
       "  <tbody>\n",
       "    <tr>\n",
       "      <th>4</th>\n",
       "      <td>A4</td>\n",
       "      <td>B4</td>\n",
       "      <td>C4</td>\n",
       "      <td>D4</td>\n",
       "    </tr>\n",
       "    <tr>\n",
       "      <th>5</th>\n",
       "      <td>A5</td>\n",
       "      <td>B5</td>\n",
       "      <td>C5</td>\n",
       "      <td>D5</td>\n",
       "    </tr>\n",
       "    <tr>\n",
       "      <th>6</th>\n",
       "      <td>A6</td>\n",
       "      <td>B6</td>\n",
       "      <td>C6</td>\n",
       "      <td>D6</td>\n",
       "    </tr>\n",
       "    <tr>\n",
       "      <th>7</th>\n",
       "      <td>A7</td>\n",
       "      <td>B7</td>\n",
       "      <td>C7</td>\n",
       "      <td>D7</td>\n",
       "    </tr>\n",
       "  </tbody>\n",
       "</table>\n",
       "</div>"
      ],
      "text/plain": [
       "    A   B   C   D\n",
       "4  A4  B4  C4  D4\n",
       "5  A5  B5  C5  D5\n",
       "6  A6  B6  C6  D6\n",
       "7  A7  B7  C7  D7"
      ]
     },
     "execution_count": 41,
     "metadata": {},
     "output_type": "execute_result"
    }
   ],
   "source": [
    "df2"
   ]
  },
  {
   "cell_type": "code",
   "execution_count": 42,
   "id": "bc31ea69",
   "metadata": {},
   "outputs": [
    {
     "data": {
      "text/html": [
       "<div>\n",
       "<style scoped>\n",
       "    .dataframe tbody tr th:only-of-type {\n",
       "        vertical-align: middle;\n",
       "    }\n",
       "\n",
       "    .dataframe tbody tr th {\n",
       "        vertical-align: top;\n",
       "    }\n",
       "\n",
       "    .dataframe thead th {\n",
       "        text-align: right;\n",
       "    }\n",
       "</style>\n",
       "<table border=\"1\" class=\"dataframe\">\n",
       "  <thead>\n",
       "    <tr style=\"text-align: right;\">\n",
       "      <th></th>\n",
       "      <th>A</th>\n",
       "      <th>B</th>\n",
       "      <th>C</th>\n",
       "      <th>D</th>\n",
       "    </tr>\n",
       "  </thead>\n",
       "  <tbody>\n",
       "    <tr>\n",
       "      <th>8</th>\n",
       "      <td>A8</td>\n",
       "      <td>B8</td>\n",
       "      <td>C8</td>\n",
       "      <td>D8</td>\n",
       "    </tr>\n",
       "    <tr>\n",
       "      <th>9</th>\n",
       "      <td>A9</td>\n",
       "      <td>B9</td>\n",
       "      <td>C9</td>\n",
       "      <td>D9</td>\n",
       "    </tr>\n",
       "    <tr>\n",
       "      <th>10</th>\n",
       "      <td>A10</td>\n",
       "      <td>B10</td>\n",
       "      <td>C10</td>\n",
       "      <td>D10</td>\n",
       "    </tr>\n",
       "    <tr>\n",
       "      <th>11</th>\n",
       "      <td>A11</td>\n",
       "      <td>B11</td>\n",
       "      <td>C11</td>\n",
       "      <td>D11</td>\n",
       "    </tr>\n",
       "  </tbody>\n",
       "</table>\n",
       "</div>"
      ],
      "text/plain": [
       "      A    B    C    D\n",
       "8    A8   B8   C8   D8\n",
       "9    A9   B9   C9   D9\n",
       "10  A10  B10  C10  D10\n",
       "11  A11  B11  C11  D11"
      ]
     },
     "execution_count": 42,
     "metadata": {},
     "output_type": "execute_result"
    }
   ],
   "source": [
    "df3"
   ]
  },
  {
   "cell_type": "code",
   "execution_count": 43,
   "id": "4c9177f8",
   "metadata": {},
   "outputs": [
    {
     "data": {
      "text/html": [
       "<div>\n",
       "<style scoped>\n",
       "    .dataframe tbody tr th:only-of-type {\n",
       "        vertical-align: middle;\n",
       "    }\n",
       "\n",
       "    .dataframe tbody tr th {\n",
       "        vertical-align: top;\n",
       "    }\n",
       "\n",
       "    .dataframe thead th {\n",
       "        text-align: right;\n",
       "    }\n",
       "</style>\n",
       "<table border=\"1\" class=\"dataframe\">\n",
       "  <thead>\n",
       "    <tr style=\"text-align: right;\">\n",
       "      <th></th>\n",
       "      <th>A</th>\n",
       "      <th>B</th>\n",
       "      <th>C</th>\n",
       "      <th>D</th>\n",
       "    </tr>\n",
       "  </thead>\n",
       "  <tbody>\n",
       "    <tr>\n",
       "      <th>0</th>\n",
       "      <td>A0</td>\n",
       "      <td>B0</td>\n",
       "      <td>C0</td>\n",
       "      <td>D0</td>\n",
       "    </tr>\n",
       "    <tr>\n",
       "      <th>1</th>\n",
       "      <td>A1</td>\n",
       "      <td>B1</td>\n",
       "      <td>C1</td>\n",
       "      <td>D1</td>\n",
       "    </tr>\n",
       "    <tr>\n",
       "      <th>2</th>\n",
       "      <td>A2</td>\n",
       "      <td>B2</td>\n",
       "      <td>C2</td>\n",
       "      <td>D2</td>\n",
       "    </tr>\n",
       "    <tr>\n",
       "      <th>3</th>\n",
       "      <td>A3</td>\n",
       "      <td>B3</td>\n",
       "      <td>C3</td>\n",
       "      <td>D3</td>\n",
       "    </tr>\n",
       "    <tr>\n",
       "      <th>4</th>\n",
       "      <td>A4</td>\n",
       "      <td>B4</td>\n",
       "      <td>C4</td>\n",
       "      <td>D4</td>\n",
       "    </tr>\n",
       "    <tr>\n",
       "      <th>5</th>\n",
       "      <td>A5</td>\n",
       "      <td>B5</td>\n",
       "      <td>C5</td>\n",
       "      <td>D5</td>\n",
       "    </tr>\n",
       "    <tr>\n",
       "      <th>6</th>\n",
       "      <td>A6</td>\n",
       "      <td>B6</td>\n",
       "      <td>C6</td>\n",
       "      <td>D6</td>\n",
       "    </tr>\n",
       "    <tr>\n",
       "      <th>7</th>\n",
       "      <td>A7</td>\n",
       "      <td>B7</td>\n",
       "      <td>C7</td>\n",
       "      <td>D7</td>\n",
       "    </tr>\n",
       "    <tr>\n",
       "      <th>8</th>\n",
       "      <td>A8</td>\n",
       "      <td>B8</td>\n",
       "      <td>C8</td>\n",
       "      <td>D8</td>\n",
       "    </tr>\n",
       "    <tr>\n",
       "      <th>9</th>\n",
       "      <td>A9</td>\n",
       "      <td>B9</td>\n",
       "      <td>C9</td>\n",
       "      <td>D9</td>\n",
       "    </tr>\n",
       "    <tr>\n",
       "      <th>10</th>\n",
       "      <td>A10</td>\n",
       "      <td>B10</td>\n",
       "      <td>C10</td>\n",
       "      <td>D10</td>\n",
       "    </tr>\n",
       "    <tr>\n",
       "      <th>11</th>\n",
       "      <td>A11</td>\n",
       "      <td>B11</td>\n",
       "      <td>C11</td>\n",
       "      <td>D11</td>\n",
       "    </tr>\n",
       "  </tbody>\n",
       "</table>\n",
       "</div>"
      ],
      "text/plain": [
       "      A    B    C    D\n",
       "0    A0   B0   C0   D0\n",
       "1    A1   B1   C1   D1\n",
       "2    A2   B2   C2   D2\n",
       "3    A3   B3   C3   D3\n",
       "4    A4   B4   C4   D4\n",
       "5    A5   B5   C5   D5\n",
       "6    A6   B6   C6   D6\n",
       "7    A7   B7   C7   D7\n",
       "8    A8   B8   C8   D8\n",
       "9    A9   B9   C9   D9\n",
       "10  A10  B10  C10  D10\n",
       "11  A11  B11  C11  D11"
      ]
     },
     "execution_count": 43,
     "metadata": {},
     "output_type": "execute_result"
    }
   ],
   "source": [
    "pd.concat([df1,df2,df3])"
   ]
  },
  {
   "cell_type": "code",
   "execution_count": 44,
   "id": "7223d153",
   "metadata": {},
   "outputs": [
    {
     "data": {
      "text/html": [
       "<div>\n",
       "<style scoped>\n",
       "    .dataframe tbody tr th:only-of-type {\n",
       "        vertical-align: middle;\n",
       "    }\n",
       "\n",
       "    .dataframe tbody tr th {\n",
       "        vertical-align: top;\n",
       "    }\n",
       "\n",
       "    .dataframe thead th {\n",
       "        text-align: right;\n",
       "    }\n",
       "</style>\n",
       "<table border=\"1\" class=\"dataframe\">\n",
       "  <thead>\n",
       "    <tr style=\"text-align: right;\">\n",
       "      <th></th>\n",
       "      <th>A</th>\n",
       "      <th>B</th>\n",
       "      <th>C</th>\n",
       "      <th>D</th>\n",
       "      <th>A</th>\n",
       "      <th>B</th>\n",
       "      <th>C</th>\n",
       "      <th>D</th>\n",
       "      <th>A</th>\n",
       "      <th>B</th>\n",
       "      <th>C</th>\n",
       "      <th>D</th>\n",
       "    </tr>\n",
       "  </thead>\n",
       "  <tbody>\n",
       "    <tr>\n",
       "      <th>0</th>\n",
       "      <td>A0</td>\n",
       "      <td>B0</td>\n",
       "      <td>C0</td>\n",
       "      <td>D0</td>\n",
       "      <td>NaN</td>\n",
       "      <td>NaN</td>\n",
       "      <td>NaN</td>\n",
       "      <td>NaN</td>\n",
       "      <td>NaN</td>\n",
       "      <td>NaN</td>\n",
       "      <td>NaN</td>\n",
       "      <td>NaN</td>\n",
       "    </tr>\n",
       "    <tr>\n",
       "      <th>1</th>\n",
       "      <td>A1</td>\n",
       "      <td>B1</td>\n",
       "      <td>C1</td>\n",
       "      <td>D1</td>\n",
       "      <td>NaN</td>\n",
       "      <td>NaN</td>\n",
       "      <td>NaN</td>\n",
       "      <td>NaN</td>\n",
       "      <td>NaN</td>\n",
       "      <td>NaN</td>\n",
       "      <td>NaN</td>\n",
       "      <td>NaN</td>\n",
       "    </tr>\n",
       "    <tr>\n",
       "      <th>2</th>\n",
       "      <td>A2</td>\n",
       "      <td>B2</td>\n",
       "      <td>C2</td>\n",
       "      <td>D2</td>\n",
       "      <td>NaN</td>\n",
       "      <td>NaN</td>\n",
       "      <td>NaN</td>\n",
       "      <td>NaN</td>\n",
       "      <td>NaN</td>\n",
       "      <td>NaN</td>\n",
       "      <td>NaN</td>\n",
       "      <td>NaN</td>\n",
       "    </tr>\n",
       "    <tr>\n",
       "      <th>3</th>\n",
       "      <td>A3</td>\n",
       "      <td>B3</td>\n",
       "      <td>C3</td>\n",
       "      <td>D3</td>\n",
       "      <td>NaN</td>\n",
       "      <td>NaN</td>\n",
       "      <td>NaN</td>\n",
       "      <td>NaN</td>\n",
       "      <td>NaN</td>\n",
       "      <td>NaN</td>\n",
       "      <td>NaN</td>\n",
       "      <td>NaN</td>\n",
       "    </tr>\n",
       "    <tr>\n",
       "      <th>4</th>\n",
       "      <td>NaN</td>\n",
       "      <td>NaN</td>\n",
       "      <td>NaN</td>\n",
       "      <td>NaN</td>\n",
       "      <td>A4</td>\n",
       "      <td>B4</td>\n",
       "      <td>C4</td>\n",
       "      <td>D4</td>\n",
       "      <td>NaN</td>\n",
       "      <td>NaN</td>\n",
       "      <td>NaN</td>\n",
       "      <td>NaN</td>\n",
       "    </tr>\n",
       "    <tr>\n",
       "      <th>5</th>\n",
       "      <td>NaN</td>\n",
       "      <td>NaN</td>\n",
       "      <td>NaN</td>\n",
       "      <td>NaN</td>\n",
       "      <td>A5</td>\n",
       "      <td>B5</td>\n",
       "      <td>C5</td>\n",
       "      <td>D5</td>\n",
       "      <td>NaN</td>\n",
       "      <td>NaN</td>\n",
       "      <td>NaN</td>\n",
       "      <td>NaN</td>\n",
       "    </tr>\n",
       "    <tr>\n",
       "      <th>6</th>\n",
       "      <td>NaN</td>\n",
       "      <td>NaN</td>\n",
       "      <td>NaN</td>\n",
       "      <td>NaN</td>\n",
       "      <td>A6</td>\n",
       "      <td>B6</td>\n",
       "      <td>C6</td>\n",
       "      <td>D6</td>\n",
       "      <td>NaN</td>\n",
       "      <td>NaN</td>\n",
       "      <td>NaN</td>\n",
       "      <td>NaN</td>\n",
       "    </tr>\n",
       "    <tr>\n",
       "      <th>7</th>\n",
       "      <td>NaN</td>\n",
       "      <td>NaN</td>\n",
       "      <td>NaN</td>\n",
       "      <td>NaN</td>\n",
       "      <td>A7</td>\n",
       "      <td>B7</td>\n",
       "      <td>C7</td>\n",
       "      <td>D7</td>\n",
       "      <td>NaN</td>\n",
       "      <td>NaN</td>\n",
       "      <td>NaN</td>\n",
       "      <td>NaN</td>\n",
       "    </tr>\n",
       "    <tr>\n",
       "      <th>8</th>\n",
       "      <td>NaN</td>\n",
       "      <td>NaN</td>\n",
       "      <td>NaN</td>\n",
       "      <td>NaN</td>\n",
       "      <td>NaN</td>\n",
       "      <td>NaN</td>\n",
       "      <td>NaN</td>\n",
       "      <td>NaN</td>\n",
       "      <td>A8</td>\n",
       "      <td>B8</td>\n",
       "      <td>C8</td>\n",
       "      <td>D8</td>\n",
       "    </tr>\n",
       "    <tr>\n",
       "      <th>9</th>\n",
       "      <td>NaN</td>\n",
       "      <td>NaN</td>\n",
       "      <td>NaN</td>\n",
       "      <td>NaN</td>\n",
       "      <td>NaN</td>\n",
       "      <td>NaN</td>\n",
       "      <td>NaN</td>\n",
       "      <td>NaN</td>\n",
       "      <td>A9</td>\n",
       "      <td>B9</td>\n",
       "      <td>C9</td>\n",
       "      <td>D9</td>\n",
       "    </tr>\n",
       "    <tr>\n",
       "      <th>10</th>\n",
       "      <td>NaN</td>\n",
       "      <td>NaN</td>\n",
       "      <td>NaN</td>\n",
       "      <td>NaN</td>\n",
       "      <td>NaN</td>\n",
       "      <td>NaN</td>\n",
       "      <td>NaN</td>\n",
       "      <td>NaN</td>\n",
       "      <td>A10</td>\n",
       "      <td>B10</td>\n",
       "      <td>C10</td>\n",
       "      <td>D10</td>\n",
       "    </tr>\n",
       "    <tr>\n",
       "      <th>11</th>\n",
       "      <td>NaN</td>\n",
       "      <td>NaN</td>\n",
       "      <td>NaN</td>\n",
       "      <td>NaN</td>\n",
       "      <td>NaN</td>\n",
       "      <td>NaN</td>\n",
       "      <td>NaN</td>\n",
       "      <td>NaN</td>\n",
       "      <td>A11</td>\n",
       "      <td>B11</td>\n",
       "      <td>C11</td>\n",
       "      <td>D11</td>\n",
       "    </tr>\n",
       "  </tbody>\n",
       "</table>\n",
       "</div>"
      ],
      "text/plain": [
       "      A    B    C    D    A    B    C    D    A    B    C    D\n",
       "0    A0   B0   C0   D0  NaN  NaN  NaN  NaN  NaN  NaN  NaN  NaN\n",
       "1    A1   B1   C1   D1  NaN  NaN  NaN  NaN  NaN  NaN  NaN  NaN\n",
       "2    A2   B2   C2   D2  NaN  NaN  NaN  NaN  NaN  NaN  NaN  NaN\n",
       "3    A3   B3   C3   D3  NaN  NaN  NaN  NaN  NaN  NaN  NaN  NaN\n",
       "4   NaN  NaN  NaN  NaN   A4   B4   C4   D4  NaN  NaN  NaN  NaN\n",
       "5   NaN  NaN  NaN  NaN   A5   B5   C5   D5  NaN  NaN  NaN  NaN\n",
       "6   NaN  NaN  NaN  NaN   A6   B6   C6   D6  NaN  NaN  NaN  NaN\n",
       "7   NaN  NaN  NaN  NaN   A7   B7   C7   D7  NaN  NaN  NaN  NaN\n",
       "8   NaN  NaN  NaN  NaN  NaN  NaN  NaN  NaN   A8   B8   C8   D8\n",
       "9   NaN  NaN  NaN  NaN  NaN  NaN  NaN  NaN   A9   B9   C9   D9\n",
       "10  NaN  NaN  NaN  NaN  NaN  NaN  NaN  NaN  A10  B10  C10  D10\n",
       "11  NaN  NaN  NaN  NaN  NaN  NaN  NaN  NaN  A11  B11  C11  D11"
      ]
     },
     "execution_count": 44,
     "metadata": {},
     "output_type": "execute_result"
    }
   ],
   "source": [
    "pd.concat([df1,df2,df3],axis=1)"
   ]
  },
  {
   "cell_type": "code",
   "execution_count": 45,
   "id": "c9068d94",
   "metadata": {},
   "outputs": [
    {
     "data": {
      "text/html": [
       "<div>\n",
       "<style scoped>\n",
       "    .dataframe tbody tr th:only-of-type {\n",
       "        vertical-align: middle;\n",
       "    }\n",
       "\n",
       "    .dataframe tbody tr th {\n",
       "        vertical-align: top;\n",
       "    }\n",
       "\n",
       "    .dataframe thead th {\n",
       "        text-align: right;\n",
       "    }\n",
       "</style>\n",
       "<table border=\"1\" class=\"dataframe\">\n",
       "  <thead>\n",
       "    <tr style=\"text-align: right;\">\n",
       "      <th></th>\n",
       "      <th>A</th>\n",
       "      <th>B</th>\n",
       "      <th>C</th>\n",
       "      <th>D</th>\n",
       "    </tr>\n",
       "  </thead>\n",
       "  <tbody>\n",
       "    <tr>\n",
       "      <th>0</th>\n",
       "      <td>A0</td>\n",
       "      <td>B0</td>\n",
       "      <td>C0</td>\n",
       "      <td>D0</td>\n",
       "    </tr>\n",
       "    <tr>\n",
       "      <th>1</th>\n",
       "      <td>A1</td>\n",
       "      <td>B1</td>\n",
       "      <td>C1</td>\n",
       "      <td>D1</td>\n",
       "    </tr>\n",
       "    <tr>\n",
       "      <th>2</th>\n",
       "      <td>A2</td>\n",
       "      <td>B2</td>\n",
       "      <td>C2</td>\n",
       "      <td>D2</td>\n",
       "    </tr>\n",
       "    <tr>\n",
       "      <th>3</th>\n",
       "      <td>A3</td>\n",
       "      <td>B3</td>\n",
       "      <td>C3</td>\n",
       "      <td>D3</td>\n",
       "    </tr>\n",
       "    <tr>\n",
       "      <th>4</th>\n",
       "      <td>A4</td>\n",
       "      <td>B4</td>\n",
       "      <td>C4</td>\n",
       "      <td>D4</td>\n",
       "    </tr>\n",
       "    <tr>\n",
       "      <th>5</th>\n",
       "      <td>A5</td>\n",
       "      <td>B5</td>\n",
       "      <td>C5</td>\n",
       "      <td>D5</td>\n",
       "    </tr>\n",
       "    <tr>\n",
       "      <th>6</th>\n",
       "      <td>A6</td>\n",
       "      <td>B6</td>\n",
       "      <td>C6</td>\n",
       "      <td>D6</td>\n",
       "    </tr>\n",
       "    <tr>\n",
       "      <th>7</th>\n",
       "      <td>A7</td>\n",
       "      <td>B7</td>\n",
       "      <td>C7</td>\n",
       "      <td>D7</td>\n",
       "    </tr>\n",
       "    <tr>\n",
       "      <th>8</th>\n",
       "      <td>A8</td>\n",
       "      <td>B8</td>\n",
       "      <td>C8</td>\n",
       "      <td>D8</td>\n",
       "    </tr>\n",
       "    <tr>\n",
       "      <th>9</th>\n",
       "      <td>A9</td>\n",
       "      <td>B9</td>\n",
       "      <td>C9</td>\n",
       "      <td>D9</td>\n",
       "    </tr>\n",
       "    <tr>\n",
       "      <th>10</th>\n",
       "      <td>A10</td>\n",
       "      <td>B10</td>\n",
       "      <td>C10</td>\n",
       "      <td>D10</td>\n",
       "    </tr>\n",
       "    <tr>\n",
       "      <th>11</th>\n",
       "      <td>A11</td>\n",
       "      <td>B11</td>\n",
       "      <td>C11</td>\n",
       "      <td>D11</td>\n",
       "    </tr>\n",
       "  </tbody>\n",
       "</table>\n",
       "</div>"
      ],
      "text/plain": [
       "      A    B    C    D\n",
       "0    A0   B0   C0   D0\n",
       "1    A1   B1   C1   D1\n",
       "2    A2   B2   C2   D2\n",
       "3    A3   B3   C3   D3\n",
       "4    A4   B4   C4   D4\n",
       "5    A5   B5   C5   D5\n",
       "6    A6   B6   C6   D6\n",
       "7    A7   B7   C7   D7\n",
       "8    A8   B8   C8   D8\n",
       "9    A9   B9   C9   D9\n",
       "10  A10  B10  C10  D10\n",
       "11  A11  B11  C11  D11"
      ]
     },
     "execution_count": 45,
     "metadata": {},
     "output_type": "execute_result"
    }
   ],
   "source": [
    "pd.concat([df1,df2,df3],axis=0)"
   ]
  },
  {
   "cell_type": "code",
   "execution_count": 56,
   "id": "653ae773",
   "metadata": {},
   "outputs": [],
   "source": [
    "left=pd.DataFrame({'Key': ['K0','K2','K2','K3'],\n",
    "                  'A': ['A0','A1','A2','A3'],\n",
    "                 'B': ['B0','B1','B2','B3']})\n",
    "\n",
    "right=pd.DataFrame({'Key': ['K0','K1','K2','K0'],\n",
    "                    'C': ['C0','C1','C2','C3'],\n",
    "                  'D': ['D0','D1','D2','D3']})"
   ]
  },
  {
   "cell_type": "code",
   "execution_count": 57,
   "id": "cdf97050",
   "metadata": {},
   "outputs": [
    {
     "data": {
      "text/html": [
       "<div>\n",
       "<style scoped>\n",
       "    .dataframe tbody tr th:only-of-type {\n",
       "        vertical-align: middle;\n",
       "    }\n",
       "\n",
       "    .dataframe tbody tr th {\n",
       "        vertical-align: top;\n",
       "    }\n",
       "\n",
       "    .dataframe thead th {\n",
       "        text-align: right;\n",
       "    }\n",
       "</style>\n",
       "<table border=\"1\" class=\"dataframe\">\n",
       "  <thead>\n",
       "    <tr style=\"text-align: right;\">\n",
       "      <th></th>\n",
       "      <th>Key</th>\n",
       "      <th>A</th>\n",
       "      <th>B</th>\n",
       "    </tr>\n",
       "  </thead>\n",
       "  <tbody>\n",
       "    <tr>\n",
       "      <th>0</th>\n",
       "      <td>K0</td>\n",
       "      <td>A0</td>\n",
       "      <td>B0</td>\n",
       "    </tr>\n",
       "    <tr>\n",
       "      <th>1</th>\n",
       "      <td>K2</td>\n",
       "      <td>A1</td>\n",
       "      <td>B1</td>\n",
       "    </tr>\n",
       "    <tr>\n",
       "      <th>2</th>\n",
       "      <td>K2</td>\n",
       "      <td>A2</td>\n",
       "      <td>B2</td>\n",
       "    </tr>\n",
       "    <tr>\n",
       "      <th>3</th>\n",
       "      <td>K3</td>\n",
       "      <td>A3</td>\n",
       "      <td>B3</td>\n",
       "    </tr>\n",
       "  </tbody>\n",
       "</table>\n",
       "</div>"
      ],
      "text/plain": [
       "  Key   A   B\n",
       "0  K0  A0  B0\n",
       "1  K2  A1  B1\n",
       "2  K2  A2  B2\n",
       "3  K3  A3  B3"
      ]
     },
     "execution_count": 57,
     "metadata": {},
     "output_type": "execute_result"
    }
   ],
   "source": [
    "left"
   ]
  },
  {
   "cell_type": "code",
   "execution_count": 58,
   "id": "ab71496c",
   "metadata": {},
   "outputs": [
    {
     "data": {
      "text/html": [
       "<div>\n",
       "<style scoped>\n",
       "    .dataframe tbody tr th:only-of-type {\n",
       "        vertical-align: middle;\n",
       "    }\n",
       "\n",
       "    .dataframe tbody tr th {\n",
       "        vertical-align: top;\n",
       "    }\n",
       "\n",
       "    .dataframe thead th {\n",
       "        text-align: right;\n",
       "    }\n",
       "</style>\n",
       "<table border=\"1\" class=\"dataframe\">\n",
       "  <thead>\n",
       "    <tr style=\"text-align: right;\">\n",
       "      <th></th>\n",
       "      <th>Key</th>\n",
       "      <th>C</th>\n",
       "      <th>D</th>\n",
       "    </tr>\n",
       "  </thead>\n",
       "  <tbody>\n",
       "    <tr>\n",
       "      <th>0</th>\n",
       "      <td>K0</td>\n",
       "      <td>C0</td>\n",
       "      <td>D0</td>\n",
       "    </tr>\n",
       "    <tr>\n",
       "      <th>1</th>\n",
       "      <td>K1</td>\n",
       "      <td>C1</td>\n",
       "      <td>D1</td>\n",
       "    </tr>\n",
       "    <tr>\n",
       "      <th>2</th>\n",
       "      <td>K2</td>\n",
       "      <td>C2</td>\n",
       "      <td>D2</td>\n",
       "    </tr>\n",
       "    <tr>\n",
       "      <th>3</th>\n",
       "      <td>K0</td>\n",
       "      <td>C3</td>\n",
       "      <td>D3</td>\n",
       "    </tr>\n",
       "  </tbody>\n",
       "</table>\n",
       "</div>"
      ],
      "text/plain": [
       "  Key   C   D\n",
       "0  K0  C0  D0\n",
       "1  K1  C1  D1\n",
       "2  K2  C2  D2\n",
       "3  K0  C3  D3"
      ]
     },
     "execution_count": 58,
     "metadata": {},
     "output_type": "execute_result"
    }
   ],
   "source": [
    "right"
   ]
  },
  {
   "cell_type": "code",
   "execution_count": 59,
   "id": "77541553",
   "metadata": {},
   "outputs": [
    {
     "data": {
      "text/html": [
       "<div>\n",
       "<style scoped>\n",
       "    .dataframe tbody tr th:only-of-type {\n",
       "        vertical-align: middle;\n",
       "    }\n",
       "\n",
       "    .dataframe tbody tr th {\n",
       "        vertical-align: top;\n",
       "    }\n",
       "\n",
       "    .dataframe thead th {\n",
       "        text-align: right;\n",
       "    }\n",
       "</style>\n",
       "<table border=\"1\" class=\"dataframe\">\n",
       "  <thead>\n",
       "    <tr style=\"text-align: right;\">\n",
       "      <th></th>\n",
       "      <th>Key</th>\n",
       "      <th>A</th>\n",
       "      <th>B</th>\n",
       "    </tr>\n",
       "  </thead>\n",
       "  <tbody>\n",
       "    <tr>\n",
       "      <th>0</th>\n",
       "      <td>K0</td>\n",
       "      <td>A0</td>\n",
       "      <td>B0</td>\n",
       "    </tr>\n",
       "    <tr>\n",
       "      <th>1</th>\n",
       "      <td>K2</td>\n",
       "      <td>A1</td>\n",
       "      <td>B1</td>\n",
       "    </tr>\n",
       "    <tr>\n",
       "      <th>2</th>\n",
       "      <td>K2</td>\n",
       "      <td>A2</td>\n",
       "      <td>B2</td>\n",
       "    </tr>\n",
       "    <tr>\n",
       "      <th>3</th>\n",
       "      <td>K3</td>\n",
       "      <td>A3</td>\n",
       "      <td>B3</td>\n",
       "    </tr>\n",
       "  </tbody>\n",
       "</table>\n",
       "</div>"
      ],
      "text/plain": [
       "  Key   A   B\n",
       "0  K0  A0  B0\n",
       "1  K2  A1  B1\n",
       "2  K2  A2  B2\n",
       "3  K3  A3  B3"
      ]
     },
     "metadata": {},
     "output_type": "display_data"
    },
    {
     "data": {
      "text/html": [
       "<div>\n",
       "<style scoped>\n",
       "    .dataframe tbody tr th:only-of-type {\n",
       "        vertical-align: middle;\n",
       "    }\n",
       "\n",
       "    .dataframe tbody tr th {\n",
       "        vertical-align: top;\n",
       "    }\n",
       "\n",
       "    .dataframe thead th {\n",
       "        text-align: right;\n",
       "    }\n",
       "</style>\n",
       "<table border=\"1\" class=\"dataframe\">\n",
       "  <thead>\n",
       "    <tr style=\"text-align: right;\">\n",
       "      <th></th>\n",
       "      <th>Key</th>\n",
       "      <th>C</th>\n",
       "      <th>D</th>\n",
       "    </tr>\n",
       "  </thead>\n",
       "  <tbody>\n",
       "    <tr>\n",
       "      <th>0</th>\n",
       "      <td>K0</td>\n",
       "      <td>C0</td>\n",
       "      <td>D0</td>\n",
       "    </tr>\n",
       "    <tr>\n",
       "      <th>1</th>\n",
       "      <td>K1</td>\n",
       "      <td>C1</td>\n",
       "      <td>D1</td>\n",
       "    </tr>\n",
       "    <tr>\n",
       "      <th>2</th>\n",
       "      <td>K2</td>\n",
       "      <td>C2</td>\n",
       "      <td>D2</td>\n",
       "    </tr>\n",
       "    <tr>\n",
       "      <th>3</th>\n",
       "      <td>K0</td>\n",
       "      <td>C3</td>\n",
       "      <td>D3</td>\n",
       "    </tr>\n",
       "  </tbody>\n",
       "</table>\n",
       "</div>"
      ],
      "text/plain": [
       "  Key   C   D\n",
       "0  K0  C0  D0\n",
       "1  K1  C1  D1\n",
       "2  K2  C2  D2\n",
       "3  K0  C3  D3"
      ]
     },
     "metadata": {},
     "output_type": "display_data"
    },
    {
     "data": {
      "text/html": [
       "<div>\n",
       "<style scoped>\n",
       "    .dataframe tbody tr th:only-of-type {\n",
       "        vertical-align: middle;\n",
       "    }\n",
       "\n",
       "    .dataframe tbody tr th {\n",
       "        vertical-align: top;\n",
       "    }\n",
       "\n",
       "    .dataframe thead th {\n",
       "        text-align: right;\n",
       "    }\n",
       "</style>\n",
       "<table border=\"1\" class=\"dataframe\">\n",
       "  <thead>\n",
       "    <tr style=\"text-align: right;\">\n",
       "      <th></th>\n",
       "      <th>Key</th>\n",
       "      <th>A</th>\n",
       "      <th>B</th>\n",
       "      <th>C</th>\n",
       "      <th>D</th>\n",
       "    </tr>\n",
       "  </thead>\n",
       "  <tbody>\n",
       "    <tr>\n",
       "      <th>0</th>\n",
       "      <td>K0</td>\n",
       "      <td>A0</td>\n",
       "      <td>B0</td>\n",
       "      <td>C0</td>\n",
       "      <td>D0</td>\n",
       "    </tr>\n",
       "    <tr>\n",
       "      <th>1</th>\n",
       "      <td>K0</td>\n",
       "      <td>A0</td>\n",
       "      <td>B0</td>\n",
       "      <td>C3</td>\n",
       "      <td>D3</td>\n",
       "    </tr>\n",
       "    <tr>\n",
       "      <th>2</th>\n",
       "      <td>K2</td>\n",
       "      <td>A1</td>\n",
       "      <td>B1</td>\n",
       "      <td>C2</td>\n",
       "      <td>D2</td>\n",
       "    </tr>\n",
       "    <tr>\n",
       "      <th>3</th>\n",
       "      <td>K2</td>\n",
       "      <td>A2</td>\n",
       "      <td>B2</td>\n",
       "      <td>C2</td>\n",
       "      <td>D2</td>\n",
       "    </tr>\n",
       "  </tbody>\n",
       "</table>\n",
       "</div>"
      ],
      "text/plain": [
       "  Key   A   B   C   D\n",
       "0  K0  A0  B0  C0  D0\n",
       "1  K0  A0  B0  C3  D3\n",
       "2  K2  A1  B1  C2  D2\n",
       "3  K2  A2  B2  C2  D2"
      ]
     },
     "metadata": {},
     "output_type": "display_data"
    }
   ],
   "source": [
    "display(left,right,pd.merge(left,right,how='inner',on='Key'))"
   ]
  },
  {
   "cell_type": "code",
   "execution_count": 70,
   "id": "49adbd14",
   "metadata": {
    "scrolled": true
   },
   "outputs": [
    {
     "data": {
      "text/html": [
       "<div>\n",
       "<style scoped>\n",
       "    .dataframe tbody tr th:only-of-type {\n",
       "        vertical-align: middle;\n",
       "    }\n",
       "\n",
       "    .dataframe tbody tr th {\n",
       "        vertical-align: top;\n",
       "    }\n",
       "\n",
       "    .dataframe thead th {\n",
       "        text-align: right;\n",
       "    }\n",
       "</style>\n",
       "<table border=\"1\" class=\"dataframe\">\n",
       "  <thead>\n",
       "    <tr style=\"text-align: right;\">\n",
       "      <th></th>\n",
       "      <th>Key</th>\n",
       "      <th>A</th>\n",
       "      <th>B</th>\n",
       "    </tr>\n",
       "  </thead>\n",
       "  <tbody>\n",
       "    <tr>\n",
       "      <th>0</th>\n",
       "      <td>K0</td>\n",
       "      <td>A0</td>\n",
       "      <td>B0</td>\n",
       "    </tr>\n",
       "    <tr>\n",
       "      <th>1</th>\n",
       "      <td>K2</td>\n",
       "      <td>A1</td>\n",
       "      <td>B1</td>\n",
       "    </tr>\n",
       "    <tr>\n",
       "      <th>2</th>\n",
       "      <td>K2</td>\n",
       "      <td>A2</td>\n",
       "      <td>B2</td>\n",
       "    </tr>\n",
       "    <tr>\n",
       "      <th>3</th>\n",
       "      <td>K3</td>\n",
       "      <td>A3</td>\n",
       "      <td>B3</td>\n",
       "    </tr>\n",
       "  </tbody>\n",
       "</table>\n",
       "</div>"
      ],
      "text/plain": [
       "  Key   A   B\n",
       "0  K0  A0  B0\n",
       "1  K2  A1  B1\n",
       "2  K2  A2  B2\n",
       "3  K3  A3  B3"
      ]
     },
     "metadata": {},
     "output_type": "display_data"
    },
    {
     "data": {
      "text/html": [
       "<div>\n",
       "<style scoped>\n",
       "    .dataframe tbody tr th:only-of-type {\n",
       "        vertical-align: middle;\n",
       "    }\n",
       "\n",
       "    .dataframe tbody tr th {\n",
       "        vertical-align: top;\n",
       "    }\n",
       "\n",
       "    .dataframe thead th {\n",
       "        text-align: right;\n",
       "    }\n",
       "</style>\n",
       "<table border=\"1\" class=\"dataframe\">\n",
       "  <thead>\n",
       "    <tr style=\"text-align: right;\">\n",
       "      <th></th>\n",
       "      <th>Key</th>\n",
       "      <th>C</th>\n",
       "      <th>D</th>\n",
       "    </tr>\n",
       "  </thead>\n",
       "  <tbody>\n",
       "    <tr>\n",
       "      <th>0</th>\n",
       "      <td>K0</td>\n",
       "      <td>C0</td>\n",
       "      <td>D0</td>\n",
       "    </tr>\n",
       "    <tr>\n",
       "      <th>1</th>\n",
       "      <td>K1</td>\n",
       "      <td>C1</td>\n",
       "      <td>D1</td>\n",
       "    </tr>\n",
       "    <tr>\n",
       "      <th>2</th>\n",
       "      <td>K2</td>\n",
       "      <td>C2</td>\n",
       "      <td>D2</td>\n",
       "    </tr>\n",
       "    <tr>\n",
       "      <th>3</th>\n",
       "      <td>K0</td>\n",
       "      <td>C3</td>\n",
       "      <td>D3</td>\n",
       "    </tr>\n",
       "  </tbody>\n",
       "</table>\n",
       "</div>"
      ],
      "text/plain": [
       "  Key   C   D\n",
       "0  K0  C0  D0\n",
       "1  K1  C1  D1\n",
       "2  K2  C2  D2\n",
       "3  K0  C3  D3"
      ]
     },
     "metadata": {},
     "output_type": "display_data"
    },
    {
     "data": {
      "text/html": [
       "<div>\n",
       "<style scoped>\n",
       "    .dataframe tbody tr th:only-of-type {\n",
       "        vertical-align: middle;\n",
       "    }\n",
       "\n",
       "    .dataframe tbody tr th {\n",
       "        vertical-align: top;\n",
       "    }\n",
       "\n",
       "    .dataframe thead th {\n",
       "        text-align: right;\n",
       "    }\n",
       "</style>\n",
       "<table border=\"1\" class=\"dataframe\">\n",
       "  <thead>\n",
       "    <tr style=\"text-align: right;\">\n",
       "      <th></th>\n",
       "      <th>Key</th>\n",
       "      <th>A</th>\n",
       "      <th>B</th>\n",
       "      <th>C</th>\n",
       "      <th>D</th>\n",
       "    </tr>\n",
       "  </thead>\n",
       "  <tbody>\n",
       "    <tr>\n",
       "      <th>0</th>\n",
       "      <td>K0</td>\n",
       "      <td>A0</td>\n",
       "      <td>B0</td>\n",
       "      <td>C0</td>\n",
       "      <td>D0</td>\n",
       "    </tr>\n",
       "    <tr>\n",
       "      <th>1</th>\n",
       "      <td>K0</td>\n",
       "      <td>A0</td>\n",
       "      <td>B0</td>\n",
       "      <td>C3</td>\n",
       "      <td>D3</td>\n",
       "    </tr>\n",
       "    <tr>\n",
       "      <th>2</th>\n",
       "      <td>K2</td>\n",
       "      <td>A1</td>\n",
       "      <td>B1</td>\n",
       "      <td>C2</td>\n",
       "      <td>D2</td>\n",
       "    </tr>\n",
       "    <tr>\n",
       "      <th>3</th>\n",
       "      <td>K2</td>\n",
       "      <td>A2</td>\n",
       "      <td>B2</td>\n",
       "      <td>C2</td>\n",
       "      <td>D2</td>\n",
       "    </tr>\n",
       "  </tbody>\n",
       "</table>\n",
       "</div>"
      ],
      "text/plain": [
       "  Key   A   B   C   D\n",
       "0  K0  A0  B0  C0  D0\n",
       "1  K0  A0  B0  C3  D3\n",
       "2  K2  A1  B1  C2  D2\n",
       "3  K2  A2  B2  C2  D2"
      ]
     },
     "metadata": {},
     "output_type": "display_data"
    },
    {
     "data": {
      "text/plain": [
       "(  Key   A   B\n",
       " 0  K0  A0  B0\n",
       " 1  K2  A1  B1\n",
       " 2  K2  A2  B2\n",
       " 3  K3  A3  B3,\n",
       "   Key   C   D\n",
       " 0  K0  C0  D0\n",
       " 1  K1  C1  D1\n",
       " 2  K2  C2  D2\n",
       " 3  K0  C3  D3,\n",
       "   Key    A    B   C   D\n",
       " 0  K0   A0   B0  C0  D0\n",
       " 1  K1  NaN  NaN  C1  D1\n",
       " 2  K2   A1   B1  C2  D2\n",
       " 3  K2   A2   B2  C2  D2\n",
       " 4  K0   A0   B0  C3  D3)"
      ]
     },
     "execution_count": 70,
     "metadata": {},
     "output_type": "execute_result"
    }
   ],
   "source": [
    "display(left,right,pd.merge(left,right,how='inner',on='Key')),\n",
    "(left,right,pd.merge(left,right,how='outer',on='Key')),\n",
    "(left,right,pd.merge(left,right,how='left',on='Key'))\n",
    "(left,right,pd.merge(left,right,how='right',on='Key'))"
   ]
  },
  {
   "cell_type": "code",
   "execution_count": 90,
   "id": "e42e2931",
   "metadata": {},
   "outputs": [],
   "source": [
    "left=pd.DataFrame({'A': ['A0','A1','A2'],\n",
    "                 'B': ['B0','B1','B2']},\n",
    "                 index=[0,1,2])\n",
    "\n",
    "right=pd.DataFrame({'C': ['C0','C1','C2'],\n",
    "                  'D': ['D0','D1','D2']},\n",
    "                  index=[1,2,3])"
   ]
  },
  {
   "cell_type": "code",
   "execution_count": 91,
   "id": "b6299a73",
   "metadata": {},
   "outputs": [
    {
     "data": {
      "text/html": [
       "<div>\n",
       "<style scoped>\n",
       "    .dataframe tbody tr th:only-of-type {\n",
       "        vertical-align: middle;\n",
       "    }\n",
       "\n",
       "    .dataframe tbody tr th {\n",
       "        vertical-align: top;\n",
       "    }\n",
       "\n",
       "    .dataframe thead th {\n",
       "        text-align: right;\n",
       "    }\n",
       "</style>\n",
       "<table border=\"1\" class=\"dataframe\">\n",
       "  <thead>\n",
       "    <tr style=\"text-align: right;\">\n",
       "      <th></th>\n",
       "      <th>A</th>\n",
       "      <th>B</th>\n",
       "      <th>C</th>\n",
       "      <th>D</th>\n",
       "    </tr>\n",
       "  </thead>\n",
       "  <tbody>\n",
       "    <tr>\n",
       "      <th>0</th>\n",
       "      <td>A0</td>\n",
       "      <td>B0</td>\n",
       "      <td>NaN</td>\n",
       "      <td>NaN</td>\n",
       "    </tr>\n",
       "    <tr>\n",
       "      <th>1</th>\n",
       "      <td>A1</td>\n",
       "      <td>B1</td>\n",
       "      <td>C0</td>\n",
       "      <td>D0</td>\n",
       "    </tr>\n",
       "    <tr>\n",
       "      <th>2</th>\n",
       "      <td>A2</td>\n",
       "      <td>B2</td>\n",
       "      <td>C1</td>\n",
       "      <td>D1</td>\n",
       "    </tr>\n",
       "    <tr>\n",
       "      <th>3</th>\n",
       "      <td>NaN</td>\n",
       "      <td>NaN</td>\n",
       "      <td>C2</td>\n",
       "      <td>D2</td>\n",
       "    </tr>\n",
       "  </tbody>\n",
       "</table>\n",
       "</div>"
      ],
      "text/plain": [
       "     A    B    C    D\n",
       "0   A0   B0  NaN  NaN\n",
       "1   A1   B1   C0   D0\n",
       "2   A2   B2   C1   D1\n",
       "3  NaN  NaN   C2   D2"
      ]
     },
     "execution_count": 91,
     "metadata": {},
     "output_type": "execute_result"
    }
   ],
   "source": [
    "left.join(right,how='outer')"
   ]
  },
  {
   "cell_type": "code",
   "execution_count": 92,
   "id": "0fbc2cc4",
   "metadata": {},
   "outputs": [
    {
     "data": {
      "text/html": [
       "<div>\n",
       "<style scoped>\n",
       "    .dataframe tbody tr th:only-of-type {\n",
       "        vertical-align: middle;\n",
       "    }\n",
       "\n",
       "    .dataframe tbody tr th {\n",
       "        vertical-align: top;\n",
       "    }\n",
       "\n",
       "    .dataframe thead th {\n",
       "        text-align: right;\n",
       "    }\n",
       "</style>\n",
       "<table border=\"1\" class=\"dataframe\">\n",
       "  <thead>\n",
       "    <tr style=\"text-align: right;\">\n",
       "      <th></th>\n",
       "      <th>A</th>\n",
       "      <th>B</th>\n",
       "      <th>C</th>\n",
       "      <th>D</th>\n",
       "    </tr>\n",
       "  </thead>\n",
       "  <tbody>\n",
       "    <tr>\n",
       "      <th>1</th>\n",
       "      <td>A1</td>\n",
       "      <td>B1</td>\n",
       "      <td>C0</td>\n",
       "      <td>D0</td>\n",
       "    </tr>\n",
       "    <tr>\n",
       "      <th>2</th>\n",
       "      <td>A2</td>\n",
       "      <td>B2</td>\n",
       "      <td>C1</td>\n",
       "      <td>D1</td>\n",
       "    </tr>\n",
       "  </tbody>\n",
       "</table>\n",
       "</div>"
      ],
      "text/plain": [
       "    A   B   C   D\n",
       "1  A1  B1  C0  D0\n",
       "2  A2  B2  C1  D1"
      ]
     },
     "execution_count": 92,
     "metadata": {},
     "output_type": "execute_result"
    }
   ],
   "source": [
    "left.join(right,how='inner')"
   ]
  },
  {
   "cell_type": "code",
   "execution_count": 93,
   "id": "7f24e30c",
   "metadata": {},
   "outputs": [
    {
     "data": {
      "text/html": [
       "<div>\n",
       "<style scoped>\n",
       "    .dataframe tbody tr th:only-of-type {\n",
       "        vertical-align: middle;\n",
       "    }\n",
       "\n",
       "    .dataframe tbody tr th {\n",
       "        vertical-align: top;\n",
       "    }\n",
       "\n",
       "    .dataframe thead th {\n",
       "        text-align: right;\n",
       "    }\n",
       "</style>\n",
       "<table border=\"1\" class=\"dataframe\">\n",
       "  <thead>\n",
       "    <tr style=\"text-align: right;\">\n",
       "      <th></th>\n",
       "      <th>A</th>\n",
       "      <th>B</th>\n",
       "      <th>C</th>\n",
       "      <th>D</th>\n",
       "    </tr>\n",
       "  </thead>\n",
       "  <tbody>\n",
       "    <tr>\n",
       "      <th>0</th>\n",
       "      <td>A0</td>\n",
       "      <td>B0</td>\n",
       "      <td>NaN</td>\n",
       "      <td>NaN</td>\n",
       "    </tr>\n",
       "    <tr>\n",
       "      <th>1</th>\n",
       "      <td>A1</td>\n",
       "      <td>B1</td>\n",
       "      <td>C0</td>\n",
       "      <td>D0</td>\n",
       "    </tr>\n",
       "    <tr>\n",
       "      <th>2</th>\n",
       "      <td>A2</td>\n",
       "      <td>B2</td>\n",
       "      <td>C1</td>\n",
       "      <td>D1</td>\n",
       "    </tr>\n",
       "  </tbody>\n",
       "</table>\n",
       "</div>"
      ],
      "text/plain": [
       "    A   B    C    D\n",
       "0  A0  B0  NaN  NaN\n",
       "1  A1  B1   C0   D0\n",
       "2  A2  B2   C1   D1"
      ]
     },
     "execution_count": 93,
     "metadata": {},
     "output_type": "execute_result"
    }
   ],
   "source": [
    "left.join(right,how='left')"
   ]
  },
  {
   "cell_type": "code",
   "execution_count": 94,
   "id": "1e9fa67e",
   "metadata": {},
   "outputs": [
    {
     "data": {
      "text/html": [
       "<div>\n",
       "<style scoped>\n",
       "    .dataframe tbody tr th:only-of-type {\n",
       "        vertical-align: middle;\n",
       "    }\n",
       "\n",
       "    .dataframe tbody tr th {\n",
       "        vertical-align: top;\n",
       "    }\n",
       "\n",
       "    .dataframe thead th {\n",
       "        text-align: right;\n",
       "    }\n",
       "</style>\n",
       "<table border=\"1\" class=\"dataframe\">\n",
       "  <thead>\n",
       "    <tr style=\"text-align: right;\">\n",
       "      <th></th>\n",
       "      <th>A</th>\n",
       "      <th>B</th>\n",
       "      <th>C</th>\n",
       "      <th>D</th>\n",
       "    </tr>\n",
       "  </thead>\n",
       "  <tbody>\n",
       "    <tr>\n",
       "      <th>1</th>\n",
       "      <td>A1</td>\n",
       "      <td>B1</td>\n",
       "      <td>C0</td>\n",
       "      <td>D0</td>\n",
       "    </tr>\n",
       "    <tr>\n",
       "      <th>2</th>\n",
       "      <td>A2</td>\n",
       "      <td>B2</td>\n",
       "      <td>C1</td>\n",
       "      <td>D1</td>\n",
       "    </tr>\n",
       "    <tr>\n",
       "      <th>3</th>\n",
       "      <td>NaN</td>\n",
       "      <td>NaN</td>\n",
       "      <td>C2</td>\n",
       "      <td>D2</td>\n",
       "    </tr>\n",
       "  </tbody>\n",
       "</table>\n",
       "</div>"
      ],
      "text/plain": [
       "     A    B   C   D\n",
       "1   A1   B1  C0  D0\n",
       "2   A2   B2  C1  D1\n",
       "3  NaN  NaN  C2  D2"
      ]
     },
     "execution_count": 94,
     "metadata": {},
     "output_type": "execute_result"
    }
   ],
   "source": [
    "left.join(right,how='right')"
   ]
  },
  {
   "cell_type": "markdown",
   "id": "5681d9e4",
   "metadata": {},
   "source": [
    "# Lab-7"
   ]
  },
  {
   "cell_type": "code",
   "execution_count": 2,
   "id": "c32046c4",
   "metadata": {},
   "outputs": [],
   "source": [
    "import matplotlib.pyplot as plt\n",
    "%matplotlib inline\n",
    "import numpy as np\n",
    "import pandas as pd"
   ]
  },
  {
   "cell_type": "code",
   "execution_count": 30,
   "id": "b9dca413",
   "metadata": {},
   "outputs": [
    {
     "data": {
      "text/html": [
       "<div>\n",
       "<style scoped>\n",
       "    .dataframe tbody tr th:only-of-type {\n",
       "        vertical-align: middle;\n",
       "    }\n",
       "\n",
       "    .dataframe tbody tr th {\n",
       "        vertical-align: top;\n",
       "    }\n",
       "\n",
       "    .dataframe thead th {\n",
       "        text-align: right;\n",
       "    }\n",
       "</style>\n",
       "<table border=\"1\" class=\"dataframe\">\n",
       "  <thead>\n",
       "    <tr style=\"text-align: right;\">\n",
       "      <th></th>\n",
       "      <th>python</th>\n",
       "      <th>DataScience</th>\n",
       "      <th>DBMS</th>\n",
       "    </tr>\n",
       "  </thead>\n",
       "  <tbody>\n",
       "    <tr>\n",
       "      <th>Teerth</th>\n",
       "      <td>41</td>\n",
       "      <td>1</td>\n",
       "      <td>24</td>\n",
       "    </tr>\n",
       "    <tr>\n",
       "      <th>Naitik</th>\n",
       "      <td>31</td>\n",
       "      <td>51</td>\n",
       "      <td>11</td>\n",
       "    </tr>\n",
       "    <tr>\n",
       "      <th>Riya</th>\n",
       "      <td>37</td>\n",
       "      <td>99</td>\n",
       "      <td>27</td>\n",
       "    </tr>\n",
       "    <tr>\n",
       "      <th>Fenil</th>\n",
       "      <td>63</td>\n",
       "      <td>18</td>\n",
       "      <td>3</td>\n",
       "    </tr>\n",
       "  </tbody>\n",
       "</table>\n",
       "</div>"
      ],
      "text/plain": [
       "        python  DataScience  DBMS\n",
       "Teerth      41            1    24\n",
       "Naitik      31           51    11\n",
       "Riya        37           99    27\n",
       "Fenil       63           18     3"
      ]
     },
     "execution_count": 30,
     "metadata": {},
     "output_type": "execute_result"
    }
   ],
   "source": [
    "df=pd.DataFrame(np.random.randint(1,100,(4,3)),index=['Teerth','Naitik','Riya','Fenil'],columns=['python','DataScience','DBMS'])\n",
    "df"
   ]
  },
  {
   "cell_type": "code",
   "execution_count": 31,
   "id": "5be57cf7",
   "metadata": {},
   "outputs": [
    {
     "data": {
      "text/plain": [
       "[<matplotlib.lines.Line2D at 0x16f513bf5b0>]"
      ]
     },
     "execution_count": 31,
     "metadata": {},
     "output_type": "execute_result"
    },
    {
     "data": {
      "image/png": "[encoded data removed]",
      "text/plain": [
       "<Figure size 640x480 with 1 Axes>"
      ]
     },
     "metadata": {},
     "output_type": "display_data"
    }
   ],
   "source": [
    "plt.plot(df.index,df.python,'c-')"
   ]
  },
  {
   "cell_type": "code",
   "execution_count": 32,
   "id": "baa453ca",
   "metadata": {},
   "outputs": [
    {
     "data": {
      "text/plain": [
       "(-20.0, 100.0)"
      ]
     },
     "execution_count": 32,
     "metadata": {},
     "output_type": "execute_result"
    },
    {
     "data": {
      "image/png": "[encoded data removed]",
      "text/plain": [
       "<Figure size 640x480 with 1 Axes>"
      ]
     },
     "metadata": {},
     "output_type": "display_data"
    }
   ],
   "source": [
    "plt.plot(df.index,df.python,'g-.',label='python',lw='0.25',marker='s')\n",
    "plt.plot(df.index,df.DBMS,'c-.',label='DBMS')\n",
    "plt.plot(df.index,df.DataScience,'r-.',label='DataScience')\n",
    "plt.title('python marks')\n",
    "plt.xlabel('names')\n",
    "plt.ylabel('marks')\n",
    "plt.legend()\n",
    "plt.legend(loc=4)#for changing side of legend\n",
    "plt.ylim(-20,100)"
   ]
  },
  {
   "cell_type": "code",
   "execution_count": 33,
   "id": "b530bd2e",
   "metadata": {},
   "outputs": [
    {
     "data": {
      "image/png": "[encoded data removed]",
      "text/plain": [
       "<Figure size 640x480 with 4 Axes>"
      ]
     },
     "metadata": {},
     "output_type": "display_data"
    }
   ],
   "source": [
    "plt.subplot(2,2,1)\n",
    "plt.plot(df.index,df.python,'g-.',label='python',lw='0.25',marker='s')\n",
    "plt.subplot(2,2,2)\n",
    "plt.plot(df.index,df.DBMS,'c-.',label='DBMS')\n",
    "plt.subplot(2,2,3)\n",
    "plt.plot(df.index,df.DataScience,'r-.',label='DataScience')\n",
    "plt.title('python marks')\n",
    "plt.xlabel('names')\n",
    "plt.ylabel('marks')\n",
    "plt.legend()\n",
    "plt.legend(loc=4)#for changing side of legend\n",
    "plt.ylim(-20,100)\n",
    "plt.subplot(2,2,4)\n",
    "plt.plot(df.index,df.python,'g-.',label='python',lw='0.25',marker='s')\n",
    "plt.plot(df.index,df.DBMS,'c-.',label='DBMS')\n",
    "plt.plot(df.index,df.DataScience,'r-.',label='DataScience')\n",
    "plt.title('python marks')\n",
    "plt.xlabel('names')\n",
    "plt.ylabel('marks')\n",
    "plt.legend()\n",
    "plt.legend(loc=4)#for changing side of legend\n",
    "plt.ylim(-20,100)\n",
    "plt.tight_layout()"
   ]
  },
  {
   "cell_type": "code",
   "execution_count": 34,
   "id": "b433b49c",
   "metadata": {},
   "outputs": [
    {
     "data": {
      "text/plain": [
       "Text(0.5, 1.0, 'set Title')"
      ]
     },
     "execution_count": 34,
     "metadata": {},
     "output_type": "execute_result"
    },
    {
     "data": {
      "image/png": "[encoded data removed]",
      "text/plain": [
       "<Figure size 640x480 with 1 Axes>"
      ]
     },
     "metadata": {},
     "output_type": "display_data"
    }
   ],
   "source": [
    "x=np.linspace(0,6,11)\n",
    "y=x**2\n",
    "#Create Figure (empty canvas)\n",
    "fig=plt.figure()\n",
    "#Add set of axes to figure\n",
    "axes=fig.add_axes([0.01,0.01,0.3,0.3])#left,bottom,width,height(range 0to1)\n",
    "\n",
    "#plot on that set of axes\n",
    "axes.plot(x,y,'b')\n",
    "axes.set_xlabel('set X Label')#Notice the use of set_ to begin methods\n",
    "axes.set_ylabel('set Y Label')\n",
    "axes.set_title('set Title')"
   ]
  },
  {
   "cell_type": "code",
   "execution_count": 35,
   "id": "5e848aa3",
   "metadata": {},
   "outputs": [
    {
     "data": {
      "text/plain": [
       "Text(0.5, 1.0, 'set Title')"
      ]
     },
     "execution_count": 35,
     "metadata": {},
     "output_type": "execute_result"
    },
    {
     "data": {
      "image/png": "[encoded data removed]",
      "text/plain": [
       "<Figure size 640x480 with 2 Axes>"
      ]
     },
     "metadata": {},
     "output_type": "display_data"
    }
   ],
   "source": [
    "x=np.linspace(0,6,11)\n",
    "y=x**2\n",
    "#Create Figure (empty canvas)\n",
    "fig=plt.figure()\n",
    "#Add set of axes to figure\n",
    "axes=fig.add_axes([0.01,0.01,0.5,0.5])#left,bottom,width,height(range 0to1)\n",
    "axes1=fig.add_axes([0.1,0.25,0.2,0.2])\n",
    "\n",
    "#plot on that set of axes\n",
    "axes.plot(x,y,'b--')\n",
    "axes.set_xlabel('set X Label')#Notice the use of set_ to begin methods\n",
    "axes.set_ylabel('set Y Label')\n",
    "axes.set_title('set Title')\n",
    "\n",
    "axes1.plot(y,x,'r*-')\n",
    "axes1.set_xlabel('set X Label')#Notice the use of set_ to begin methods\n",
    "axes1.set_ylabel('set Y Label')\n",
    "axes1.set_title('set Title')"
   ]
  },
  {
   "cell_type": "code",
   "execution_count": 56,
   "id": "94e32502",
   "metadata": {},
   "outputs": [
    {
     "data": {
      "text/html": [
       "<div>\n",
       "<style scoped>\n",
       "    .dataframe tbody tr th:only-of-type {\n",
       "        vertical-align: middle;\n",
       "    }\n",
       "\n",
       "    .dataframe tbody tr th {\n",
       "        vertical-align: top;\n",
       "    }\n",
       "\n",
       "    .dataframe thead th {\n",
       "        text-align: right;\n",
       "    }\n",
       "</style>\n",
       "<table border=\"1\" class=\"dataframe\">\n",
       "  <thead>\n",
       "    <tr style=\"text-align: right;\">\n",
       "      <th></th>\n",
       "      <th>Python</th>\n",
       "      <th>DataScience</th>\n",
       "      <th>DBMS</th>\n",
       "    </tr>\n",
       "  </thead>\n",
       "  <tbody>\n",
       "    <tr>\n",
       "      <th>Teerth</th>\n",
       "      <td>78</td>\n",
       "      <td>26</td>\n",
       "      <td>50</td>\n",
       "    </tr>\n",
       "    <tr>\n",
       "      <th>Naitik</th>\n",
       "      <td>6</td>\n",
       "      <td>68</td>\n",
       "      <td>52</td>\n",
       "    </tr>\n",
       "    <tr>\n",
       "      <th>Riya</th>\n",
       "      <td>92</td>\n",
       "      <td>19</td>\n",
       "      <td>62</td>\n",
       "    </tr>\n",
       "    <tr>\n",
       "      <th>Fenil</th>\n",
       "      <td>6</td>\n",
       "      <td>88</td>\n",
       "      <td>81</td>\n",
       "    </tr>\n",
       "  </tbody>\n",
       "</table>\n",
       "</div>"
      ],
      "text/plain": [
       "        Python  DataScience  DBMS\n",
       "Teerth      78           26    50\n",
       "Naitik       6           68    52\n",
       "Riya        92           19    62\n",
       "Fenil        6           88    81"
      ]
     },
     "execution_count": 56,
     "metadata": {},
     "output_type": "execute_result"
    }
   ],
   "source": [
    "df=pd.DataFrame(np.random.randint(1,100,(4,3)),index=['Teerth','Naitik','Riya','Fenil'],columns=['Python','DataScience','DBMS'])\n",
    "df"
   ]
  },
  {
   "cell_type": "code",
   "execution_count": 57,
   "id": "851cfe3e",
   "metadata": {},
   "outputs": [
    {
     "data": {
      "text/plain": [
       "[<matplotlib.lines.Line2D at 0x16f55aa1250>]"
      ]
     },
     "execution_count": 57,
     "metadata": {},
     "output_type": "execute_result"
    },
    {
     "data": {
      "image/png": "[encoded data removed]",
      "text/plain": [
       "<Figure size 640x480 with 6 Axes>"
      ]
     },
     "metadata": {},
     "output_type": "display_data"
    }
   ],
   "source": [
    "fig1,ax=plt.subplots(2,3,sharex=True,sharey=True,layout='constrained')\n",
    "\n",
    "ax[1,2].plot(x,y)\n",
    "ax[1,2].set_title('Hello')\n",
    "ax[1,2].set_ylabel('Marks')\n",
    "ax[0,1].plot(x,x)"
   ]
  },
  {
   "cell_type": "code",
   "execution_count": 73,
   "id": "5a1bb64a",
   "metadata": {},
   "outputs": [
    {
     "name": "stderr",
     "output_type": "stream",
     "text": [
      "C:\\Users\\Moksha\\AppData\\Local\\Temp\\ipykernel_6556\\419536841.py:14: UserWarning: marker is redundantly defined by the 'marker' keyword argument and the fmt string \"g-*\" (-> marker='*'). The keyword argument will take precedence.\n",
      "  ax2[1,0].plot(df.index,df['Data Science'],'g-*',label='DSA',marker='d')\n",
      "C:\\Users\\Moksha\\AppData\\Local\\Temp\\ipykernel_6556\\419536841.py:20: UserWarning: marker is redundantly defined by the 'marker' keyword argument and the fmt string \"g-*\" (-> marker='*'). The keyword argument will take precedence.\n",
      "  ax2[1,1].plot(df.index,df['Data Science'],'g-*',label='Data Science',lw='1.25',marker='^')\n",
      "C:\\Users\\Moksha\\AppData\\Local\\Temp\\ipykernel_6556\\419536841.py:25: UserWarning: marker is redundantly defined by the 'marker' keyword argument and the fmt string \"g-*\" (-> marker='*'). The keyword argument will take precedence.\n",
      "  ax2[1,1].plot(df.index,df['Data Science'],'g-*',label='DSA',marker='d')\n"
     ]
    },
    {
     "data": {
      "text/plain": [
       "Text(0.5, 1.0, 'DBMS')"
      ]
     },
     "execution_count": 73,
     "metadata": {},
     "output_type": "execute_result"
    },
    {
     "data": {
      "image/png": "[encoded data removed]",
      "text/plain": [
       "<Figure size 640x480 with 4 Axes>"
      ]
     },
     "metadata": {},
     "output_type": "display_data"
    }
   ],
   "source": [
    "df=pd.DataFrame(np.random.randint(1,100,(4,3)),index=['Teerth','Naitik','Riya','Fenil'],columns=['Python','Data Science','DBMS'])\n",
    "df\n",
    "fig2, ax2=plt.subplots(2,2,sharex=True,sharey=True,layout='constrained')\n",
    "\n",
    "ax2[0,0].plot(df.index,df.Python,'r-.',label='Python',lw='0.75',marker='s')\n",
    "ax2[0,0].legend()\n",
    "ax2[0,0].set_title('Python')\n",
    "# ax2[0,0].set_xlabel('Marks')\n",
    "\n",
    "ax2[0,1].plot(df.index,df.DBMS,'b--',label='DBMS',lw='0.25',marker='o')\n",
    "ax2[0,1].legend()\n",
    "ax2[0,1].set_title('Data S')\n",
    "\n",
    "ax2[1,0].plot(df.index,df['Data Science'],'g-*',label='DSA',marker='d')\n",
    "ax2[1,0].legend()\n",
    "ax2[1,0].set_title('DSA')\n",
    "\n",
    "ax2[1,1].plot(df.index,df.Python,'r-.',label='Python',lw='1.25',marker='^')#'rgbcymk' is the colour red\n",
    "ax2[1,1].plot(df.index,df.DBMS,'b--',label='DBMS',lw='1.25',marker='^')\n",
    "ax2[1,1].plot(df.index,df['Data Science'],'g-*',label='Data Science',lw='1.25',marker='^')\n",
    "\n",
    "# ax2[1,1].legend()\n",
    "# ax2[1,1].set_title('DBMS')\n",
    "\n",
    "ax2[1,1].plot(df.index,df['Data Science'],'g-*',label='DSA',marker='d')\n",
    "ax2[1,1].legend()\n",
    "ax2[1,1].set_title('DBMS')\n"
   ]
  },
  {
   "cell_type": "code",
   "execution_count": null,
   "id": "8f269e15",
   "metadata": {},
   "outputs": [],
   "source": []
  },
  {
   "cell_type": "code",
   "execution_count": null,
   "id": "ed97ed8a",
   "metadata": {},
   "outputs": [],
   "source": []
  }
 ],
 "metadata": {
  "kernelspec": {
   "display_name": "Python 3 (ipykernel)",
   "language": "python",
   "name": "python3"
  },
  "language_info": {
   "codemirror_mode": {
    "name": "ipython",
    "version": 3
   },
   "file_extension": ".py",
   "mimetype": "text/x-python",
   "name": "python",
   "nbconvert_exporter": "python",
   "pygments_lexer": "ipython3",
   "version": "3.9.13"
  }
 },
 "nbformat": 4,
 "nbformat_minor": 5
}
